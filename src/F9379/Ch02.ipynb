{
  "nbformat": 4,
  "nbformat_minor": 0,
  "metadata": {
    "colab": {
      "name": "Ch02.ipynb",
      "version": "0.3.2",
      "provenance": []
    },
    "kernelspec": {
      "name": "python3",
      "display_name": "Python 3"
    },
    "accelerator": "TPU"
  },
  "cells": [
    {
      "metadata": {
        "id": "OmAT4DpvlPgw",
        "colab_type": "text"
      },
      "cell_type": "markdown",
      "source": [
        "# 2-1 初探神經網路"
      ]
    },
    {
      "metadata": {
        "id": "zJ6GNfwkIv2E",
        "colab_type": "code",
        "outputId": "18c1cc01-1af3-40a1-b7f9-226ca9f27079",
        "colab": {
          "base_uri": "https://localhost:8080/",
          "height": 51
        }
      },
      "cell_type": "code",
      "source": [
        "import keras\n",
        "keras.__version__"
      ],
      "execution_count": 1,
      "outputs": [
        {
          "output_type": "stream",
          "text": [
            "Using TensorFlow backend.\n"
          ],
          "name": "stderr"
        },
        {
          "output_type": "execute_result",
          "data": {
            "text/plain": [
              "'2.2.4'"
            ]
          },
          "metadata": {
            "tags": []
          },
          "execution_count": 1
        }
      ]
    },
    {
      "metadata": {
        "id": "xcZX2qTjKvRj",
        "colab_type": "text"
      },
      "cell_type": "markdown",
      "source": [
        "### 程式 2.1 在 Keras 中載入 MNIST 資料集"
      ]
    },
    {
      "metadata": {
        "id": "bQPDMgWgKtg0",
        "colab_type": "code",
        "colab": {}
      },
      "cell_type": "code",
      "source": [
        "from keras.datasets import mnist  #從 keras 的 datasets 匯入 mnist 資料集\n",
        "\n",
        "(train_images, train_labels), (test_images, test_labels) = mnist.load_data()\n",
        "#用 mnist.load_data() 取得 mnist 資料集, 並存 (打包) 成 tuple (Python 語法是：只要有逗號, 沒有小括號也會被看成是 tuple, 所以 (train_images, train_labels), (test_images, test_labels) 等同於 ((train_images, train_labels), (test_images, test_labels)), 此 tuple 又內含兩個 tuple"
      ],
      "execution_count": 0,
      "outputs": []
    },
    {
      "metadata": {
        "id": "aYCdOXtWlZtv",
        "colab_type": "text"
      },
      "cell_type": "markdown",
      "source": [
        "### 程式 2.2 了解訓練資料"
      ]
    },
    {
      "metadata": {
        "id": "2gDuo5GLLgpk",
        "colab_type": "code",
        "outputId": "5c154881-5cc2-4e97-f981-3a33fe911acc",
        "colab": {
          "base_uri": "https://localhost:8080/",
          "height": 34
        }
      },
      "cell_type": "code",
      "source": [
        "train_images.shape  #train_image 為 NumPy 的 ndarray 物件\n",
        "                    #train_image 的 shape 屬性為 3 軸, 60000 維 x28 維 x28 維"
      ],
      "execution_count": 3,
      "outputs": [
        {
          "output_type": "execute_result",
          "data": {
            "text/plain": [
              "(60000, 28, 28)"
            ]
          },
          "metadata": {
            "tags": []
          },
          "execution_count": 3
        }
      ]
    },
    {
      "metadata": {
        "id": "f1q0lg1rLhlq",
        "colab_type": "code",
        "outputId": "6668555b-0354-4249-c69d-c4e82a591b92",
        "colab": {
          "base_uri": "https://localhost:8080/",
          "height": 34
        }
      },
      "cell_type": "code",
      "source": [
        "len(train_labels)\n",
        "                    #標籤也有 60000 個"
      ],
      "execution_count": 4,
      "outputs": [
        {
          "output_type": "execute_result",
          "data": {
            "text/plain": [
              "60000"
            ]
          },
          "metadata": {
            "tags": []
          },
          "execution_count": 4
        }
      ]
    },
    {
      "metadata": {
        "id": "lZUUzaFlLjvM",
        "colab_type": "code",
        "outputId": "42941a50-cd08-4593-b9dc-5490018418f4",
        "colab": {
          "base_uri": "https://localhost:8080/",
          "height": 34
        }
      },
      "cell_type": "code",
      "source": [
        "train_labels\n",
        "                    #標籤是 0-9 之間的數字, 資料型別為 uint8"
      ],
      "execution_count": 5,
      "outputs": [
        {
          "output_type": "execute_result",
          "data": {
            "text/plain": [
              "array([5, 0, 4, ..., 5, 6, 8], dtype=uint8)"
            ]
          },
          "metadata": {
            "tags": []
          },
          "execution_count": 5
        }
      ]
    },
    {
      "metadata": {
        "id": "SHTUnnltlmif",
        "colab_type": "text"
      },
      "cell_type": "markdown",
      "source": [
        "### 程式 2.3 了解測試資料"
      ]
    },
    {
      "metadata": {
        "id": "WT5l52d_Lnws",
        "colab_type": "code",
        "outputId": "b4b8433c-e5cc-473c-d3c4-2a3f063539a0",
        "colab": {
          "base_uri": "https://localhost:8080/",
          "height": 34
        }
      },
      "cell_type": "code",
      "source": [
        "test_images.shape  \n",
        "                    #shape 為 3 軸, 10000 維 x28 維 x28 維"
      ],
      "execution_count": 6,
      "outputs": [
        {
          "output_type": "execute_result",
          "data": {
            "text/plain": [
              "(10000, 28, 28)"
            ]
          },
          "metadata": {
            "tags": []
          },
          "execution_count": 6
        }
      ]
    },
    {
      "metadata": {
        "id": "3mzUFbbhLqCV",
        "colab_type": "code",
        "outputId": "2ea87956-6730-4556-babd-265325d77886",
        "colab": {
          "base_uri": "https://localhost:8080/",
          "height": 34
        }
      },
      "cell_type": "code",
      "source": [
        "len(test_labels)\n",
        "                    #標籤也有 10000 個"
      ],
      "execution_count": 7,
      "outputs": [
        {
          "output_type": "execute_result",
          "data": {
            "text/plain": [
              "10000"
            ]
          },
          "metadata": {
            "tags": []
          },
          "execution_count": 7
        }
      ]
    },
    {
      "metadata": {
        "id": "9d90IS-UlxJG",
        "colab_type": "code",
        "outputId": "34c2c6c1-1c9a-421e-c8c9-5dcf044e097a",
        "colab": {
          "base_uri": "https://localhost:8080/",
          "height": 34
        }
      },
      "cell_type": "code",
      "source": [
        "test_labels\n",
        "                    #標籤是 0-9 之間的數字, 資料型別為 uint8"
      ],
      "execution_count": 8,
      "outputs": [
        {
          "output_type": "execute_result",
          "data": {
            "text/plain": [
              "array([7, 2, 1, ..., 4, 5, 6], dtype=uint8)"
            ]
          },
          "metadata": {
            "tags": []
          },
          "execution_count": 8
        }
      ]
    },
    {
      "metadata": {
        "id": "4f1pp2E2l2_W",
        "colab_type": "text"
      },
      "cell_type": "markdown",
      "source": [
        "### 程式 2.4 神經網路架構"
      ]
    },
    {
      "metadata": {
        "id": "5GSN08toLrjJ",
        "colab_type": "code",
        "outputId": "87a4e93f-880b-4a97-87aa-826b3bd82d2e",
        "colab": {
          "base_uri": "https://localhost:8080/",
          "height": 88
        }
      },
      "cell_type": "code",
      "source": [
        "from keras import models\n",
        "from keras import layers\n",
        "\n",
        "network = models.Sequential()\n",
        "network.add(layers.Dense(512, activation='relu', input_shape=(28 * 28,)))\n",
        "network.add(layers.Dense(10, activation='softmax'))"
      ],
      "execution_count": 9,
      "outputs": [
        {
          "output_type": "stream",
          "text": [
            "WARNING:tensorflow:From /usr/local/lib/python3.6/dist-packages/tensorflow/python/framework/op_def_library.py:263: colocate_with (from tensorflow.python.framework.ops) is deprecated and will be removed in a future version.\n",
            "Instructions for updating:\n",
            "Colocations handled automatically by placer.\n"
          ],
          "name": "stdout"
        }
      ]
    },
    {
      "metadata": {
        "id": "ApZVbhGCmGzP",
        "colab_type": "text"
      },
      "cell_type": "markdown",
      "source": [
        "### 程式 2.5 編譯步驟"
      ]
    },
    {
      "metadata": {
        "id": "0DT06tlgLtRe",
        "colab_type": "code",
        "colab": {}
      },
      "cell_type": "code",
      "source": [
        "network.compile(optimizer='rmsprop',\n",
        "                loss='categorical_crossentropy',\n",
        "                metrics=['accuracy'])"
      ],
      "execution_count": 0,
      "outputs": []
    },
    {
      "metadata": {
        "id": "JOJmk8BhmXV5",
        "colab_type": "text"
      },
      "cell_type": "markdown",
      "source": [
        "### 程式 2.6 準備圖片資料"
      ]
    },
    {
      "metadata": {
        "id": "___wIR7FdDlg",
        "colab_type": "code",
        "colab": {}
      },
      "cell_type": "code",
      "source": [
        "train_images = train_images.reshape((60000, 28 * 28))  #reshape 是 NumPy 陣列的 method\n",
        "train_images = train_images.astype('float32') / 255\n",
        "\n",
        "test_images = test_images.reshape((10000, 28 * 28))\n",
        "test_images = test_images.astype('float32') / 255"
      ],
      "execution_count": 0,
      "outputs": []
    },
    {
      "metadata": {
        "id": "atq09Fc_mXt3",
        "colab_type": "text"
      },
      "cell_type": "markdown",
      "source": [
        "### 程式 2.7 準備標籤"
      ]
    },
    {
      "metadata": {
        "id": "UllKeWFfdDjB",
        "colab_type": "code",
        "colab": {}
      },
      "cell_type": "code",
      "source": [
        "from keras.utils import to_categorical\n",
        "\n",
        "train_labels = to_categorical(train_labels)\n",
        "test_labels = to_categorical(test_labels)"
      ],
      "execution_count": 0,
      "outputs": []
    },
    {
      "metadata": {
        "id": "2KvlgNftmYO3",
        "colab_type": "text"
      },
      "cell_type": "markdown",
      "source": [
        "### 程式 2.8 檢驗神經網路模型"
      ]
    },
    {
      "metadata": {
        "id": "VhVjqp__dDgz",
        "colab_type": "code",
        "outputId": "2d09cc54-72e4-48ff-e6d1-56b8c43f8f52",
        "colab": {
          "base_uri": "https://localhost:8080/",
          "height": 275
        }
      },
      "cell_type": "code",
      "source": [
        "network.fit(train_images, train_labels, epochs=5, batch_size=128)"
      ],
      "execution_count": 13,
      "outputs": [
        {
          "output_type": "stream",
          "text": [
            "WARNING:tensorflow:From /usr/local/lib/python3.6/dist-packages/tensorflow/python/ops/math_ops.py:3066: to_int32 (from tensorflow.python.ops.math_ops) is deprecated and will be removed in a future version.\n",
            "Instructions for updating:\n",
            "Use tf.cast instead.\n",
            "Epoch 1/5\n",
            "60000/60000 [==============================] - 7s 114us/step - loss: 0.2572 - acc: 0.9259\n",
            "Epoch 2/5\n",
            "60000/60000 [==============================] - 7s 111us/step - loss: 0.1042 - acc: 0.9688\n",
            "Epoch 3/5\n",
            "60000/60000 [==============================] - 6s 108us/step - loss: 0.0687 - acc: 0.9791\n",
            "Epoch 4/5\n",
            "60000/60000 [==============================] - 6s 107us/step - loss: 0.0499 - acc: 0.9854\n",
            "Epoch 5/5\n",
            "60000/60000 [==============================] - 6s 106us/step - loss: 0.0377 - acc: 0.9887\n"
          ],
          "name": "stdout"
        },
        {
          "output_type": "execute_result",
          "data": {
            "text/plain": [
              "<keras.callbacks.History at 0x7f974d365cc0>"
            ]
          },
          "metadata": {
            "tags": []
          },
          "execution_count": 13
        }
      ]
    },
    {
      "metadata": {
        "id": "m_MhA-q8mY0f",
        "colab_type": "text"
      },
      "cell_type": "markdown",
      "source": [
        "### 程式 2.9 評估測試資料的表現"
      ]
    },
    {
      "metadata": {
        "id": "fTddJOzndDeA",
        "colab_type": "code",
        "outputId": "12ec00a0-af3c-4db9-ed50-4b42cd9437c9",
        "colab": {
          "base_uri": "https://localhost:8080/",
          "height": 51
        }
      },
      "cell_type": "code",
      "source": [
        "test_loss, test_acc = network.evaluate(test_images, test_labels)\n",
        "print('test_acc:', test_acc)"
      ],
      "execution_count": 14,
      "outputs": [
        {
          "output_type": "stream",
          "text": [
            "10000/10000 [==============================] - 1s 55us/step\n",
            "test_acc: 0.98\n"
          ],
          "name": "stdout"
        }
      ]
    },
    {
      "metadata": {
        "id": "5t7uUjFInX4O",
        "colab_type": "text"
      },
      "cell_type": "markdown",
      "source": [
        "# 2-2 神經網路的資料表示法"
      ]
    },
    {
      "metadata": {
        "id": "1SZpoVV3tRdh",
        "colab_type": "text"
      },
      "cell_type": "markdown",
      "source": [
        "## 2-2-1 純量 (0D 張量)"
      ]
    },
    {
      "metadata": {
        "id": "YhpPePfQsc_e",
        "colab_type": "code",
        "outputId": "afb22203-7f26-4ecb-e31c-5d453d6d30bf",
        "colab": {
          "base_uri": "https://localhost:8080/",
          "height": 34
        }
      },
      "cell_type": "code",
      "source": [
        "import numpy as np\n",
        "x = np.array(12)      #用 12 這個數值去建一個張量\n",
        "x                     #看看張量的內容\n",
        "                      #原來 Numpy 的 array 就是 tensor"
      ],
      "execution_count": 15,
      "outputs": [
        {
          "output_type": "execute_result",
          "data": {
            "text/plain": [
              "array(12)"
            ]
          },
          "metadata": {
            "tags": []
          },
          "execution_count": 15
        }
      ]
    },
    {
      "metadata": {
        "id": "-OaapxgHsc0l",
        "colab_type": "code",
        "outputId": "bd60569c-5a80-46b8-8400-6586e14624fa",
        "colab": {
          "base_uri": "https://localhost:8080/",
          "height": 34
        }
      },
      "cell_type": "code",
      "source": [
        "x.ndim                #看看 ndim 屬性 (就是階數)\n",
        "                      #ndim 為 0, 是 0 階張量 (純量)"
      ],
      "execution_count": 16,
      "outputs": [
        {
          "output_type": "execute_result",
          "data": {
            "text/plain": [
              "0"
            ]
          },
          "metadata": {
            "tags": []
          },
          "execution_count": 16
        }
      ]
    },
    {
      "metadata": {
        "id": "JS3lxZuZtrCP",
        "colab_type": "text"
      },
      "cell_type": "markdown",
      "source": [
        "## 2-2-2 向量 (1D 張量)"
      ]
    },
    {
      "metadata": {
        "id": "L0GldZ5Rtjt2",
        "colab_type": "code",
        "outputId": "e8667633-0974-4029-d742-2424b4fd88bb",
        "colab": {
          "base_uri": "https://localhost:8080/",
          "height": 34
        }
      },
      "cell_type": "code",
      "source": [
        "x = np.array([12, 3, 6, 14, 7])   #用 array() 建一個 5 維的 1 D 張量\n",
        "x                                 #看看張量的內容\n",
        "                                  #是一個含有 4 個元素 (4 維) 的 1D 張量"
      ],
      "execution_count": 17,
      "outputs": [
        {
          "output_type": "execute_result",
          "data": {
            "text/plain": [
              "array([12,  3,  6, 14,  7])"
            ]
          },
          "metadata": {
            "tags": []
          },
          "execution_count": 17
        }
      ]
    },
    {
      "metadata": {
        "id": "eB6-0837scqm",
        "colab_type": "code",
        "outputId": "1b572e07-e0d5-4190-a44a-7a824bd5634d",
        "colab": {
          "base_uri": "https://localhost:8080/",
          "height": 34
        }
      },
      "cell_type": "code",
      "source": [
        "x.ndim                            #看看 ndim 屬性 (就是階數)\n",
        "                                  #ndim 為 1, 是 1 階張量 (向量)"
      ],
      "execution_count": 18,
      "outputs": [
        {
          "output_type": "execute_result",
          "data": {
            "text/plain": [
              "1"
            ]
          },
          "metadata": {
            "tags": []
          },
          "execution_count": 18
        }
      ]
    },
    {
      "metadata": {
        "id": "QJFLe8dat35r",
        "colab_type": "text"
      },
      "cell_type": "markdown",
      "source": [
        "## 2-2-3 矩陣 (2D 張量)"
      ]
    },
    {
      "metadata": {
        "id": "mheFp73rt3no",
        "colab_type": "code",
        "colab": {}
      },
      "cell_type": "code",
      "source": [
        "x = np.array([[5, 78, 2, 34, 0],    #用 array() 建一個 3x5 (維) 的 2D 張量\n",
        "              [6, 79, 3, 35, 1],\n",
        "              [7, 80, 4, 36, 2]])"
      ],
      "execution_count": 0,
      "outputs": []
    },
    {
      "metadata": {
        "id": "8VmelxcVtoxx",
        "colab_type": "code",
        "outputId": "e4bbeb4a-805f-4b5a-fafa-a9ee4ea3f541",
        "colab": {
          "base_uri": "https://localhost:8080/",
          "height": 34
        }
      },
      "cell_type": "code",
      "source": [
        "x.ndim                              #看看 ndim 屬性 (就是階數)"
      ],
      "execution_count": 20,
      "outputs": [
        {
          "output_type": "execute_result",
          "data": {
            "text/plain": [
              "2"
            ]
          },
          "metadata": {
            "tags": []
          },
          "execution_count": 20
        }
      ]
    },
    {
      "metadata": {
        "id": "N8qJFIhxuGT4",
        "colab_type": "text"
      },
      "cell_type": "markdown",
      "source": [
        "## 2-2-4 3D 張量和高階張量"
      ]
    },
    {
      "metadata": {
        "id": "6TZl84DWtovP",
        "colab_type": "code",
        "colab": {}
      },
      "cell_type": "code",
      "source": [
        " x = np.array([[[5, 78, 2, 34, 0],         #用 array() 建一個 3x3x5 (維) 的 3D 張量\n",
        "                [6, 79, 3, 35, 1], \n",
        "                [7, 80, 4, 36, 2]],\n",
        "               [[5, 78, 2, 34, 0],\n",
        "                [6, 79, 3, 35, 1],\n",
        "                [7, 80, 4, 36, 2]],\n",
        "               [[5, 78, 2, 34, 0],\n",
        "                [6, 79, 3, 35, 1],\n",
        "                [7, 80, 4, 36, 2]]])"
      ],
      "execution_count": 0,
      "outputs": []
    },
    {
      "metadata": {
        "id": "N5Ni8IoJtos3",
        "colab_type": "code",
        "outputId": "111a69c4-1508-4b19-af0d-bb699bcc52b5",
        "colab": {
          "base_uri": "https://localhost:8080/",
          "height": 34
        }
      },
      "cell_type": "code",
      "source": [
        "x.ndim                                     #看看 ndim 屬性 (就是階數)\n",
        "                                           #ndim 為 3, 是 3 階張量"
      ],
      "execution_count": 22,
      "outputs": [
        {
          "output_type": "execute_result",
          "data": {
            "text/plain": [
              "3"
            ]
          },
          "metadata": {
            "tags": []
          },
          "execution_count": 22
        }
      ]
    },
    {
      "metadata": {
        "id": "h3JtE9aduUVO",
        "colab_type": "text"
      },
      "cell_type": "markdown",
      "source": [
        "## 2-2-5 關鍵屬性"
      ]
    },
    {
      "metadata": {
        "id": "72DclNNotoqN",
        "colab_type": "code",
        "colab": {}
      },
      "cell_type": "code",
      "source": [
        "from keras.datasets import mnist\n",
        "\n",
        "(train_images, train_labels), (test_images, test_labels) = mnist.load_data()"
      ],
      "execution_count": 0,
      "outputs": []
    },
    {
      "metadata": {
        "id": "0VYKvRU6tonq",
        "colab_type": "code",
        "outputId": "b9221bef-af2d-4bd9-e6cf-b0a53fbc304e",
        "colab": {
          "base_uri": "https://localhost:8080/",
          "height": 34
        }
      },
      "cell_type": "code",
      "source": [
        "print(train_images.ndim)\n",
        "                            #ndim 為 3, 有 3 個軸"
      ],
      "execution_count": 24,
      "outputs": [
        {
          "output_type": "stream",
          "text": [
            "3\n"
          ],
          "name": "stdout"
        }
      ]
    },
    {
      "metadata": {
        "id": "4Jlf0CottolM",
        "colab_type": "code",
        "outputId": "b340f17a-a8cb-4490-b497-f528fa8269de",
        "colab": {
          "base_uri": "https://localhost:8080/",
          "height": 34
        }
      },
      "cell_type": "code",
      "source": [
        "print(train_images.shape)\n",
        "                            #shape 為 60000x28x28 維的 3D 張量 (有 3 個元素)"
      ],
      "execution_count": 25,
      "outputs": [
        {
          "output_type": "stream",
          "text": [
            "(60000, 28, 28)\n"
          ],
          "name": "stdout"
        }
      ]
    },
    {
      "metadata": {
        "id": "_RIVEqrOtoii",
        "colab_type": "code",
        "outputId": "dcaf8224-96dc-418e-f51d-9750269834e8",
        "colab": {
          "base_uri": "https://localhost:8080/",
          "height": 34
        }
      },
      "cell_type": "code",
      "source": [
        "print(train_images.dtype)\n",
        "                            #元素的資料型別為 0~255 的整數"
      ],
      "execution_count": 26,
      "outputs": [
        {
          "output_type": "stream",
          "text": [
            "uint8\n"
          ],
          "name": "stdout"
        }
      ]
    },
    {
      "metadata": {
        "id": "aJvG8K-0u-st",
        "colab_type": "text"
      },
      "cell_type": "markdown",
      "source": [
        "### 程式 2.10 顯示第 4 個數字的圖像"
      ]
    },
    {
      "metadata": {
        "id": "1zekK0CItogH",
        "colab_type": "code",
        "outputId": "23931562-a74a-4b4f-9df5-bbbe58306585",
        "colab": {
          "base_uri": "https://localhost:8080/",
          "height": 347
        }
      },
      "cell_type": "code",
      "source": [
        "digit = train_images[4]\n",
        "\n",
        "import matplotlib.pyplot as plt\n",
        "plt.imshow(digit, cmap=plt.cm.binary)\n",
        "plt.show()"
      ],
      "execution_count": 27,
      "outputs": [
        {
          "output_type": "display_data",
          "data": {
            "image/png": "[encoded data removed]",
            "text/plain": [
              "<Figure size 576x396 with 1 Axes>"
            ]
          },
          "metadata": {
            "tags": []
          }
        }
      ]
    },
    {
      "metadata": {
        "id": "adiZCeFXWpoY",
        "colab_type": "text"
      },
      "cell_type": "markdown",
      "source": [
        "## 2-2-6 在 Numpy 中調整張量"
      ]
    },
    {
      "metadata": {
        "id": "h2L-UqmZWxF_",
        "colab_type": "code",
        "outputId": "b325a636-1f3e-4701-daa5-95c153596dbc",
        "colab": {
          "base_uri": "https://localhost:8080/",
          "height": 34
        }
      },
      "cell_type": "code",
      "source": [
        "my_slice = train_images[10:100]  #關於切片可參考 \"Python 技術者們．實踐！一書中的 2-1 節的使用切片(Slicing) 的詳細說明\n",
        "print(my_slice.shape)"
      ],
      "execution_count": 28,
      "outputs": [
        {
          "output_type": "stream",
          "text": [
            "(90, 28, 28)\n"
          ],
          "name": "stdout"
        }
      ]
    },
    {
      "metadata": {
        "id": "4LeGUaTvWw9l",
        "colab_type": "code",
        "outputId": "0aab377d-875e-4c90-84ca-84fd8271182d",
        "colab": {
          "base_uri": "https://localhost:8080/",
          "height": 34
        }
      },
      "cell_type": "code",
      "source": [
        "my_slice = train_images[10:100, :, :]  #等同於上面的寫法\n",
        "my_slice.shape"
      ],
      "execution_count": 29,
      "outputs": [
        {
          "output_type": "execute_result",
          "data": {
            "text/plain": [
              "(90, 28, 28)"
            ]
          },
          "metadata": {
            "tags": []
          },
          "execution_count": 29
        }
      ]
    },
    {
      "metadata": {
        "id": "d-iy5PfWW-3h",
        "colab_type": "code",
        "outputId": "3413d0e2-2fa8-4243-fbc9-200cb75cb398",
        "colab": {
          "base_uri": "https://localhost:8080/",
          "height": 34
        }
      },
      "cell_type": "code",
      "source": [
        "my_slice = train_images[10:100, 0:28, 0:28]  #同樣等同於上的寫法\n",
        "my_slice.shape"
      ],
      "execution_count": 30,
      "outputs": [
        {
          "output_type": "execute_result",
          "data": {
            "text/plain": [
              "(90, 28, 28)"
            ]
          },
          "metadata": {
            "tags": []
          },
          "execution_count": 30
        }
      ]
    },
    {
      "metadata": {
        "id": "THOXkXIHW-16",
        "colab_type": "code",
        "colab": {}
      },
      "cell_type": "code",
      "source": [
        "my_slice = train_images[:, 14:, 14:]  #這裡的 14: 就等於是 14:28"
      ],
      "execution_count": 0,
      "outputs": []
    },
    {
      "metadata": {
        "id": "uq1TFg3gW-zT",
        "colab_type": "code",
        "colab": {}
      },
      "cell_type": "code",
      "source": [
        "my_slice = train_images[:, 7:-7, 7:-7]"
      ],
      "execution_count": 0,
      "outputs": []
    },
    {
      "metadata": {
        "id": "IUu1LtqcXoi6",
        "colab_type": "text"
      },
      "cell_type": "markdown",
      "source": [
        "## 2-2-7 資料批次 (batch) 的概念"
      ]
    },
    {
      "metadata": {
        "id": "8Dhip5ggW-wb",
        "colab_type": "code",
        "colab": {}
      },
      "cell_type": "code",
      "source": [
        "batch = train_images[:128]  #把 train_images 切片為 128 個圖像為一批 batch"
      ],
      "execution_count": 0,
      "outputs": []
    },
    {
      "metadata": {
        "id": "pRg1OTyKW-tz",
        "colab_type": "code",
        "colab": {}
      },
      "cell_type": "code",
      "source": [
        "batch = train_images[128:256]"
      ],
      "execution_count": 0,
      "outputs": []
    },
    {
      "metadata": {
        "id": "ICLO1H0lW-q7",
        "colab_type": "code",
        "colab": {}
      },
      "cell_type": "code",
      "source": [
        "# 可以修改程式的 n 值, 找到你想測試的批次量\n",
        "#batch = train_images[128 * n:128 * (n + 1)]"
      ],
      "execution_count": 0,
      "outputs": []
    },
    {
      "metadata": {
        "id": "rgEUZjCkbg-O",
        "colab_type": "text"
      },
      "cell_type": "markdown",
      "source": [
        "# 2-3 神經網路的工具：張量運算"
      ]
    },
    {
      "metadata": {
        "id": "LG8X4vgocgbI",
        "colab_type": "text"
      },
      "cell_type": "markdown",
      "source": [
        "## 2-3-1 元素間的運算"
      ]
    },
    {
      "metadata": {
        "id": "K2XK_fuQtodZ",
        "colab_type": "code",
        "colab": {}
      },
      "cell_type": "code",
      "source": [
        "def naive_relu(x):\n",
        "    assert len(x.shape) == 2   #x 是一個 2D Numpy 張量\n",
        "\n",
        "    x = x.copy()  #避免覆寫到輸入張量 mp\n",
        "    for i in range(x.shape[0]):\n",
        "        for j in range(x.shape[1]):\n",
        "            x[i, j] = max(x[i, j], 0)\n",
        "    return x"
      ],
      "execution_count": 0,
      "outputs": []
    },
    {
      "metadata": {
        "id": "xtQ24Ouwtoa8",
        "colab_type": "code",
        "colab": {}
      },
      "cell_type": "code",
      "source": [
        "def naive_add(x, y):\n",
        "    assert len(x.shape) == 2  #x 與 y 是都是 2D Numpy 張量\n",
        "    assert x.shape == y.shape\n",
        "    \n",
        "    x = x.copy()  #避免覆寫到輸入張量 mpy\n",
        "    for i in range(x.shape[0]):\n",
        "        for j in range(x.shape[1]):\n",
        "            x[i, j] += y[i, j]\n",
        "    return x"
      ],
      "execution_count": 0,
      "outputs": []
    },
    {
      "metadata": {
        "id": "fXtReEkocrn6",
        "colab_type": "code",
        "colab": {}
      },
      "cell_type": "code",
      "source": [
        "#import numpy as np\n",
        "\n",
        "#z = x + y  #元素間的相加運算\n",
        "\n",
        "#z = np.maximum(z, 0.)  #元素間的 relu 運算"
      ],
      "execution_count": 0,
      "outputs": []
    },
    {
      "metadata": {
        "id": "EWkekCucdeMH",
        "colab_type": "text"
      },
      "cell_type": "markdown",
      "source": [
        "## 2-3-2 張量擴張 (Broadcasting)"
      ]
    },
    {
      "metadata": {
        "id": "E9hhJAsZtoTn",
        "colab_type": "code",
        "colab": {}
      },
      "cell_type": "code",
      "source": [
        "def naive_add_matrix_and_vector(x, y):\n",
        "    assert len(x.shape) == 2  #x 是一個 2D Numpy 張量\n",
        "    assert len(y.shape) == 1  #y 是一個 Numpy 向量\n",
        "    assert x.shape[1] == y.shape[0]\n",
        "\n",
        "    x = x.copy()  #避免覆寫到輸入張量\n",
        "    for i in range(x.shape[0]):\n",
        "        for j in range(x.shape[1]):\n",
        "            x[i, j] += y[j]\n",
        "    return x"
      ],
      "execution_count": 0,
      "outputs": []
    },
    {
      "metadata": {
        "id": "OfQe14gwdsES",
        "colab_type": "code",
        "outputId": "851b3dc2-9cf2-4f73-ccbc-0f93ea57412b",
        "colab": {
          "base_uri": "https://localhost:8080/",
          "height": 34
        }
      },
      "cell_type": "code",
      "source": [
        "import numpy as np\n",
        "\n",
        "x = np.random.random((64, 3, 32, 10))  #x 是一個隨機張量, shape 為 (64, 3, 32, 10)\n",
        "y = np.random.random((32, 10))  #是一個隨機張量, shape 為 (32, 10)\n",
        "\n",
        "z = np.maximum(x, y)  #輸出結果 z 的 shape 就如同 x 一樣是 (64, 3, 32, 10),意思是 y 已先被擴張了\n",
        "z.shape"
      ],
      "execution_count": 40,
      "outputs": [
        {
          "output_type": "execute_result",
          "data": {
            "text/plain": [
              "(64, 3, 32, 10)"
            ]
          },
          "metadata": {
            "tags": []
          },
          "execution_count": 40
        }
      ]
    },
    {
      "metadata": {
        "id": "0JVcuZdtd1N8",
        "colab_type": "text"
      },
      "cell_type": "markdown",
      "source": [
        "## 2-3-3 張量點積 (dot) 運算"
      ]
    },
    {
      "metadata": {
        "id": "b7lt13KMd4T6",
        "colab_type": "code",
        "colab": {}
      },
      "cell_type": "code",
      "source": [
        "import numpy as np\n",
        "\n",
        "#z = np.dot(x, y)  \n",
        "# x 向量與 y 向量間的點積運算"
      ],
      "execution_count": 0,
      "outputs": []
    },
    {
      "metadata": {
        "id": "jM0G99stLCgV",
        "colab_type": "code",
        "colab": {}
      },
      "cell_type": "code",
      "source": [
        "def naive_vector_dot(x, y):\n",
        "    assert len(x.shape) == 1\n",
        "    assert len(y.shape) == 1  # x 與 y 是 Numpy 向量\n",
        "    assert x.shape[0] == y.shape[0]\n",
        "    z = 0.\n",
        "    for i in range(x.shape[0]):\n",
        "        z += x[i] * y[i]  # 就是x[0]*y[0] + x[1]*y[1] + x[2]*y[2] + x[3]*y[3]….\n",
        "    return z"
      ],
      "execution_count": 0,
      "outputs": []
    },
    {
      "metadata": {
        "id": "-f6XmXAdLCcF",
        "colab_type": "code",
        "colab": {}
      },
      "cell_type": "code",
      "source": [
        "import numpy as np\n",
        "\n",
        "def naive_matrix_vector_dot(x, y):\n",
        "    assert len(x.shape) == 2\n",
        "    assert len(y.shape) == 1\n",
        "    assert x.shape[1] == y.shape[0]\n",
        "\n",
        "    z = np.zeros(x.shape[0])        # z為與 x 第0軸形狀一樣, 數值為 0 的向量\n",
        "    for i in range(x.shape[0]):\n",
        "        for j in range(x.shape[1]):\n",
        "            z[i] += x[i, j] * y[j]               # z 的各元素值已被內層 for loop 填入了\n",
        "    return z"
      ],
      "execution_count": 0,
      "outputs": []
    },
    {
      "metadata": {
        "id": "NWdmN8RxLCWT",
        "colab_type": "code",
        "colab": {}
      },
      "cell_type": "code",
      "source": [
        "def naive_matrix_vector_dot(x, y):      #這是一個矩陣-向量的 dot\n",
        "    z = np.zeros(x.shape[0])\n",
        "    for i in range(x.shape[0]):\n",
        "        z[i] = naive_vector_dot(x[i, :], y)        #內部包著一個向量-向量的 dot\n",
        "    return z"
      ],
      "execution_count": 0,
      "outputs": []
    },
    {
      "metadata": {
        "id": "TuRioBZvOxAl",
        "colab_type": "code",
        "colab": {}
      },
      "cell_type": "code",
      "source": [
        "def naive_matrix_dot(x, y):\n",
        "    assert len(x.shape) == 2\n",
        "    assert len(y.shape) == 2\n",
        "    assert x.shape[1] == y.shape[0]    # x 與 y 是 Numpy 矩陣, x 的第 1 維的數量必須與 y 第 0 維的數量相等\n",
        "\n",
        "    z = np.zeros((x.shape[0], y.shape[1]))       #這裡會回數值為 0 的矩陣\n",
        "    for i in range(x.shape[0]):\n",
        "        for j in range(y.shape[1]):    #重複計算 x 各列數值與 y 各行數值\n",
        "            row_x = x[i, :]\n",
        "            column_y = y[:, j]\n",
        "            z[i, j] = naive_vector_dot(row_x, column_y)\n",
        "    return z"
      ],
      "execution_count": 0,
      "outputs": []
    },
    {
      "metadata": {
        "id": "FDYwhM6V29Sm",
        "colab_type": "text"
      },
      "cell_type": "markdown",
      "source": [
        "## 2-3-4 張量重塑"
      ]
    },
    {
      "metadata": {
        "id": "V3Aypogn3L45",
        "colab_type": "code",
        "colab": {}
      },
      "cell_type": "code",
      "source": [
        "from keras.datasets import mnist\n",
        "(train_images, train_labels), (test_images, test_labels) = mnist.load_data()"
      ],
      "execution_count": 0,
      "outputs": []
    },
    {
      "metadata": {
        "id": "QmHwn_6gfCPf",
        "colab_type": "code",
        "colab": {}
      },
      "cell_type": "code",
      "source": [
        "train_images = train_images.reshape((60000, 28 * 28))"
      ],
      "execution_count": 0,
      "outputs": []
    },
    {
      "metadata": {
        "id": "o0FZCzMQfCM0",
        "colab_type": "code",
        "outputId": "95a28e00-8160-41a5-ada3-439ddcf3e7fc",
        "colab": {
          "base_uri": "https://localhost:8080/",
          "height": 34
        }
      },
      "cell_type": "code",
      "source": [
        "x = np.array([[0., 1.], #產生一個 3x2 的張量\n",
        "              [2., 3.],\n",
        "              [4., 5.]])\n",
        "print(x.shape)"
      ],
      "execution_count": 48,
      "outputs": [
        {
          "output_type": "stream",
          "text": [
            "(3, 2)\n"
          ],
          "name": "stdout"
        }
      ]
    },
    {
      "metadata": {
        "id": "_H6tyfwEfCKK",
        "colab_type": "code",
        "outputId": "8945228b-bd99-4149-ed87-bbad20ca6d01",
        "colab": {
          "base_uri": "https://localhost:8080/",
          "height": 119
        }
      },
      "cell_type": "code",
      "source": [
        "x = x.reshape((6, 1))  #reshape 成 6x1\n",
        "x"
      ],
      "execution_count": 49,
      "outputs": [
        {
          "output_type": "execute_result",
          "data": {
            "text/plain": [
              "array([[0.],\n",
              "       [1.],\n",
              "       [2.],\n",
              "       [3.],\n",
              "       [4.],\n",
              "       [5.]])"
            ]
          },
          "metadata": {
            "tags": []
          },
          "execution_count": 49
        }
      ]
    },
    {
      "metadata": {
        "id": "z9AQmPiofCHa",
        "colab_type": "code",
        "outputId": "3baf97cc-506b-4018-f3f0-c64a0f7700cb",
        "colab": {
          "base_uri": "https://localhost:8080/",
          "height": 51
        }
      },
      "cell_type": "code",
      "source": [
        "x = x.reshape((2, 3))  #再 reshape 成 2x3\n",
        "x"
      ],
      "execution_count": 50,
      "outputs": [
        {
          "output_type": "execute_result",
          "data": {
            "text/plain": [
              "array([[0., 1., 2.],\n",
              "       [3., 4., 5.]])"
            ]
          },
          "metadata": {
            "tags": []
          },
          "execution_count": 50
        }
      ]
    },
    {
      "metadata": {
        "id": "CjGo1j35354V",
        "colab_type": "code",
        "outputId": "90c0968c-cf21-483c-e5c4-7366dbcfeb3c",
        "colab": {
          "base_uri": "https://localhost:8080/",
          "height": 34
        }
      },
      "cell_type": "code",
      "source": [
        "x = np.zeros((300, 20))  #創建一個數值全為 0, 形狀為 (300, 20) 的矩陣\n",
        "x = np.transpose(x)\n",
        "print(x.shape)"
      ],
      "execution_count": 51,
      "outputs": [
        {
          "output_type": "stream",
          "text": [
            "(20, 300)\n"
          ],
          "name": "stdout"
        }
      ]
    },
    {
      "metadata": {
        "id": "XFFEYEkjTHlV",
        "colab_type": "text"
      },
      "cell_type": "markdown",
      "source": [
        "# 2-5 回顧我們的第一個例子"
      ]
    },
    {
      "metadata": {
        "id": "aBlsJ8IyTQsS",
        "colab_type": "code",
        "colab": {}
      },
      "cell_type": "code",
      "source": [
        "import keras\n",
        "from keras import models\n",
        "from keras import layers\n",
        "keras.__version__\n",
        "\n",
        "from keras.datasets import mnist"
      ],
      "execution_count": 0,
      "outputs": []
    },
    {
      "metadata": {
        "id": "lqnYMWhaTIOj",
        "colab_type": "code",
        "colab": {}
      },
      "cell_type": "code",
      "source": [
        "(train_images, train_labels), (test_images, test_labels) = mnist.load_data()\n",
        "\n",
        "train_images = train_images.reshape((60000, 28 * 28))\n",
        "train_images = train_images.astype('float32') / 255\n",
        "\n",
        "test_images = test_images.reshape((10000, 28 * 28))\n",
        "test_images = test_images.astype('float32') / 255"
      ],
      "execution_count": 0,
      "outputs": []
    },
    {
      "metadata": {
        "id": "BEmQUC9OTXBq",
        "colab_type": "code",
        "colab": {}
      },
      "cell_type": "code",
      "source": [
        "network = models.Sequential()\n",
        "network.add(layers.Dense(512, activation='relu', input_shape=(28 * 28,)))\n",
        "network.add(layers.Dense(10, activation='softmax'))"
      ],
      "execution_count": 0,
      "outputs": []
    },
    {
      "metadata": {
        "id": "P33REIwkThCC",
        "colab_type": "code",
        "colab": {}
      },
      "cell_type": "code",
      "source": [
        "network.compile(optimizer='rmsprop',\n",
        "                loss='categorical_crossentropy',\n",
        "                metrics=['accuracy'])"
      ],
      "execution_count": 0,
      "outputs": []
    },
    {
      "metadata": {
        "id": "ukFnrf_gheh4",
        "colab_type": "code",
        "colab": {}
      },
      "cell_type": "code",
      "source": [
        "#network.fit(train_images, train_labels, epochs=5, batch_size=128)"
      ],
      "execution_count": 0,
      "outputs": []
    }
  ]
}