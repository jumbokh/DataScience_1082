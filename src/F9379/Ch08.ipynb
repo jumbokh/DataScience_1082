{
 "cells": [
  {
   "cell_type": "markdown",
   "metadata": {},
   "source": [
    "# 8-1 使用 LSTM 產生文字資料\n",
    "\n",
    "### 程式 8.1 建立針對不同的 temperature 設定，重新加權，計算新的機率分佈的函式 "
   ]
  },
  {
   "cell_type": "code",
   "execution_count": 12,
   "metadata": {
    "collapsed": true
   },
   "outputs": [],
   "source": [
    "import numpy as np\n",
    "\n",
    "def reweight_distribution(original_distribution, temperature=2):\n",
    "    distribution = np.log(original_distribution) / temperature\n",
    "    distribution = np.exp(distribution)\n",
    "    return distribution / np.sum(distribution)"
   ]
  },
  {
   "cell_type": "markdown",
   "metadata": {},
   "source": [
    "###  驗證重新加權，計算新的機率分佈的函式"
   ]
  },
  {
   "cell_type": "code",
   "execution_count": 13,
   "metadata": {},
   "outputs": [
    {
     "name": "stdout",
     "output_type": "stream",
     "text": [
      "[  1.00000000e+00   4.90909347e-91   4.90909347e-91]\n",
      "[ 0.58578644  0.20710678  0.20710678]\n",
      "[ 0.38102426  0.30948787  0.30948787]\n"
     ]
    }
   ],
   "source": [
    "ori_dstri = np.array([0.8, 0.1, 0.1])   # a、b、c 的機率分布\n",
    "\n",
    "new_dstri = reweight_distribution(ori_dstri, \n",
    "                                  temperature=0.01)  # 使用溫度 0.01 \n",
    "print(new_dstri)    # [1.00000000e+00 4.90909347e-91 4.90909347e-91]\n",
    "\n",
    "new_dstri = reweight_distribution(ori_dstri, \n",
    "                                  temperature=2) # 使用預設溫度 2\n",
    "print(new_dstri)    # [0.58578644 0.20710678 0.20710678]\n",
    "\n",
    "new_dstri = reweight_distribution(ori_dstri, \n",
    "                                  temperature=10) # 使用溫度 10\n",
    "print(new_dstri)    # [0.38102426 0.30948787 0.30948787]"
   ]
  },
  {
   "cell_type": "markdown",
   "metadata": {},
   "source": [
    "### 程式 8.2 下載和解析初始文字文件"
   ]
  },
  {
   "cell_type": "code",
   "execution_count": 14,
   "metadata": {},
   "outputs": [
    {
     "name": "stdout",
     "output_type": "stream",
     "text": [
      "Corpus length: 600893\n"
     ]
    }
   ],
   "source": [
    "import keras\n",
    "import numpy as np\n",
    "\n",
    "path = keras.utils.get_file(        # 取得文本檔案\n",
    "    'nietzsche.txt',                # 檔名 \n",
    "    origin='https://s3.amazonaws.com/text-datasets/nietzsche.txt')  # 檔案位置\n",
    "text = open(path, encoding='utf-8').read().lower()    # 讀取文本內容，並轉成小寫\n",
    "print('Corpus length:', len(text))  # 文本長度為 600893"
   ]
  },
  {
   "cell_type": "markdown",
   "metadata": {},
   "source": [
    "### 程式 8.3 向量化字元序列"
   ]
  },
  {
   "cell_type": "code",
   "execution_count": 15,
   "metadata": {},
   "outputs": [
    {
     "name": "stdout",
     "output_type": "stream",
     "text": [
      "Number of sequences: 200278\n",
      "Unique characters: 57\n",
      "Vectorization...\n",
      "(200278, 60, 57)\n",
      "(200278, 57)\n"
     ]
    }
   ],
   "source": [
    "maxlen = 60     # 每次 (step) 從文本中萃取 60 個字元作為序列資料\n",
    "step = 3        # 每 3 個字元為一個 step 進行萃取 \n",
    "\n",
    "sentences = []  # 存放萃取出的序列資料\n",
    "next_chars = [] # 存放對應目標 (萃取出來的序列資料的後一個字元)\n",
    "\n",
    "# 萃取序列資料 \n",
    "for i in range(0, len(text) - maxlen, step):\n",
    "    sentences.append(text[i: i + maxlen])\n",
    "    next_chars.append(text[i + maxlen])\n",
    "print('Number of sequences:', len(sentences))   # 共萃取出 200278 個序列資料\n",
    "\n",
    "# 產生文本中的 \"唯一\" 字元串列 (文本轉成 set 將重複字元刪除)\n",
    "chars = sorted(list(set(text))) \n",
    "print('Unique characters:', len(chars)) # 文本共使用 57 種字元\n",
    "\n",
    "# 將各個字元對應到 \"chars\" 串列中的索引值成為字典 (dict) 格式。即 {'\\n': 0,' ': 1, '!': 2,…}\n",
    "char_indices = dict((char, chars.index(char)) for char in chars)\n",
    "\n",
    "# 將字元經 One-hot 編碼成二元陣列\n",
    "print('Vectorization...')\n",
    "x = np.zeros((len(sentences), maxlen, len(chars)), dtype=np.bool)\n",
    "y = np.zeros((len(sentences), len(chars)), dtype=np.bool)\n",
    "for i, sentence in enumerate(sentences):\n",
    "    for t, char in enumerate(sentence):\n",
    "        x[i, t, char_indices[char]] = 1\n",
    "    y[i, char_indices[next_chars[i]]] = 1\n",
    "print(x.shape)  # (200278, 60, 57)\n",
    "print(y.shape)  # (200278, 57)"
   ]
  },
  {
   "cell_type": "markdown",
   "metadata": {},
   "source": [
    "### 程式 8.4 建立用於預測下一字元的模型"
   ]
  },
  {
   "cell_type": "code",
   "execution_count": 16,
   "metadata": {
    "collapsed": true
   },
   "outputs": [],
   "source": [
    "from keras import layers\n",
    "\n",
    "model = keras.models.Sequential()   # 建立序列式模型\n",
    "model.add(layers.LSTM(128, input_shape=(maxlen, len(chars))))\n",
    "model.add(layers.Dense(len(chars), activation='softmax'))"
   ]
  },
  {
   "cell_type": "markdown",
   "metadata": {},
   "source": [
    "### 程式 8.5 模型編譯設定"
   ]
  },
  {
   "cell_type": "code",
   "execution_count": 17,
   "metadata": {
    "collapsed": true
   },
   "outputs": [],
   "source": [
    "optimizer = keras.optimizers.RMSprop(lr=0.01)\n",
    "model.compile(loss='categorical_crossentropy', optimizer=optimizer)"
   ]
  },
  {
   "cell_type": "markdown",
   "metadata": {},
   "source": [
    "### 程式 8.6 建立從給定模型預測結果中取樣下一個字元的函數"
   ]
  },
  {
   "cell_type": "code",
   "execution_count": 18,
   "metadata": {
    "collapsed": true
   },
   "outputs": [],
   "source": [
    "def sample(preds, temperature=1.0):\n",
    "    preds = np.asarray(preds).astype('float64')\n",
    "    preds = np.log(preds) / temperature     # 重新加權計算 (熵)\n",
    "    exp_preds = np.exp(preds)               \n",
    "    preds = exp_preds / np.sum(exp_preds)   \n",
    "    probas = np.random.multinomial(1, preds, 1) # 丟入多項式分布中\n",
    "    return np.argmax(probas)"
   ]
  },
  {
   "cell_type": "markdown",
   "metadata": {},
   "source": [
    "### 程式 8.7 循環的文字生成"
   ]
  },
  {
   "cell_type": "code",
   "execution_count": 19,
   "metadata": {},
   "outputs": [
    {
     "name": "stdout",
     "output_type": "stream",
     "text": [
      "epoch 1\n",
      "Epoch 1/1\n",
      "200278/200278 [==============================] - 351s 2ms/step - loss: 2.0156\n",
      "--- 隨機初始文字: \"narrowest, meanest, least developed and yet cannot help look\"\n",
      "------ temperature: 0.2\n",
      "narrowest, meanest, least developed and yet cannot help look of the and the such the self-contervance of a more and the every and the experience of the more the such and the are and the soult the sure of the and the existion of the supery the acconsedting and the superness and the great the great the such and and the predession of the man and instinction of the every in the such in the expressition of the fained the selution of the believe and the more and\n",
      "------ temperature: 0.5\n",
      "n of the fained the selution of the believe and the more and such good every not and spretures to the grean in a ditcherding bad a dought in and as as and man of live man. the believe and the double in the consciritater as and and thing to belient of the which and mantion of the belien it is a more not such in the enderstand and and every in the gardand of the\n",
      "conscience of an incevil and the supertion, that orde in the man the greet we bad and speciarity-\n",
      "------ temperature: 1.0\n",
      "rtion, that orde in the man the greet we bad and speciarity-apsasifaared\n",
      "other not soul---crorristily scivic\n",
      "construnclity, as mathing the it\n",
      "is soulves and which a regard to as upon well with\n",
      "ellicity eurous\n",
      "divanger means,\" whore\n",
      "forminess. in that enliative scome of temed\n",
      "ellow. they remarded con spirituded bang, mast\n",
      "for at been also in rivally is frie d of instinanly it have so everysoundicitard its gar he was no belieffe,\" womaths vorality own nocten\n",
      "------ temperature: 1.2\n",
      "ard its gar he was no belieffe,\" womaths vorality own noctent evolkmancy\n",
      "wited be\n",
      "amwaunt him is\n",
      "andaraps rempadts; this pulersong bbong\" our gated ijugled to things this falsenhibre entult is\n",
      "anceetiin-surndur than\n",
      "whom the coftain \"mupurtenceove seejenctamtent\n",
      ". the properstingre wire assearn--a \"theerked pey. which queslited cavainifes, for cerstions of that gorleal somace, abselvences,\n",
      "\"dial, naegeds akinar his tonethinb forms upbiditialal oft--bewnate\n",
      "epoch 2\n",
      "Epoch 1/1\n",
      "200278/200278 [==============================] - 352s 2ms/step - loss: 1.6542\n",
      "--- 隨機初始文字: \"ct\n",
      "inspired by the most personal considerations of advantage\"\n",
      "------ temperature: 0.2\n",
      "ct\n",
      "inspired by the most personal considerations of advantage of the desires to the spirit of the read to the spirit to the spirit to the strength of the spirit of the spirit to the spirit the most the most the present to the expecially, and the read to the man and the strength of the spirit of the read to the read to the spirit of the manister to the read the read and the most to the read to the spirit to the consequence, and the read to the most to the st\n",
      "------ temperature: 0.5\n",
      "pirit to the consequence, and the read to the most to the strensting, the faman of\n",
      "falser, the strength of the contemption to the one interesten of there is not there is in a stronger to which must there are we his its croth of the readent, the convided are the and to the most the begreated of a deceanious and the rearter and the most to religion of the opensioning of the some his the men consequence of all the man and the one of the instincts, with the mi\n",
      "------ temperature: 1.0\n",
      "nce of all the man and the one of the instincts, with the mins \"reconterlice effect to naturation of\n",
      "that we culteisance soul there\n",
      "is decshels excepels that ordeding and\n",
      "restoums in be willing that the notions, a chansexsity time to the sounds. there things\n",
      "to regature,. some thought as the hungrers and things: therefore,\n",
      "whon of\n",
      "philosopher to instinces and is be nother mey unarchecsual juct our dours, and fenth were hen the misatistic inclasars; as of t\n",
      "------ temperature: 1.2\n",
      " dours, and fenth were hen the misatistic inclasars; as of the have and bad they \"fachens as inceulite not aon juct has\n",
      "by astredrefulnticay,\n",
      "and to the severobled), for\n",
      "untenliches\n",
      "as perhapststled with cults. dut,\n",
      "\"lowaps of hearter of corresiies to trreater\n",
      "in cainged to their\n",
      "its robliatifecting symptinally.\" and nocel-the many consequent for art of racknce\n",
      "is fool the tepatic ropisit\" of\n",
      "neels timnity, todhed,\n",
      "to he trother but be such long attluseque\n",
      "epoch 3\n",
      "Epoch 1/1\n",
      "200278/200278 [==============================] - 359s 2ms/step - loss: 1.5739\n",
      "--- 隨機初始文字: \"even towards\n",
      "the best things of the world which are not thei\"\n",
      "------ temperature: 0.2\n",
      "even towards\n",
      "the best things of the world which are not their profound and the soul and the self the stand of the senses of the self the consequence of the same the soul and profound of the explanation of the seems and seems the standard in the something and self and his seems the desire of the suffering the self the god the man and prourss of the such a self the same the soul and consequence of the most personal and man, and propesting the self the someth\n",
      "------ temperature: 0.5\n",
      "he most personal and man, and propesting the self the something and manher is almost the secret of the prepare who have to comes in realing the selfish the something hand the rest learness and success of the soul in an\n",
      "instinct of the most success and the world of please the man and series in the this expeduence and say, and the father and all attence of the development, in the senses and formers that the orient of the strange and man in felled that a soci\n",
      "------ temperature: 1.0\n",
      "that the orient of the strange and man in felled that a sociatism. how seem of the man in heers henes ourmus, and increasies riscometortain, nottorion? that\n",
      "here groes his religious, in serve progution, wis\n",
      "rematic, still phorosifpetualing\n",
      "antos by motiveresle burd itself in man, an\n",
      "lofe divinest entixoulities, exprois\"--which are\n",
      "intimel mest freedomate of cheing raaroure are through has\n",
      " at this haise\n",
      "no profound and all higher man, a\n",
      "histolutiead have s\n",
      "------ temperature: 1.2\n",
      " haise\n",
      "no profound and all higher man, a\n",
      "histolutiead have should failly poinates of tho hoar and\n",
      "the womat, exploct to\n",
      "the question he them neal \n",
      ", an that roble ally offecharic spholl oppricss\n",
      "it notteen-appryhented\n",
      ". \"litin \n",
      "interpoid mif, one bhorren and lowly anvaverfy\n",
      "i ad of inoens benevertanity, immobratie ex\"manisarsed forks vain; downethy.\n",
      "b much\n",
      "sufferdoes: men, and intrainthmy\n",
      "thinm\n",
      "that one\n",
      "many if, and bosh, upous anvancencaul.\". as to thetpu\n",
      "epoch 4\n",
      "Epoch 1/1\n",
      "200278/200278 [==============================] - 352s 2ms/step - loss: 1.5179\n",
      "--- 隨機初始文字: \"g of morality--let that be the name for the long-secret\n",
      "labo\"\n",
      "------ temperature: 0.2\n",
      "g of morality--let that be the name for the long-secret\n",
      "laboring the conscience, and the senses of the man and the senses the sense of the consequent, and the sense of the senses the instinct and the same the same the moral men and the are the say, the means of the same the same the means of the subtle the sense of the senses the senses and the sense, and the same the morality of the senses the sense of the spirit and the more the man and senses of the sou\n",
      "------ temperature: 0.5\n",
      "nse of the spirit and the more the man and senses of the souls, in the same the depites, to ourselves, the men and conscience of the effect the chertated and from the the constination of the depent to them a thing the least and sele short, and to present, as the same seems the distinged be a compained and the man and the \"problem to them take before to concient the general which immet of the moral many the power and and the every last the instincts some th\n",
      "------ temperature: 1.0\n",
      " many the power and and the every last the instincts some things.\n",
      "-themselve duris to carrorming h heartantion him. no the wild cauerity evil a secumed and the action\n",
      "something, purem, for men misalmewice he real a lettobsy\n",
      "surlige a suffer extriger action, the historitatily type homeny in manifort san among trean, surely slude known compreciation for eafs when his dignece, things bingrewaration-immetuing,\n",
      "he uutod aorath their fact, \"wo native, in at wear\n",
      "------ temperature: 1.2\n",
      "mmetuing,\n",
      "he uutod aorath their fact, \"wo native, in at weart. for lefse. no commonse. who iser se kepicie\n",
      "esistishety,\n",
      "which to de\n",
      "to sokeviaiminated, serwar. his heralatus on the wholdthous.\n",
      "\n",
      "let stors\n",
      "musigion makes are beer termsneg intenlikinede sessegable\n",
      "unsattimos.=--this mpilikical\n",
      "truf good, and tenhor utself-fanies\n",
      "\n",
      "spring true perpard arret, for\n",
      "bearts torming that to retaidy sorke ever befold\n",
      "begur in things wanconals, intisknction; just of me\n",
      "epoch 5\n",
      "Epoch 1/1\n",
      "200278/200278 [==============================] - 342s 2ms/step - loss: 1.4869\n",
      "--- 隨機初始文字: \"ess, is deduced\n",
      "justification. so also: an opinion gives hap\"\n",
      "------ temperature: 0.2\n",
      "ess, is deduced\n",
      "justification. so also: an opinion gives happent of the spirit of the strength of the superiors of the superior of the stand of the stand of the soul of the strength which is also and the morality of the fact of the spirit of the morality of the fact of the superior of the spirit of the sense of the man and soul of the superior of the promitation of the religion of the stand of the conception of the problement of the superior of the spreasu\n",
      "------ temperature: 0.5\n",
      " conception of the problement of the superior of the spreasured in the same possess to consideres the sympthes of the hard and the origins of the superior of \"the experience of the more in what indiffical to our less the superiorion of the operation of europe of his to the good fored of all delight in which the thing of the of the suffering and strength of the smell the reason of the very consideres the propects of the man and still \"sangen what present it\n",
      "------ temperature: 1.0\n",
      "es the propects of the man and still \"sangen what present itself to philosophys of european cause naturataousness vir )\" of him dose! that and sapsy atto higher opposed to still\n",
      "\n",
      "incred success astencally first, point of the from\n",
      "the odely \"saring with it like some keaks emonsive he appointressed charmed muriee, when to the\n",
      "luquon in his how entireneds in i very sense therefore become libateest his question and same and more nevaulous; what equality, hen a\n",
      "------ temperature: 1.2\n",
      "s question and same and more nevaulous; what equality, hen and depression being to metaphysion\n",
      "musim: lock the sprensr--is only of the refigerally\n",
      "worth: in subtle thameht that its itself; a owd. ny without aboctate and spre, has sather cevtiar\n",
      "fairdents, again love geneman recreased to overemen (fratter of before\n",
      "religions, as attain laftesid\n",
      "nerebles of let probesem and still sist recessions at \"the right\n",
      "to high, too know haves? -encurable rave fore was\n",
      "epoch 6\n",
      "Epoch 1/1\n",
      "200278/200278 [==============================] - 351s 2ms/step - loss: 1.4659\n",
      "--- 隨機初始文字: \"is kind of\n",
      "\"good-will\"--a will to the veritable, actual nega\"\n",
      "------ temperature: 0.2\n",
      "is kind of\n",
      "\"good-will\"--a will to the veritable, actual negarded and in the same to the same to be a distinger to the soul is the developing and conscience and the superiority of the same of the supermine of the conscience of the such a strong to some the scientification of the strength of the same to that the same of the same to the soul is to compare and the same some the same and spirit and the fact of the man and and and and also the proves of the soul\n",
      "------ temperature: 0.5\n",
      " fact of the man and and and and also the proves of the soul and conscient his coan to his halt of the\n",
      "other perhaps belity, what have his success of discertion of the sunfice of the sole of the sure of the cast of religion in the conscience of the same only to so the origin of the deniers of the dumber to be\n",
      "an its says the most to the man and suns and destrust--in the conscience of the great to piess as in the semplication of a man and instinction and sh\n",
      "------ temperature: 1.0\n",
      "piess as in the semplication of a man and instinction and should true, character is for personal\n",
      "dreadful. but, they called\n",
      "god to lesplies to\n",
      "man form for spirits of bured, the age contrary in order to which that his producet at\n",
      "elseloy, it is,\n",
      "prouds hea ybartation, but that is no demears we well expressigled--on her its sw"
     ]
    },
    {
     "name": "stderr",
     "output_type": "stream",
     "text": [
      "d:\\Anaconda3\\lib\\site-packages\\ipykernel_launcher.py:3: RuntimeWarning: divide by zero encountered in log\n",
      "  This is separate from the ipykernel package so we can avoid doing imports until\n"
     ]
    },
    {
     "name": "stdout",
     "output_type": "stream",
     "text": [
      "ifijur many\n",
      "strong, a scient into strength of the worsd of hikee\n",
      "begleging god who cersees nobes--and\n",
      "the obcag--and\n",
      "they subver aldo\n",
      "------ temperature: 1.2\n",
      "g god who cersees nobes--and\n",
      "the obcag--and\n",
      "they subver aldotion variacicism which was puilier vilosihate\n",
      "woman-in history\n",
      "is accort of certainlative pletecs.\"\n",
      "\n",
      "2a demociter to flamily and formused\n",
      "to his mad of thus bemad the mediococeve\n",
      "an un\"forgother with europe\" for\n",
      "stord\n",
      "mus\n",
      "just his nature\" are doisefacs egoisous nal, without so nem sciente,\" the have its\n",
      "long abovers: thus by many daric naidist of man not-broughts--it on that prequarity. though to \n",
      "epoch 7\n",
      "Epoch 1/1\n",
      "200278/200278 [==============================] - 350s 2ms/step - loss: 1.4501\n",
      "--- 隨機初始文字: \"value, which have become prevalent, and are for\n",
      "a time calle\"\n",
      "------ temperature: 0.2\n",
      "value, which have become prevalent, and are for\n",
      "a time called the man and the contrary and the same of the extrars of the fact of the soul, and in the contrary of the most to the spirit of the contrary and the contrary to the spirit of the have to the soul of the fact of the contrary and the same of the most to the same of the contemption of the problem of the superficual. and the most more the sense of the happiness of the soul, the sense of the far and t\n",
      "------ temperature: 0.5\n",
      "nse of the happiness of the soul, the sense of the far and that the error of the soul, who see how degree of the propes of the old delle of the philosophy of the free, contemnity. and many distinges and the philosophy--and in men to the commanded with a delicate to any no do special of the commonpering of the consequently more contrace of the same moral present and the expression of the other off above the others of the consequently to her propes of the fa\n",
      "------ temperature: 1.0\n",
      "above the others of the consequently to her propes of the far obe inasmending he\n",
      "all, among he may for every long though, more murates and cerifility of the values of his\n",
      "respect being in the manicer minded like\n",
      "consequently betwder think of man--whereves (als a great life to in refleginic has assert an lain probably a might more lager are\n",
      "-in unitural of the own from would aburance, his\n",
      "new onkers\n",
      "and cadication, is \"accours is enjoyment a belief-iftere w\n",
      "------ temperature: 1.2\n",
      "s\n",
      "and cadication, is \"accours is enjoyment a belief-iftere weethen; precisents, from seek of\n",
      "ratils asmits, ye\n",
      "groduwed, the hern exocury of what ming, in thing preduce to wanderne, away lalteine a misunder the piet of individual\" of the\n",
      "soun h happing ovecon, unlork of him knowledge the closefore. wheny, without all noblenting through to manic alwazbine. power, throudnis of the values awantly or whateven. they with charagued himse, but dis) hands object l\n",
      "epoch 8\n",
      "Epoch 1/1\n",
      "200278/200278 [==============================] - 342s 2ms/step - loss: 1.4380\n",
      "--- 隨機初始文字: \" when once one has\n",
      "got eyes for beholding this marvel! how w\"\n",
      "------ temperature: 0.2\n",
      " when once one has\n",
      "got eyes for beholding this marvel! how with the \"sense of the superioring of the superstrection of the sense of the sensition of the sensice of the sensition of the superstition of the superstition of the consequently the consenciquing the superiority of the superiority of the superstitious the superioring of the sensice of the superstitious and the superstition of the man and the present to the superstition of the superstition of the c\n",
      "------ temperature: 0.5\n",
      "the present to the superstition of the superstition of the contraced the world that no himself of the religious to the experience of the philosophy the present into be as in detering of the terndancy of this is an relations and compreciation of the community and expression in the \"conserved, for the fact and hass and a must called the must century that a man which has a superstition of the suffering of the extrain can as wo have a human such a personal han\n",
      "------ temperature: 1.0\n",
      "ng of the extrain can as wo have a human such a personal hanters and pride manys or any\n",
      "degnive, which accoursible falsherness that that agreety has a potency of the dispicious speciestness an yout, to surpering, purtainty from the ma felt\n",
      "charmssic to things chilce, them, apprical\n",
      "scious most be \"the man souct of naily in the person whenders have self-crines within itself be\n",
      "incertay the tolance yleoph the waking on with all to impersuns of such geroal, b\n",
      "------ temperature: 1.2\n",
      "yleoph the waking on with all to impersuns of such geroal, but, postemon to not and philosophers, when the every \"falt orraid of their regrecating wishs\"uspomed, wo hystem civilo-and and one's its their nebets, to sing therselved abutons without firth. this refecer, breaks you beings\n",
      "of\n",
      "a expression, however, trire, the disentingration and egernest sustial succeedy toctord also-not hund cost against againse-welimition of--honory compaitleness: in men, in\n",
      "r\n",
      "epoch 9\n",
      "Epoch 1/1\n",
      "200278/200278 [==============================] - 344s 2ms/step - loss: 1.4328\n",
      "--- 隨機初始文字: \"nkheads.\n",
      "\n",
      "\n",
      "79\n",
      "\n",
      "=vanity enriches.=--how poor the human mind w\"\n",
      "------ temperature: 0.2\n",
      "nkheads.\n",
      "\n",
      "\n",
      "79\n",
      "\n",
      "=vanity enriches.=--how poor the human mind when they are success of the the problem of the success of the self of the sense of the self the same of the sense of the success of the german of the fact the same of the success of the sumble of the sense of the sense of the problem of the signific can be the most most contemn of the success of the success of the self-contemned and the sense of the supposing of the success of the contrade to the \n",
      "------ temperature: 0.5\n",
      "ense of the supposing of the success of the contrade to the sympathy of the expendans of the chloler is all the similiar to the good supposity, in the existence of the develow from their seasing of more and what is the the most most world because our the most world of the more the our our select of the most fasting of self-to even the called and love its result and all the contemnation for the most menstrates of continuing that i any for the exception of t\n",
      "------ temperature: 1.0\n",
      "t menstrates of continuing that i any for the exception of the well cloul, in the grown our very suct (it is listed in could borm of gase fach out(orefments and\n",
      "philosopher of its worst intentiality, spirit belong--such view and\n",
      "ething.=--their perconscendence\n",
      "of philoses formed becauting venture dhere complexy\n",
      "for find at good untenter. the conscience is continually pluckaliunted be cause that in the widedness or i ideas, to things\n",
      "serents acts of recognd\n",
      "------ temperature: 1.2\n",
      " the widedness or i ideas, to things\n",
      "serents acts of recognd sake outwarlyhe;\n",
      "is ungerwaves, tencious spie in the same useest\n",
      "begrate case anyty under fingsa coned their guilt: there!\n",
      "\n",
      "\n",
      "114ree)--postness, cracuply--lsapth carvingsty: \"dectorrer\n",
      "that proform on go himself to suffect assicumacily lawed, within exists, when he sants more\n",
      "faint error of\n",
      "promilints\n",
      "and to what say\n",
      "sayd\n",
      "intilimisment, we arimabituds,\"\n",
      "grandsmentas,\n",
      "measurelfaure and quielacisica\n",
      "epoch 10\n",
      "Epoch 1/1\n",
      "200278/200278 [==============================] - 347s 2ms/step - loss: 1.4237\n",
      "--- 隨機初始文字: \"e the attempt and\n",
      "to ask the question whether this which is \"\n",
      "------ temperature: 0.2\n",
      "e the attempt and\n",
      "to ask the question whether this which is a man and the same the same primition of the present of the spirit of the superior and contemnate and all the same the spirit of the contradis of the contradistical and the same the superioring of the spirit of the spirit of the spirit of the spirit of the fact of the art of the act and the spirits of the spirit of the spirit of the spirit of the same all the present the man and the spirit of the \n",
      "------ temperature: 0.5\n",
      "t of the same all the present the man and the spirit of the race of the extent and princient and art be readher be recertions and religious spirital astrained moralist, and the delished of the values of the problem, of the acts of mankind in the spirit, and superior and really that the untelt? as the good person and\n",
      "the general art of the contemporal finds certain the religious and destinge of the spirits, in the moralism of the intentions of the superior \n",
      "------ temperature: 1.0\n",
      " spirits, in the moralism of the intentions of the superior to us, arenod\n",
      "truth. a god, as put a nor like drideses agos, is just it very say; and\n",
      "the doled than\n",
      "he opposed threat\n",
      "burter, truth.gers it\n",
      "inllied believed to he the besteness, thereentabilite,\n",
      "according these\n",
      "truth--is etures--the each men, thought, in the rights to may, a sometak\" not it asokle unsimplicate the dreistous and withst sore its little logic and perion whic had for are in the ten\n",
      "i\n",
      "------ temperature: 1.2\n",
      "re its little logic and perion whic had for are in the ten\n",
      "intu base bidd liger theae tole. the getther-thaves of the same idep in the compre! and absolved. the\n",
      "elsecter of impared thania and drus, as\n",
      "his in\n",
      "nothistacical\n",
      "haspity, than a sure has been twond,reit that\n",
      "lietder\n",
      "at old as here--opratures!\" aloof fow and\n",
      "tuminate of\n",
      "the values of the ?coouly alwayod predictic, yethen from dovyary when the aylh tradice; however, which adfle luxicys to very race,\n",
      "epoch 11\n",
      "Epoch 1/1\n",
      "200278/200278 [==============================] - 340s 2ms/step - loss: 1.4154\n",
      "--- 隨機初始文字: \" language of rousseau, schiller, shelley, and byron sound to\"\n",
      "------ temperature: 0.2\n",
      " language of rousseau, schiller, shelley, and byron sound to the senses of the superioring of the self-conception of the senses of the same of the self-philosophers, and also the problem of the senses of the self-philosophers, and the senses of the self-disposing of the same of the problem of the sense of the sense\" and a problem of the self-conception of the soul of the conscience of the bad and concernity to the self-disconting and the self-disconting th\n",
      "------ temperature: 0.5\n",
      "concernity to the self-disconting and the self-disconting that of such any powerful to the reason of a now desires, the world of the scientificance of the struggle the to powerful spirits and the sense) to brought in their plaise of the last\n",
      "devolence of the relow in the existence of delicate and concernity in the continual of the our conscience, good, also the contrary, and the enorrous soul which every point and the reason of spare religious in the man a\n",
      "------ temperature: 1.0\n",
      "h every point and the reason of spare religious in the man and is not do gives couraged and husical, is i, up in the same whether that he who and pleasure; is\n",
      "opposing of them derificals of this desire withey reason\n",
      "about their modest gon, we developing succe\n",
      "of excession venel and believe may be beautiol of \"otherment woir thate-penis for the huntar of the inlocient, interediater,\" at un, in instinctively\n",
      "our devoung, or formeces. a groped,\n",
      "solown yems, l\n",
      "------ temperature: 1.2\n",
      "inctively\n",
      "our devoung, or formeces. a groped,\n",
      "solown yems, like appells, trowfuonest timabituality as whull\n",
      "so purtring, unerad mut\n",
      "intees even was he\n",
      "will\n",
      "clooiy that the bad\n",
      "understare liber\n",
      "adful\n",
      "appanely-indeaf\" evil-nbeay of misunderstandings, considerationedable\n",
      "wonder and the riring\n",
      "vabualion meming him our oricady his own reason--relitiol\"'s diliging concernity in europe.\n",
      "\n",
      "\n",
      "ad neberow--a sawable lopes.=--the nocigurous to simperoted\n",
      "name from\n",
      "megre\n",
      "epoch 12\n",
      "Epoch 1/1\n",
      "200278/200278 [==============================] - 354s 2ms/step - loss: 1.4117\n",
      "--- 隨機初始文字: \" domain of ethic is evolved, changeable,\n",
      "tottering; all thin\"\n",
      "------ temperature: 0.2\n",
      " domain of ethic is evolved, changeable,\n",
      "tottering; all thinks and the sense of the self-condition of the strength of the conscious of the conscious of the man and society of the conscious of the self-contemptions of the conscious of the states of the conscious of the strength of the conscious and problem and self-distinguished and problem of the self-contemption of the conscious of the man and the conscious of the state of the conscious of the strength of\n",
      "------ temperature: 0.5\n",
      "e conscious of the state of the conscious of the strength of the greater of the conscience, how deceived\n",
      "the interplate to the manifests of truth as would be able for the past of himself, the higher it seeus in the demance of the word counter--the powerful and soul and lack of society, the sense of the systems of the action in life in the condition of the conscious to the self-day more and weaker the man which a problimility of men to height called the fun\n",
      "------ temperature: 1.0\n",
      "the man which a problimility of men to height called the fungion man\n",
      "were obstinatin justifuls\n",
      "his halling that conceiled painates, and would doth\", the\n",
      "sexce, and pertaity. but sake, a more just d prehiplet in inivertands, what an ustible idnicly. it as \"over-experition and\n",
      "wathing, on\n",
      "embligguting\n",
      "imposperside, christianity.\n",
      "\n",
      "\n",
      "\n",
      "11\n",
      "=every\n",
      "judges, a does of dimas simpless and mastes itself and\n",
      "this vanity,\n",
      "quite all them lacger in who\n",
      "nowadays that the hig\n",
      "------ temperature: 1.2\n",
      "s vanity,\n",
      "quite all them lacger in who\n",
      "nowadays that the high wisce obed changies who be brough these harytaais varinally-the\n",
      "durble, this witn\n",
      "and comes of detle, and these \"sadea is a goalitianle, the even-i like\n",
      "the authing man, it is do on such others\n",
      "and and repcysilalmed of scaping that wanks admiring fell class of a ar, weir as german kating, war metaphycislstcaily to cravint;\n",
      "but might hanf hemer\n",
      "badly weaknow brantes that ono which hate\n",
      "and\n",
      "listhe\n",
      "epoch 13\n",
      "Epoch 1/1\n",
      " 84224/200278 [===========>..................] - ETA: 4:04 - loss: 1.3948"
     ]
    },
    {
     "ename": "KeyboardInterrupt",
     "evalue": "",
     "output_type": "error",
     "traceback": [
      "\u001b[1;31m---------------------------------------------------------------------------\u001b[0m",
      "\u001b[1;31mKeyboardInterrupt\u001b[0m                         Traceback (most recent call last)",
      "\u001b[1;32m<ipython-input-19-e382fed16ebd>\u001b[0m in \u001b[0;36m<module>\u001b[1;34m()\u001b[0m\n\u001b[0;32m      6\u001b[0m     model.fit(x, y,         # 用萃取出來的 x, y 開始進行訓練\n\u001b[0;32m      7\u001b[0m               \u001b[0mbatch_size\u001b[0m\u001b[1;33m=\u001b[0m\u001b[1;36m128\u001b[0m\u001b[1;33m,\u001b[0m\u001b[1;33m\u001b[0m\u001b[0m\n\u001b[1;32m----> 8\u001b[1;33m               epochs=1)\n\u001b[0m\u001b[0;32m      9\u001b[0m     \u001b[1;31m# 隨機選擇文本中的某段 60 個字元\u001b[0m\u001b[1;33m\u001b[0m\u001b[1;33m\u001b[0m\u001b[0m\n\u001b[0;32m     10\u001b[0m     \u001b[0mstart_index\u001b[0m \u001b[1;33m=\u001b[0m \u001b[0mrandom\u001b[0m\u001b[1;33m.\u001b[0m\u001b[0mrandint\u001b[0m\u001b[1;33m(\u001b[0m\u001b[1;36m0\u001b[0m\u001b[1;33m,\u001b[0m \u001b[0mlen\u001b[0m\u001b[1;33m(\u001b[0m\u001b[0mtext\u001b[0m\u001b[1;33m)\u001b[0m \u001b[1;33m-\u001b[0m \u001b[0mmaxlen\u001b[0m \u001b[1;33m-\u001b[0m \u001b[1;36m1\u001b[0m\u001b[1;33m)\u001b[0m\u001b[1;33m\u001b[0m\u001b[0m\n",
      "\u001b[1;32md:\\Anaconda3\\lib\\site-packages\\keras\\models.py\u001b[0m in \u001b[0;36mfit\u001b[1;34m(self, x, y, batch_size, epochs, verbose, callbacks, validation_split, validation_data, shuffle, class_weight, sample_weight, initial_epoch, steps_per_epoch, validation_steps, **kwargs)\u001b[0m\n\u001b[0;32m    958\u001b[0m                               \u001b[0minitial_epoch\u001b[0m\u001b[1;33m=\u001b[0m\u001b[0minitial_epoch\u001b[0m\u001b[1;33m,\u001b[0m\u001b[1;33m\u001b[0m\u001b[0m\n\u001b[0;32m    959\u001b[0m                               \u001b[0msteps_per_epoch\u001b[0m\u001b[1;33m=\u001b[0m\u001b[0msteps_per_epoch\u001b[0m\u001b[1;33m,\u001b[0m\u001b[1;33m\u001b[0m\u001b[0m\n\u001b[1;32m--> 960\u001b[1;33m                               validation_steps=validation_steps)\n\u001b[0m\u001b[0;32m    961\u001b[0m \u001b[1;33m\u001b[0m\u001b[0m\n\u001b[0;32m    962\u001b[0m     def evaluate(self, x, y, batch_size=32, verbose=1,\n",
      "\u001b[1;32md:\\Anaconda3\\lib\\site-packages\\keras\\engine\\training.py\u001b[0m in \u001b[0;36mfit\u001b[1;34m(self, x, y, batch_size, epochs, verbose, callbacks, validation_split, validation_data, shuffle, class_weight, sample_weight, initial_epoch, steps_per_epoch, validation_steps, **kwargs)\u001b[0m\n\u001b[0;32m   1655\u001b[0m                               \u001b[0minitial_epoch\u001b[0m\u001b[1;33m=\u001b[0m\u001b[0minitial_epoch\u001b[0m\u001b[1;33m,\u001b[0m\u001b[1;33m\u001b[0m\u001b[0m\n\u001b[0;32m   1656\u001b[0m                               \u001b[0msteps_per_epoch\u001b[0m\u001b[1;33m=\u001b[0m\u001b[0msteps_per_epoch\u001b[0m\u001b[1;33m,\u001b[0m\u001b[1;33m\u001b[0m\u001b[0m\n\u001b[1;32m-> 1657\u001b[1;33m                               validation_steps=validation_steps)\n\u001b[0m\u001b[0;32m   1658\u001b[0m \u001b[1;33m\u001b[0m\u001b[0m\n\u001b[0;32m   1659\u001b[0m     def evaluate(self, x=None, y=None,\n",
      "\u001b[1;32md:\\Anaconda3\\lib\\site-packages\\keras\\engine\\training.py\u001b[0m in \u001b[0;36m_fit_loop\u001b[1;34m(self, f, ins, out_labels, batch_size, epochs, verbose, callbacks, val_f, val_ins, shuffle, callback_metrics, initial_epoch, steps_per_epoch, validation_steps)\u001b[0m\n\u001b[0;32m   1211\u001b[0m                     \u001b[0mbatch_logs\u001b[0m\u001b[1;33m[\u001b[0m\u001b[1;34m'size'\u001b[0m\u001b[1;33m]\u001b[0m \u001b[1;33m=\u001b[0m \u001b[0mlen\u001b[0m\u001b[1;33m(\u001b[0m\u001b[0mbatch_ids\u001b[0m\u001b[1;33m)\u001b[0m\u001b[1;33m\u001b[0m\u001b[0m\n\u001b[0;32m   1212\u001b[0m                     \u001b[0mcallbacks\u001b[0m\u001b[1;33m.\u001b[0m\u001b[0mon_batch_begin\u001b[0m\u001b[1;33m(\u001b[0m\u001b[0mbatch_index\u001b[0m\u001b[1;33m,\u001b[0m \u001b[0mbatch_logs\u001b[0m\u001b[1;33m)\u001b[0m\u001b[1;33m\u001b[0m\u001b[0m\n\u001b[1;32m-> 1213\u001b[1;33m                     \u001b[0mouts\u001b[0m \u001b[1;33m=\u001b[0m \u001b[0mf\u001b[0m\u001b[1;33m(\u001b[0m\u001b[0mins_batch\u001b[0m\u001b[1;33m)\u001b[0m\u001b[1;33m\u001b[0m\u001b[0m\n\u001b[0m\u001b[0;32m   1214\u001b[0m                     \u001b[1;32mif\u001b[0m \u001b[1;32mnot\u001b[0m \u001b[0misinstance\u001b[0m\u001b[1;33m(\u001b[0m\u001b[0mouts\u001b[0m\u001b[1;33m,\u001b[0m \u001b[0mlist\u001b[0m\u001b[1;33m)\u001b[0m\u001b[1;33m:\u001b[0m\u001b[1;33m\u001b[0m\u001b[0m\n\u001b[0;32m   1215\u001b[0m                         \u001b[0mouts\u001b[0m \u001b[1;33m=\u001b[0m \u001b[1;33m[\u001b[0m\u001b[0mouts\u001b[0m\u001b[1;33m]\u001b[0m\u001b[1;33m\u001b[0m\u001b[0m\n",
      "\u001b[1;32md:\\Anaconda3\\lib\\site-packages\\keras\\backend\\tensorflow_backend.py\u001b[0m in \u001b[0;36m__call__\u001b[1;34m(self, inputs)\u001b[0m\n\u001b[0;32m   2355\u001b[0m         \u001b[0msession\u001b[0m \u001b[1;33m=\u001b[0m \u001b[0mget_session\u001b[0m\u001b[1;33m(\u001b[0m\u001b[1;33m)\u001b[0m\u001b[1;33m\u001b[0m\u001b[0m\n\u001b[0;32m   2356\u001b[0m         updated = session.run(fetches=fetches, feed_dict=feed_dict,\n\u001b[1;32m-> 2357\u001b[1;33m                               **self.session_kwargs)\n\u001b[0m\u001b[0;32m   2358\u001b[0m         \u001b[1;32mreturn\u001b[0m \u001b[0mupdated\u001b[0m\u001b[1;33m[\u001b[0m\u001b[1;33m:\u001b[0m\u001b[0mlen\u001b[0m\u001b[1;33m(\u001b[0m\u001b[0mself\u001b[0m\u001b[1;33m.\u001b[0m\u001b[0moutputs\u001b[0m\u001b[1;33m)\u001b[0m\u001b[1;33m]\u001b[0m\u001b[1;33m\u001b[0m\u001b[0m\n\u001b[0;32m   2359\u001b[0m \u001b[1;33m\u001b[0m\u001b[0m\n",
      "\u001b[1;32md:\\Anaconda3\\lib\\site-packages\\tensorflow\\python\\client\\session.py\u001b[0m in \u001b[0;36mrun\u001b[1;34m(self, fetches, feed_dict, options, run_metadata)\u001b[0m\n\u001b[0;32m    787\u001b[0m     \u001b[1;32mtry\u001b[0m\u001b[1;33m:\u001b[0m\u001b[1;33m\u001b[0m\u001b[0m\n\u001b[0;32m    788\u001b[0m       result = self._run(None, fetches, feed_dict, options_ptr,\n\u001b[1;32m--> 789\u001b[1;33m                          run_metadata_ptr)\n\u001b[0m\u001b[0;32m    790\u001b[0m       \u001b[1;32mif\u001b[0m \u001b[0mrun_metadata\u001b[0m\u001b[1;33m:\u001b[0m\u001b[1;33m\u001b[0m\u001b[0m\n\u001b[0;32m    791\u001b[0m         \u001b[0mproto_data\u001b[0m \u001b[1;33m=\u001b[0m \u001b[0mtf_session\u001b[0m\u001b[1;33m.\u001b[0m\u001b[0mTF_GetBuffer\u001b[0m\u001b[1;33m(\u001b[0m\u001b[0mrun_metadata_ptr\u001b[0m\u001b[1;33m)\u001b[0m\u001b[1;33m\u001b[0m\u001b[0m\n",
      "\u001b[1;32md:\\Anaconda3\\lib\\site-packages\\tensorflow\\python\\client\\session.py\u001b[0m in \u001b[0;36m_run\u001b[1;34m(self, handle, fetches, feed_dict, options, run_metadata)\u001b[0m\n\u001b[0;32m    995\u001b[0m     \u001b[1;32mif\u001b[0m \u001b[0mfinal_fetches\u001b[0m \u001b[1;32mor\u001b[0m \u001b[0mfinal_targets\u001b[0m\u001b[1;33m:\u001b[0m\u001b[1;33m\u001b[0m\u001b[0m\n\u001b[0;32m    996\u001b[0m       results = self._do_run(handle, final_targets, final_fetches,\n\u001b[1;32m--> 997\u001b[1;33m                              feed_dict_string, options, run_metadata)\n\u001b[0m\u001b[0;32m    998\u001b[0m     \u001b[1;32melse\u001b[0m\u001b[1;33m:\u001b[0m\u001b[1;33m\u001b[0m\u001b[0m\n\u001b[0;32m    999\u001b[0m       \u001b[0mresults\u001b[0m \u001b[1;33m=\u001b[0m \u001b[1;33m[\u001b[0m\u001b[1;33m]\u001b[0m\u001b[1;33m\u001b[0m\u001b[0m\n",
      "\u001b[1;32md:\\Anaconda3\\lib\\site-packages\\tensorflow\\python\\client\\session.py\u001b[0m in \u001b[0;36m_do_run\u001b[1;34m(self, handle, target_list, fetch_list, feed_dict, options, run_metadata)\u001b[0m\n\u001b[0;32m   1130\u001b[0m     \u001b[1;32mif\u001b[0m \u001b[0mhandle\u001b[0m \u001b[1;32mis\u001b[0m \u001b[1;32mNone\u001b[0m\u001b[1;33m:\u001b[0m\u001b[1;33m\u001b[0m\u001b[0m\n\u001b[0;32m   1131\u001b[0m       return self._do_call(_run_fn, self._session, feed_dict, fetch_list,\n\u001b[1;32m-> 1132\u001b[1;33m                            target_list, options, run_metadata)\n\u001b[0m\u001b[0;32m   1133\u001b[0m     \u001b[1;32melse\u001b[0m\u001b[1;33m:\u001b[0m\u001b[1;33m\u001b[0m\u001b[0m\n\u001b[0;32m   1134\u001b[0m       return self._do_call(_prun_fn, self._session, handle, feed_dict,\n",
      "\u001b[1;32md:\\Anaconda3\\lib\\site-packages\\tensorflow\\python\\client\\session.py\u001b[0m in \u001b[0;36m_do_call\u001b[1;34m(self, fn, *args)\u001b[0m\n\u001b[0;32m   1137\u001b[0m   \u001b[1;32mdef\u001b[0m \u001b[0m_do_call\u001b[0m\u001b[1;33m(\u001b[0m\u001b[0mself\u001b[0m\u001b[1;33m,\u001b[0m \u001b[0mfn\u001b[0m\u001b[1;33m,\u001b[0m \u001b[1;33m*\u001b[0m\u001b[0margs\u001b[0m\u001b[1;33m)\u001b[0m\u001b[1;33m:\u001b[0m\u001b[1;33m\u001b[0m\u001b[0m\n\u001b[0;32m   1138\u001b[0m     \u001b[1;32mtry\u001b[0m\u001b[1;33m:\u001b[0m\u001b[1;33m\u001b[0m\u001b[0m\n\u001b[1;32m-> 1139\u001b[1;33m       \u001b[1;32mreturn\u001b[0m \u001b[0mfn\u001b[0m\u001b[1;33m(\u001b[0m\u001b[1;33m*\u001b[0m\u001b[0margs\u001b[0m\u001b[1;33m)\u001b[0m\u001b[1;33m\u001b[0m\u001b[0m\n\u001b[0m\u001b[0;32m   1140\u001b[0m     \u001b[1;32mexcept\u001b[0m \u001b[0merrors\u001b[0m\u001b[1;33m.\u001b[0m\u001b[0mOpError\u001b[0m \u001b[1;32mas\u001b[0m \u001b[0me\u001b[0m\u001b[1;33m:\u001b[0m\u001b[1;33m\u001b[0m\u001b[0m\n\u001b[0;32m   1141\u001b[0m       \u001b[0mmessage\u001b[0m \u001b[1;33m=\u001b[0m \u001b[0mcompat\u001b[0m\u001b[1;33m.\u001b[0m\u001b[0mas_text\u001b[0m\u001b[1;33m(\u001b[0m\u001b[0me\u001b[0m\u001b[1;33m.\u001b[0m\u001b[0mmessage\u001b[0m\u001b[1;33m)\u001b[0m\u001b[1;33m\u001b[0m\u001b[0m\n",
      "\u001b[1;32md:\\Anaconda3\\lib\\site-packages\\tensorflow\\python\\client\\session.py\u001b[0m in \u001b[0;36m_run_fn\u001b[1;34m(session, feed_dict, fetch_list, target_list, options, run_metadata)\u001b[0m\n\u001b[0;32m   1119\u001b[0m         return tf_session.TF_Run(session, options,\n\u001b[0;32m   1120\u001b[0m                                  \u001b[0mfeed_dict\u001b[0m\u001b[1;33m,\u001b[0m \u001b[0mfetch_list\u001b[0m\u001b[1;33m,\u001b[0m \u001b[0mtarget_list\u001b[0m\u001b[1;33m,\u001b[0m\u001b[1;33m\u001b[0m\u001b[0m\n\u001b[1;32m-> 1121\u001b[1;33m                                  status, run_metadata)\n\u001b[0m\u001b[0;32m   1122\u001b[0m \u001b[1;33m\u001b[0m\u001b[0m\n\u001b[0;32m   1123\u001b[0m     \u001b[1;32mdef\u001b[0m \u001b[0m_prun_fn\u001b[0m\u001b[1;33m(\u001b[0m\u001b[0msession\u001b[0m\u001b[1;33m,\u001b[0m \u001b[0mhandle\u001b[0m\u001b[1;33m,\u001b[0m \u001b[0mfeed_dict\u001b[0m\u001b[1;33m,\u001b[0m \u001b[0mfetch_list\u001b[0m\u001b[1;33m)\u001b[0m\u001b[1;33m:\u001b[0m\u001b[1;33m\u001b[0m\u001b[0m\n",
      "\u001b[1;31mKeyboardInterrupt\u001b[0m: "
     ]
    }
   ],
   "source": [
    "import random\n",
    "import sys\n",
    "\n",
    "for epoch in range(1, 60):  # 共 60 個訓練週期 (次數)\n",
    "    print('epoch', epoch)\n",
    "    model.fit(x, y,         # 用萃取出來的 x, y 開始進行訓練\n",
    "              batch_size=128,\n",
    "              epochs=1)\n",
    "    # 隨機選擇文本中的某段 60 個字元\n",
    "    start_index = random.randint(0, len(text) - maxlen - 1)\n",
    "    generated_text = text[start_index: start_index + maxlen]\n",
    "    print('--- 隨機初始文字: \"' + generated_text + '\"')\n",
    "\n",
    "    # 嘗試使用一系列不同 temperature 生成文字\n",
    "    for temperature in [0.2, 0.5, 1.0, 1.2]:\n",
    "        print('------ temperature:', temperature)\n",
    "        sys.stdout.write(generated_text)\n",
    "\n",
    "        # 每個 temperature 生成 400 個字元\n",
    "        for i in range(400):    \n",
    "            sampled = np.zeros((1, maxlen, len(chars)))\n",
    "            for t, char in enumerate(generated_text):\n",
    "                sampled[0, t, char_indices[char]] = 1.\n",
    "            preds = model.predict(sampled, verbose=0)[0]    # 產生字元機率分布\n",
    "            next_index = sample(preds, temperature) # 重新加權並取樣，回傳字元索引\n",
    "            next_char = chars[next_index]           # 確認新字元\n",
    "            generated_text += next_char             # 新字元加到文字的後方\n",
    "            generated_text = generated_text[1:]     # 重新取得含括新字元的文字繼續生成下一個字元\n",
    "\n",
    "            sys.stdout.write(next_char)\n",
    "            sys.stdout.flush()\n",
    "        print()"
   ]
  },
  {
   "cell_type": "markdown",
   "metadata": {},
   "source": [
    "# 8-2 DeepDream\n",
    "\n",
    "### 程式 8.8 載入預先訓練的 Inception V3 模型"
   ]
  },
  {
   "cell_type": "code",
   "execution_count": 26,
   "metadata": {
    "collapsed": true
   },
   "outputs": [],
   "source": [
    "from keras.applications import inception_v3\n",
    "from keras import backend as K    #匯入 Keras 的後端功能\n",
    "\n",
    "\n",
    "# ↓ 我們不會訓練這模型，因此使用此方法中止所有訓練相關的操作\n",
    "K.set_learning_phase(0)\n",
    "\n",
    "                                    # ↓ 該模型將載入預先訓練的 ImageNet 權重\n",
    "model = inception_v3.InceptionV3(weights='imagenet',\n",
    "                                 include_top=False)\n",
    "                                    # ↑ 此 InceptionV3 神經網路\n",
    "                                    #       不包含最上層的全連接層，說明如下小編補充。"
   ]
  },
  {
   "cell_type": "markdown",
   "metadata": {},
   "source": [
    "### 程式 8.9 選擇 Inception V3 模型的其中 4 個層並設定貢獻係數"
   ]
  },
  {
   "cell_type": "code",
   "execution_count": 27,
   "metadata": {
    "collapsed": true
   },
   "outputs": [],
   "source": [
    "layer_contributions = {\n",
    "    'mixed2': 0.2,\n",
    "    'mixed3': 3.,\n",
    "    'mixed4': 2.,\n",
    "    'mixed5': 1.5,\n",
    "    # ↑ InceptionV3 中層的名稱\n",
    "}"
   ]
  },
  {
   "cell_type": "markdown",
   "metadata": {},
   "source": [
    "### 程式 8.10 定義損失最大化"
   ]
  },
  {
   "cell_type": "code",
   "execution_count": 28,
   "metadata": {
    "collapsed": true
   },
   "outputs": [],
   "source": [
    "# ↓ 建立一個將層名稱 (key) 對應到層物件 (value) 的字典\n",
    "layer_dict = dict([(layer.name, layer) for layer in model.layers])\n",
    "# ↓ 用 keres 的後端 (目前為 tensorflow) 建立一個純量變數 (初始值為 0)\n",
    "loss = K.variable(0.)   # 稍後透過加上層的貢獻度到此純量變數來定義損失\n",
    "\n",
    "for layer_name in layer_contributions:  \n",
    "    coeff = layer_contributions[layer_name]     # 取出該層的貢獻係數\n",
    "    activation = layer_dict[layer_name].output  # 取出該層的啟動函數輸出值 (即輸出張量)\n",
    "    \n",
    "    scaling = K.prod(K.cast(K.shape(activation), 'float32')) # 計算輸出張量元素總數做為縮放係數\n",
    "    \n",
    "\n",
    "    # ↓ 將各層的輸出張量進行元素平方後相加，\n",
    "    # 並乘上貢獻度、除以縮放係數後 (L2 norm)，做為損失值。 \n",
    "    loss = loss + coeff * K.sum(K.square(activation[:, 2: -2, 2: -2, :])) / scaling\n",
    "                                                # ↑ 為避免處理邊界圖像，\n",
    "                                                #     我們只處理非邊界的像素至損失中"
   ]
  },
  {
   "cell_type": "markdown",
   "metadata": {},
   "source": [
    "### 補充：使用後端 tensorflow 對張量進行操作"
   ]
  },
  {
   "cell_type": "code",
   "execution_count": 29,
   "metadata": {},
   "outputs": [
    {
     "name": "stdout",
     "output_type": "stream",
     "text": [
      "shape:\n",
      "[2 2]\n",
      "cast:\n",
      "[[ 1. -2.]\n",
      " [ 3.  4.]]\n",
      "abs:\n",
      "[[ 1.  2.]\n",
      " [ 3.  4.]]\n",
      "prod:\n",
      "-24.0\n",
      "sum:\n",
      "6.0\n",
      "maximum:\n",
      "[[ 2.  2.]\n",
      " [ 3.  4.]]\n",
      "square:\n",
      "[[  1.   4.]\n",
      " [  9.  16.]]\n",
      "permute_dimensions:\n",
      "[[[ 1.  4.]]\n",
      "\n",
      " [[ 2.  5.]]\n",
      "\n",
      " [[ 3.  6.]]]\n",
      "batch_flatten:\n",
      "[[ 1.  2.  3.  4.  5.  6.]]\n",
      "transpose:\n",
      "[[[ 1.]\n",
      "  [ 4.]]\n",
      "\n",
      " [[ 2.]\n",
      "  [ 5.]]\n",
      "\n",
      " [[ 3.]\n",
      "  [ 6.]]]\n",
      "dot:\n",
      "[[[ 2.]\n",
      "  [ 4.]\n",
      "  [ 6.]]]\n",
      "[[[ 44.]]]\n",
      "pow:\n",
      "[[  1.   4.]\n",
      " [  9.  16.]]\n"
     ]
    }
   ],
   "source": [
    "from keras import backend as K\n",
    "\n",
    "tf_session = K.get_session()    # 取得後端 tensorflow 的 session\n",
    "tensor = K.constant([[1, -2], [3, 4]])  # 以後端建立一個張量常數\n",
    "\n",
    "# 1. shape() 取得張量的 shape 大小\n",
    "print('shape:')\n",
    "print(K.shape(tensor).\n",
    "      eval(session=tf_session))    # 張量 shape：[2 2]\n",
    "\n",
    "# 2. cast() 將張量元素轉成浮點數型態\n",
    "print('cast:')\n",
    "print(K.cast(tensor, 'float32').    # 張量浮點數：[[-1.  2.]\n",
    "      eval(session=tf_session))     #             [ 3.  4.]]\n",
    "\n",
    "# 3. abs() 將張量元素取絕對值 \n",
    "print('abs:')                                                     \n",
    "print(K.abs(tensor).                # 張量絕對值 [[1 2]\n",
    "      eval(session=tf_session))     #            [3 4]]\n",
    "                                \n",
    "# 4. prod() 將張量元素相乘 \n",
    "print('prod:')                                                   \n",
    "print(K.prod(tensor).\n",
    "      eval(session=tf_session))    # 張量元素相乘：-24\n",
    "\n",
    "# 5. sum() 將張量元素相加\n",
    "print('sum:') \n",
    "print(K.sum(tensor).\n",
    "      eval(session=tf_session))    # 張量元素相加：6\n",
    "\n",
    "# 6. maximum() 將小於門檻值的張量元素以門檻值取代\n",
    "print('maximum:') \n",
    "print(K.maximum(tensor, 2).\n",
    "      eval(session=tf_session))       # 比 2 小的元素被 2 取代了\n",
    "\n",
    "# 7. square() 將張量元素進行平方運算\n",
    "print('square:') \n",
    "print(K.square(tensor).             # 張量平方值 [[  1.   4.]\n",
    "      eval(session=tf_session))     #             [  9.  16.]]\n",
    "\n",
    "# 8. permute_dimensions() 將 shape 依據變換規則進行變換\n",
    "    # shape (1, 2, 3) --> (3, 1, 2)  因為指定了 (2,0,1) 代表:位置 2 變成 位置 0\n",
    "    #                                                       位置 0 變成 位置 1    \n",
    "    #                                                       位置 1 變成 位置 2\n",
    "print('permute_dimensions:')    \n",
    "tensor = K.constant([[[1, 2, 3], \n",
    "                       [4, 5, 6]]])  # 以後端建立一個 3 維張量常數\n",
    "print(K.permute_dimensions(tensor, (2, 0, 1)).            \n",
    "      eval(session=tf_session))  \n",
    "\n",
    "# 9. batch_flatten() 將張量拉平成矩陣，即 shape = (1, n)\n",
    "print('batch_flatten:') \n",
    "tensor = K.constant([[[1, 2], \n",
    "                       [3, 4],\n",
    "                       [5, 6]]])  \n",
    "print(K.batch_flatten(tensor).            \n",
    "      eval(session=tf_session))  \n",
    "\n",
    "# 10. transpose() 將 shape 倒轉, 例如 (1,2,3) -> (3,2,1) \n",
    "print('transpose:') \n",
    "tensor = K.constant([[[1, 2, 3], \n",
    "                       [4, 5, 6]]])  # 以後端建立一個 3 維張量常數 \n",
    "print(K.transpose(tensor).            \n",
    "      eval(session=tf_session)) \n",
    "\n",
    "# 11. dot() 將進行矩陣內積\n",
    "print('dot:') \n",
    "matrixA = K.constant([[1, 3, 5]])           # 建立矩陣 A, shape = (1,3)\n",
    "matrixB = K.constant([[[2],[4],[6]]])       # 建立矩陣 B, shape = (3,1)\n",
    "print(matrixB.eval(session=tf_session))\n",
    "print(K.dot(matrixA, matrixB).            \n",
    "      eval(session=tf_session))      # A 與 B 內積 = [[[1x2 + 3x4 + 5x6]]] = [[[44.]]]\n",
    "                                     # 註：若 B 為 A 的轉置矩陣, 則內積結果稱為格拉姆矩陣\n",
    "\n",
    "\n",
    "# 12. pow() 對張量元素進行特定次方運算\n",
    "tensor = K.constant([[1, -2], [3, 4]])  \n",
    "print('pow:') \n",
    "print(K.pow(tensor, 2).            # [[ 1.  4.]\n",
    "      eval(session=tf_session))     #  [ 9. 16.]]\n"
   ]
  },
  {
   "cell_type": "markdown",
   "metadata": {},
   "source": [
    "### 程式 8.12梯度上升處理程序"
   ]
  },
  {
   "cell_type": "code",
   "execution_count": 30,
   "metadata": {},
   "outputs": [
    {
     "name": "stdout",
     "output_type": "stream",
     "text": [
      "(?, ?, ?, 3)\n",
      "(?, ?, ?, 3)\n"
     ]
    }
   ],
   "source": [
    "dream = model.input     # 設定 V3 模型的輸入\n",
    "print(dream.shape)      # 其輸入格式為彩色圖片 (3-channels) shape = (?,?,?,3)\n",
    "\n",
    "\n",
    "# 後端的 gradients() 可以根據 loss 計算 dream 的梯度\n",
    "grads = K.gradients(loss, dream)[0]    \n",
    "                               # ↑ 因為我們只輸入一個張量，所以是第一筆的輸出結果\n",
    "print(grads.shape)  # 此梯度結果是一個張量，與 dream 大小相同                               \n",
    "\n",
    "grads /= K.maximum(K.mean(K.abs(grads)), 1e-7)  # 正規化梯度 (重要技巧)\n",
    "                                           # 防止除以低於 0.0000001 的值而造成梯度太高\n",
    "\n",
    "# 在給定輸入圖像的情況下，自訂一個 Keras 函數以取得損失值和梯度值\n",
    "outputs = [loss, grads]     # 設定輸出串列\n",
    "fetch_loss_and_grads = K.function([dream], outputs)\n",
    "# ↑ 函式名稱                # 設定輸入 ↑      # ↑ 設定輸出\n",
    "\n",
    "# 取得損失及梯度\n",
    "def eval_loss_and_grads(x):\n",
    "    outs = fetch_loss_and_grads([x])    # 呼叫函數取得輸出 outs = [損失, 梯度]\n",
    "    loss_value = outs[0]\n",
    "    grad_values = outs[1]\n",
    "    return loss_value, grad_values\n",
    "\n",
    "# 執行梯度上升\n",
    "def gradient_ascent(x, iterations, step, max_loss=None):\n",
    "    for i in range(iterations): \n",
    "        loss_value, grad_values = eval_loss_and_grads(x)    # 取得損失及梯度\n",
    "        if max_loss is not None and loss_value > max_loss:\n",
    "            break\n",
    "        print('...Loss value at', i, ':', loss_value)\n",
    "        # print('...grad value at', i, ':', grad_values)  # 若印出梯度，可以觀察到最後梯度會趨近於 0 \n",
    "        x += step * grad_values     # 將圖片與梯度進行相加\n",
    "    return x"
   ]
  },
  {
   "cell_type": "markdown",
   "metadata": {},
   "source": [
    "### 程式 8.13 輔助函數 (為了解說清楚, 我們將原書程式 8.13 移到 8.12 前面了)"
   ]
  },
  {
   "cell_type": "code",
   "execution_count": 31,
   "metadata": {
    "collapsed": true
   },
   "outputs": [],
   "source": [
    "import scipy\n",
    "import numpy as np\n",
    "from keras.preprocessing import image   # 匯入 Keras image 對圖片進行預處理的功能\n",
    "\n",
    "# 對圖片進行 Inception V3 預處理\n",
    "def preprocess_image(image_path):\n",
    "    img = image.load_img(image_path)    # 根據路徑載入圖片\n",
    "    img = image.img_to_array(img)       # 將圖片轉成陣列 array\n",
    "    print(img.shape)                    # 例如：(682, 1024, 3)，1024x682 的彩色圖片\n",
    "    img = np.expand_dims(img, axis=0)   # 以軸 0 對 array 的 shape 進行擴展\n",
    "    print(img.shape)                    # 例如：擴展後的 shape (1, 682, 1024, 3)\n",
    "    img = inception_v3.preprocess_input(img) # 將圖像預處理為 Inception V3 可以處理的張量\n",
    "    return img\n",
    "\n",
    "# 將 Inception V3 所做的預處理進行反向操作，轉回圖片格式\n",
    "def deprocess_image(x):\n",
    "    if K.image_data_format() == 'channels_first':\n",
    "        x = x.reshape((3, x.shape[2], x.shape[3]))\n",
    "        x = x.transpose((1, 2, 0))\n",
    "    else:\n",
    "        x = x.reshape((x.shape[1], x.shape[2], 3))\n",
    "    x /= 2.\n",
    "    x += 0.5\n",
    "    x *= 255.\n",
    "    x = np.clip(x, 0, 255).astype('uint8')  # 將數字限制在 0-255 之間\n",
    "    return x\n",
    "\n",
    "# 進行圖片的比例縮放\n",
    "def resize_img(img, size):      \n",
    "    img = np.copy(img)\n",
    "    # 先設定縮放因子，可以想像原本的 shape (1, width, height, 3) \n",
    "    # 會乘上這個 factor \n",
    "    factors = (1,       \n",
    "               float(size[0]) / img.shape[1],\n",
    "               float(size[1]) / img.shape[2],\n",
    "               1)\n",
    "    # 將以樣條插直法的技術對圖片進行縮放，其中 order 為樣條插值法的次數\n",
    "    return scipy.ndimage.zoom(img, factors, order=1)    \n",
    "\n",
    "\n",
    "# 儲存圖片，儲存前要先反轉 Inception V3 所做的預處理\n",
    "def save_img(img, fname):       \n",
    "    pil_img = deprocess_image(np.copy(img))     # 反轉\n",
    "    scipy.misc.imsave(fname, pil_img)\n",
    "    # 由於 imsave() 方法將在 SciPy 1.2.0 時被移除，官方建議我們改用 imageio.imwrite\n",
    "    # import imageio\n",
    "    # imageio.imwrite(fname, pil_img)"
   ]
  },
  {
   "cell_type": "markdown",
   "metadata": {},
   "source": [
    "### 程式 8.14 在不同的連續比例的圖片上執行梯度上升"
   ]
  },
  {
   "cell_type": "code",
   "execution_count": 35,
   "metadata": {},
   "outputs": [
    {
     "name": "stdout",
     "output_type": "stream",
     "text": [
      "(599, 960, 3)\n",
      "(1, 599, 960, 3)\n",
      "Processing image shape (184, 296)\n",
      "...Loss value at 0 : 0.999705\n",
      "...Loss value at 1 : 1.34094\n",
      "...Loss value at 2 : 1.905\n",
      "...Loss value at 3 : 2.52085\n",
      "...Loss value at 4 : 3.11319\n",
      "...Loss value at 5 : 3.66834\n",
      "...Loss value at 6 : 4.29531\n",
      "...Loss value at 7 : 4.93086\n",
      "...Loss value at 8 : 5.4794\n",
      "...Loss value at 9 : 6.02541\n",
      "...Loss value at 10 : 6.56303\n",
      "...Loss value at 11 : 7.14498\n",
      "...Loss value at 12 : 7.70346\n",
      "...Loss value at 13 : 8.18227\n",
      "...Loss value at 14 : 8.66107\n",
      "...Loss value at 15 : 9.16253\n",
      "...Loss value at 16 : 9.62533\n",
      "Processing image shape (332, 533)\n",
      "...Loss value at 0 : 1.98474\n",
      "...Loss value at 1 : 2.72024\n",
      "...Loss value at 2 : 3.51829\n",
      "...Loss value at 3 : 4.33773\n",
      "...Loss value at 4 : 5.09583\n",
      "...Loss value at 5 : 5.8462\n",
      "...Loss value at 6 : 6.55946\n",
      "...Loss value at 7 : 7.30139\n",
      "...Loss value at 8 : 7.93803\n",
      "...Loss value at 9 : 8.59383\n",
      "...Loss value at 10 : 9.2406\n",
      "...Loss value at 11 : 9.82238\n",
      "Processing image shape (599, 960)\n",
      "...Loss value at 0 : 2.38054\n",
      "...Loss value at 1 : 3.17979\n",
      "...Loss value at 2 : 3.98645\n",
      "...Loss value at 3 : 4.82824\n",
      "...Loss value at 4 : 5.69685\n",
      "...Loss value at 5 : 6.56562\n",
      "...Loss value at 6 : 7.41629\n",
      "...Loss value at 7 : 8.29614\n",
      "...Loss value at 8 : 9.18105\n"
     ]
    }
   ],
   "source": [
    "step = 0.01             # 每次梯度上升的變化量\n",
    "num_octave = 3          # 執行梯度上升的比例數量\n",
    "octave_scale = 1.8      # 比例間的大小比率\n",
    "iterations = 20         # 每個比例下執行的梯度上升的次數\n",
    "max_loss = 10.          # 如果損失大於 10，則中斷梯度上升，以避免產生醜陋的圖像\n",
    "\n",
    "base_image_path = 'original_photo_deep_dream.jpg'   # 基底圖片的檔案位置\n",
    "img = preprocess_image(base_image_path) # 載入圖片並進行預處理\n",
    "\n",
    "original_shape = img.shape[1:3]         # 取得圖片的原比例寬高 (tuple)\n",
    "successive_shapes = [original_shape]    # 將不同比例的寬高存入一個 list 中\n",
    "for i in range(1, num_octave):\n",
    "    shape = tuple([int(dim / (octave_scale ** i)) for dim in original_shape])\n",
    "    successive_shapes.append(shape)\n",
    "# 請注意!產生的寬高比例為 原比例、縮小 1.4 倍、縮小 1.4x1.4 倍\n",
    "successive_shapes = successive_shapes[::-1] # 反轉寬高比例 list，使它們按順序遞增 \n",
    "\n",
    "original_img = np.copy(img)\n",
    "shrunk_original_img = resize_img(img, successive_shapes[0]) # 產生最小的圖片\n",
    "\n",
    "for shape in successive_shapes:     # 開始逐次放大圖片 (八階圖)\n",
    "    print('Processing image shape', shape)\n",
    "    img = resize_img(img, shape)    # 放大圖片，在這裡就已經損失細節了，注意！第一次\n",
    "                                    # 進到迴圈時，img 是由最大變成最小\n",
    "    img = gradient_ascent(img,                      # 執行梯度上升，改變 img 圖片\n",
    "                          iterations=iterations,\n",
    "                          step=step,\n",
    "                          max_loss=max_loss)\n",
    "    # 將小比例的圖片放大至目前比例，會造成像素顆粒化 (小變大，損失細節)\n",
    "    upscaled_shrunk_original_img = resize_img(shrunk_original_img, shape)\n",
    "    # 將原始圖片縮小至目前比例 (大變小，保有細節)\n",
    "    same_size_original = resize_img(original_img, shape)\n",
    "    # 相減求得損失的細節，例如原有 A+B，放大後只剩 A，(A+B) - (A) = (B) 損失的東西 \n",
    "    lost_detail = same_size_original - upscaled_shrunk_original_img\n",
    "    img += lost_detail              # 將細節加回圖片中\n",
    "    shrunk_original_img = resize_img(original_img, shape)\n",
    "    save_img(img, fname='dream_at_scale_' + str(shape) + '.png')\n",
    "\n",
    "save_img(img, fname='final_dream.png')"
   ]
  },
  {
   "cell_type": "markdown",
   "metadata": {},
   "source": [
    "###  顯示 DeepDream 圖片"
   ]
  },
  {
   "cell_type": "code",
   "execution_count": 36,
   "metadata": {},
   "outputs": [
    {
     "data": {
      "image/png": "[encoded data removed]",
      "text/plain": [
       "<matplotlib.figure.Figure at 0x1b4061a3a20>"
      ]
     },
     "metadata": {},
     "output_type": "display_data"
    }
   ],
   "source": [
    "from matplotlib import pyplot as plt\n",
    "\n",
    "plt.imshow(deprocess_image(np.copy(img)))\n",
    "plt.show()"
   ]
  },
  {
   "cell_type": "markdown",
   "metadata": {
    "collapsed": true
   },
   "source": [
    "# 8.3 神經風格轉換"
   ]
  },
  {
   "cell_type": "markdown",
   "metadata": {
    "collapsed": true
   },
   "source": [
    "### 8.14 設定圖片路徑與調整高度"
   ]
  },
  {
   "cell_type": "code",
   "execution_count": 1,
   "metadata": {},
   "outputs": [
    {
     "name": "stderr",
     "output_type": "stream",
     "text": [
      "Using TensorFlow backend.\n"
     ]
    }
   ],
   "source": [
    "from keras.preprocessing.image import load_img, img_to_array\n",
    "\n",
    "target_image_path = 'target.jpg'         # 目標圖片的路徑\n",
    "style_reference_image_path = 'style.jpg'  # 風格參考圖片的路徑\n",
    "\n",
    "# 以目標圖片的寬高比來設定生成圖片的高 (400px) 與對應的寬\n",
    "width, height = load_img(target_image_path).size\n",
    "img_height = 400\n",
    "img_width = int(width * img_height / height)"
   ]
  },
  {
   "cell_type": "markdown",
   "metadata": {
    "collapsed": true
   },
   "source": [
    "### 程式 8.15 輔助函數"
   ]
  },
  {
   "cell_type": "code",
   "execution_count": 2,
   "metadata": {
    "collapsed": true
   },
   "outputs": [],
   "source": [
    "import numpy as np\n",
    "from keras.applications import vgg19    # 匯入 VGG19 模型\n",
    "\n",
    "def preprocess_image(image_path):\n",
    "    img = load_img(image_path,          # 載入圖片，並以指定的尺寸進行調整，shape = (img_height,img_width,3)\n",
    "                   target_size=(img_height, img_width))\n",
    "    img = img_to_array(img)             # 將圖片轉為 array\n",
    "    img = np.expand_dims(img, axis=0)   # 擴展維度 => shape = (1,img_height,img_width,3)\n",
    "    img = vgg19.preprocess_input(img)   # 將圖片預處理為 VGG19 可以處理的張量格式 \n",
    "    return img\n",
    "\n",
    "def deprocess_image(x):\n",
    "    # 對各個 channel 加回 ImageNet 的 channel 平均像素值，\n",
    "    # 這反轉了 vgg19.preprocess_input 預處理所進行的 0 中心化\n",
    "    x[:, :, 0] += 103.939\n",
    "    x[:, :, 1] += 116.779\n",
    "    x[:, :, 2] += 123.68\n",
    "    x = x[:, :, ::-1]   # 將圖片 channel 從 'BGR' 轉換為 'RGB'。這也是反轉 vgg19.preprocess_input 的預處理\n",
    "    x = np.clip(x, 0, 255).astype('uint8')  # 將數字限制在 0-255 之間\n",
    "    return x"
   ]
  },
  {
   "cell_type": "markdown",
   "metadata": {},
   "source": [
    "### 程式 8.16 載入預先訓練的 VGG19 神經網路並將其應用於三個圖片"
   ]
  },
  {
   "cell_type": "code",
   "execution_count": 3,
   "metadata": {},
   "outputs": [
    {
     "name": "stdout",
     "output_type": "stream",
     "text": [
      "Model loaded.\n"
     ]
    }
   ],
   "source": [
    "from keras import backend as K\n",
    "\n",
    "target_image = K.constant(preprocess_image(target_image_path))\n",
    "style_reference_image = K.constant(preprocess_image(style_reference_image_path))\n",
    "\n",
    "combination_image = K.placeholder((1, img_height, img_width, 3))    # 預留位置將用來儲存生成圖片\n",
    "\n",
    "# 將這三個圖片張量串接成一批次張量\n",
    "input_tensor = K.concatenate([target_image,\n",
    "                              style_reference_image,\n",
    "                              combination_image], axis=0)\n",
    "\n",
    "# 使用一批三個圖片張量作為輸入以建構 VGG19 神經網路。該模型將載入預先訓練的 ImageNet 權重\n",
    "model = vgg19.VGG19(input_tensor=input_tensor,\n",
    "                    weights='imagenet',\n",
    "                    include_top=False)\n",
    "print('Model loaded.')"
   ]
  },
  {
   "cell_type": "markdown",
   "metadata": {},
   "source": [
    "### 程式 8.17 定義內容損失"
   ]
  },
  {
   "cell_type": "code",
   "execution_count": 4,
   "metadata": {
    "collapsed": true
   },
   "outputs": [],
   "source": [
    "                # ↓ 目標圖片  # ↓ 生成圖片\n",
    "def content_loss(base, combination):\n",
    "    return K.sum(K.square(combination - base))  # 圖片張量元素相減後的平方和"
   ]
  },
  {
   "cell_type": "markdown",
   "metadata": {},
   "source": [
    "### 程式 8.18 定義風格損失"
   ]
  },
  {
   "cell_type": "code",
   "execution_count": 5,
   "metadata": {
    "collapsed": true
   },
   "outputs": [],
   "source": [
    "def gram_matrix(x): # 計算格拉姆矩陣，以下矩陣運算請參考程式 8.5 的第 8~11 項說明\n",
    "    features = K.batch_flatten(K.permute_dimensions(x, (2, 0, 1)))\n",
    "    gram = K.dot(features, K.transpose(features))\n",
    "    return gram\n",
    "              # ↓ 風格參考圖片 # ↓ 生成圖片\n",
    "def style_loss(style, combination): # \n",
    "    S = gram_matrix(style)          # 取得風格參考圖片的格拉姆矩陣\n",
    "    C = gram_matrix(combination)    # 取得生成圖片的格拉姆矩陣\n",
    "    channels = 3\n",
    "    size = img_height * img_width\n",
    "    return K.sum(K.square(S - C)) / (4. * (channels ** 2) * (size ** 2))    \n",
    "            # 格拉姆矩陣元素相減後的平方和"
   ]
  },
  {
   "cell_type": "markdown",
   "metadata": {},
   "source": [
    "### 程式 8.19 總變異損失"
   ]
  },
  {
   "cell_type": "code",
   "execution_count": 6,
   "metadata": {
    "collapsed": true
   },
   "outputs": [],
   "source": [
    "                       # ↓ 生成圖片\n",
    "def total_variation_loss(x):\n",
    "    a = K.square(\n",
    "        x[:, :img_height - 1, :img_width - 1, :] - x[:, 1:, :img_width - 1, :])\n",
    "    b = K.square(\n",
    "        x[:, :img_height - 1, :img_width - 1, :] - x[:, :img_height - 1, 1:, :])\n",
    "    return K.sum(K.pow(a + b, 1.25))\n",
    "                    # 張量次方運算請參考 8.5.py 的第 12 點"
   ]
  },
  {
   "cell_type": "markdown",
   "metadata": {},
   "source": [
    "### 程式 8.20 定義將要最小化的最終損失"
   ]
  },
  {
   "cell_type": "code",
   "execution_count": 7,
   "metadata": {
    "collapsed": true
   },
   "outputs": [],
   "source": [
    "# ↓ 建立一個將層名稱 (key) 對應到層物件的啟動函數輸出張量 (value) 的字典\n",
    "outputs_dict = dict([(layer.name, layer.output) for layer in model.layers])\n",
    "\n",
    "content_layer = 'block5_conv2'  # 要用於內容損失的層名稱\n",
    "# 要用於風格損失的層名稱\n",
    "style_layers = ['block1_conv1',\n",
    "                'block2_conv1',\n",
    "                'block3_conv1',\n",
    "                'block4_conv1',\n",
    "                'block5_conv1']\n",
    "\n",
    "# 三種損失的加權平均值的權重\n",
    "total_variation_weight = 1e-4\n",
    "style_weight = 1.\n",
    "content_weight = 0.025\n",
    "\n",
    "loss = K.variable(0.)   # 透過將所有損失加到此純量變數來定義總損失\n",
    "\n",
    "# 計算內容損失並加到總損失中\n",
    "layer_features = outputs_dict[content_layer]\n",
    "# 0 是因為將三個圖片張量串接輸入到 VGG19 時，目標圖片張量為第 1 個\n",
    "target_image_features = layer_features[0, :, :, :]  \n",
    "combination_features = layer_features[2, :, :, :]   # 生成圖片為第 3 個\n",
    "loss += content_weight * content_loss(target_image_features,\n",
    "                                      combination_features)\n",
    "\n",
    "# 計算指定的層所產生的風格損失並加到總損失中                 \n",
    "for layer_name in style_layers:\n",
    "    layer_features = outputs_dict[layer_name]\n",
    "    style_reference_features = layer_features[1, :, :, :]   # 風格圖片為第二個\n",
    "    combination_features = layer_features[2, :, :, :]       # 理由同上\n",
    "    sl = style_loss(style_reference_features, combination_features)\n",
    "    loss += (style_weight / len(style_layers)) * sl\n",
    "loss += total_variation_weight * total_variation_loss(combination_image)\n",
    "\n",
    "# 計算總變異損失並加到總損失中\n",
    "loss += total_variation_weight * total_variation_loss(combination_image)"
   ]
  },
  {
   "cell_type": "markdown",
   "metadata": {},
   "source": [
    "### 程式 8.21 設定梯度下降處理程序"
   ]
  },
  {
   "cell_type": "code",
   "execution_count": 8,
   "metadata": {
    "collapsed": true
   },
   "outputs": [],
   "source": [
    "# 後端的 gradients() 可以根據 loss 計算生成圖片對應的梯度\n",
    "grads = K.gradients(loss, combination_image)[0]\n",
    "                                            # ↑ 因為我們只輸入一個張量，所以是第一筆的輸出結果\n",
    "fetch_loss_and_grads = K.function([combination_image], [loss, grads]) # 用於取得目前損失值與梯度值的函數\n",
    "\n",
    "\n",
    "# 這個類別以透過兩個單獨方法呼叫的方式，取得損失值和梯度值，\n",
    "# 並封裝成 fetch_loss_and_grads 方式，這是 SciPy 優化器所要求的\n",
    "class Evaluator(object):\n",
    "\n",
    "    def __init__(self):\n",
    "        self.loss_value = None\n",
    "        self.grads_values = None\n",
    "\n",
    "    def loss(self, x):                      # 第一次呼叫取得損失值\n",
    "        assert self.loss_value is None\n",
    "        x = x.reshape((1, img_height, img_width, 3))\n",
    "        outs = fetch_loss_and_grads([x])    # 取得損失值與梯度值\n",
    "        loss_value = outs[0]\n",
    "        grad_values = outs[1].flatten().astype('float64')\n",
    "        self.loss_value = loss_value\n",
    "        self.grad_values = grad_values      # 將梯度值先暫存在記憶體\n",
    "        return self.loss_value\n",
    "\n",
    "    def grads(self, x):                     # 將暫存於記憶體的梯度值回傳\n",
    "        assert self.loss_value is not None\n",
    "        grad_values = np.copy(self.grad_values)\n",
    "        self.loss_value = None\n",
    "        self.grad_values = None\n",
    "        return grad_values\n",
    "\n",
    "evaluator = Evaluator()     # 實例化 Evaluator 物件"
   ]
  },
  {
   "cell_type": "markdown",
   "metadata": {},
   "source": [
    "### 程式 8.22 以 L-BFGS 優化器進行梯度下降, 進行神經風格轉換"
   ]
  },
  {
   "cell_type": "code",
   "execution_count": 9,
   "metadata": {},
   "outputs": [
    {
     "name": "stdout",
     "output_type": "stream",
     "text": [
      "(854400,)\n",
      "第 0 次迭代\n"
     ]
    },
    {
     "ename": "KeyboardInterrupt",
     "evalue": "",
     "output_type": "error",
     "traceback": [
      "\u001b[1;31m---------------------------------------------------------------------------\u001b[0m",
      "\u001b[1;31mKeyboardInterrupt\u001b[0m                         Traceback (most recent call last)",
      "\u001b[1;32m<ipython-input-9-35fe0b6aa444>\u001b[0m in \u001b[0;36m<module>\u001b[1;34m()\u001b[0m\n\u001b[0;32m     17\u001b[0m                                      \u001b[0mx\u001b[0m\u001b[1;33m,\u001b[0m                         \u001b[1;31m# 初始狀態圖片\u001b[0m\u001b[1;33m\u001b[0m\u001b[0m\n\u001b[0;32m     18\u001b[0m                                      \u001b[0mfprime\u001b[0m\u001b[1;33m=\u001b[0m\u001b[0mevaluator\u001b[0m\u001b[1;33m.\u001b[0m\u001b[0mgrads\u001b[0m\u001b[1;33m,\u001b[0m    \u001b[1;31m# 梯度函數\u001b[0m\u001b[1;33m\u001b[0m\u001b[0m\n\u001b[1;32m---> 19\u001b[1;33m                                      maxfun=20)\n\u001b[0m\u001b[0;32m     20\u001b[0m     \u001b[0mprint\u001b[0m\u001b[1;33m(\u001b[0m\u001b[1;34m'目前損失值:'\u001b[0m\u001b[1;33m,\u001b[0m \u001b[0mmin_val\u001b[0m\u001b[1;33m)\u001b[0m\u001b[1;33m\u001b[0m\u001b[0m\n\u001b[0;32m     21\u001b[0m \u001b[1;33m\u001b[0m\u001b[0m\n",
      "\u001b[1;32md:\\Anaconda3\\lib\\site-packages\\scipy\\optimize\\lbfgsb.py\u001b[0m in \u001b[0;36mfmin_l_bfgs_b\u001b[1;34m(func, x0, fprime, args, approx_grad, bounds, m, factr, pgtol, epsilon, iprint, maxfun, maxiter, disp, callback, maxls)\u001b[0m\n\u001b[0;32m    191\u001b[0m \u001b[1;33m\u001b[0m\u001b[0m\n\u001b[0;32m    192\u001b[0m     res = _minimize_lbfgsb(fun, x0, args=args, jac=jac, bounds=bounds,\n\u001b[1;32m--> 193\u001b[1;33m                            **opts)\n\u001b[0m\u001b[0;32m    194\u001b[0m     d = {'grad': res['jac'],\n\u001b[0;32m    195\u001b[0m          \u001b[1;34m'task'\u001b[0m\u001b[1;33m:\u001b[0m \u001b[0mres\u001b[0m\u001b[1;33m[\u001b[0m\u001b[1;34m'message'\u001b[0m\u001b[1;33m]\u001b[0m\u001b[1;33m,\u001b[0m\u001b[1;33m\u001b[0m\u001b[0m\n",
      "\u001b[1;32md:\\Anaconda3\\lib\\site-packages\\scipy\\optimize\\lbfgsb.py\u001b[0m in \u001b[0;36m_minimize_lbfgsb\u001b[1;34m(fun, x0, args, jac, bounds, disp, maxcor, ftol, gtol, eps, maxfun, maxiter, iprint, callback, maxls, **unknown_options)\u001b[0m\n\u001b[0;32m    326\u001b[0m             \u001b[1;31m# until the completion of the current minimization iteration.\u001b[0m\u001b[1;33m\u001b[0m\u001b[1;33m\u001b[0m\u001b[0m\n\u001b[0;32m    327\u001b[0m             \u001b[1;31m# Overwrite f and g:\u001b[0m\u001b[1;33m\u001b[0m\u001b[1;33m\u001b[0m\u001b[0m\n\u001b[1;32m--> 328\u001b[1;33m             \u001b[0mf\u001b[0m\u001b[1;33m,\u001b[0m \u001b[0mg\u001b[0m \u001b[1;33m=\u001b[0m \u001b[0mfunc_and_grad\u001b[0m\u001b[1;33m(\u001b[0m\u001b[0mx\u001b[0m\u001b[1;33m)\u001b[0m\u001b[1;33m\u001b[0m\u001b[0m\n\u001b[0m\u001b[0;32m    329\u001b[0m         \u001b[1;32melif\u001b[0m \u001b[0mtask_str\u001b[0m\u001b[1;33m.\u001b[0m\u001b[0mstartswith\u001b[0m\u001b[1;33m(\u001b[0m\u001b[1;34mb'NEW_X'\u001b[0m\u001b[1;33m)\u001b[0m\u001b[1;33m:\u001b[0m\u001b[1;33m\u001b[0m\u001b[0m\n\u001b[0;32m    330\u001b[0m             \u001b[1;31m# new iteration\u001b[0m\u001b[1;33m\u001b[0m\u001b[1;33m\u001b[0m\u001b[0m\n",
      "\u001b[1;32md:\\Anaconda3\\lib\\site-packages\\scipy\\optimize\\lbfgsb.py\u001b[0m in \u001b[0;36mfunc_and_grad\u001b[1;34m(x)\u001b[0m\n\u001b[0;32m    276\u001b[0m     \u001b[1;32melse\u001b[0m\u001b[1;33m:\u001b[0m\u001b[1;33m\u001b[0m\u001b[0m\n\u001b[0;32m    277\u001b[0m         \u001b[1;32mdef\u001b[0m \u001b[0mfunc_and_grad\u001b[0m\u001b[1;33m(\u001b[0m\u001b[0mx\u001b[0m\u001b[1;33m)\u001b[0m\u001b[1;33m:\u001b[0m\u001b[1;33m\u001b[0m\u001b[0m\n\u001b[1;32m--> 278\u001b[1;33m             \u001b[0mf\u001b[0m \u001b[1;33m=\u001b[0m \u001b[0mfun\u001b[0m\u001b[1;33m(\u001b[0m\u001b[0mx\u001b[0m\u001b[1;33m,\u001b[0m \u001b[1;33m*\u001b[0m\u001b[0margs\u001b[0m\u001b[1;33m)\u001b[0m\u001b[1;33m\u001b[0m\u001b[0m\n\u001b[0m\u001b[0;32m    279\u001b[0m             \u001b[0mg\u001b[0m \u001b[1;33m=\u001b[0m \u001b[0mjac\u001b[0m\u001b[1;33m(\u001b[0m\u001b[0mx\u001b[0m\u001b[1;33m,\u001b[0m \u001b[1;33m*\u001b[0m\u001b[0margs\u001b[0m\u001b[1;33m)\u001b[0m\u001b[1;33m\u001b[0m\u001b[0m\n\u001b[0;32m    280\u001b[0m             \u001b[1;32mreturn\u001b[0m \u001b[0mf\u001b[0m\u001b[1;33m,\u001b[0m \u001b[0mg\u001b[0m\u001b[1;33m\u001b[0m\u001b[0m\n",
      "\u001b[1;32md:\\Anaconda3\\lib\\site-packages\\scipy\\optimize\\optimize.py\u001b[0m in \u001b[0;36mfunction_wrapper\u001b[1;34m(*wrapper_args)\u001b[0m\n\u001b[0;32m    290\u001b[0m     \u001b[1;32mdef\u001b[0m \u001b[0mfunction_wrapper\u001b[0m\u001b[1;33m(\u001b[0m\u001b[1;33m*\u001b[0m\u001b[0mwrapper_args\u001b[0m\u001b[1;33m)\u001b[0m\u001b[1;33m:\u001b[0m\u001b[1;33m\u001b[0m\u001b[0m\n\u001b[0;32m    291\u001b[0m         \u001b[0mncalls\u001b[0m\u001b[1;33m[\u001b[0m\u001b[1;36m0\u001b[0m\u001b[1;33m]\u001b[0m \u001b[1;33m+=\u001b[0m \u001b[1;36m1\u001b[0m\u001b[1;33m\u001b[0m\u001b[0m\n\u001b[1;32m--> 292\u001b[1;33m         \u001b[1;32mreturn\u001b[0m \u001b[0mfunction\u001b[0m\u001b[1;33m(\u001b[0m\u001b[1;33m*\u001b[0m\u001b[1;33m(\u001b[0m\u001b[0mwrapper_args\u001b[0m \u001b[1;33m+\u001b[0m \u001b[0margs\u001b[0m\u001b[1;33m)\u001b[0m\u001b[1;33m)\u001b[0m\u001b[1;33m\u001b[0m\u001b[0m\n\u001b[0m\u001b[0;32m    293\u001b[0m \u001b[1;33m\u001b[0m\u001b[0m\n\u001b[0;32m    294\u001b[0m     \u001b[1;32mreturn\u001b[0m \u001b[0mncalls\u001b[0m\u001b[1;33m,\u001b[0m \u001b[0mfunction_wrapper\u001b[0m\u001b[1;33m\u001b[0m\u001b[0m\n",
      "\u001b[1;32m<ipython-input-8-6e91ffde5292>\u001b[0m in \u001b[0;36mloss\u001b[1;34m(self, x)\u001b[0m\n\u001b[0;32m     16\u001b[0m         \u001b[1;32massert\u001b[0m \u001b[0mself\u001b[0m\u001b[1;33m.\u001b[0m\u001b[0mloss_value\u001b[0m \u001b[1;32mis\u001b[0m \u001b[1;32mNone\u001b[0m\u001b[1;33m\u001b[0m\u001b[0m\n\u001b[0;32m     17\u001b[0m         \u001b[0mx\u001b[0m \u001b[1;33m=\u001b[0m \u001b[0mx\u001b[0m\u001b[1;33m.\u001b[0m\u001b[0mreshape\u001b[0m\u001b[1;33m(\u001b[0m\u001b[1;33m(\u001b[0m\u001b[1;36m1\u001b[0m\u001b[1;33m,\u001b[0m \u001b[0mimg_height\u001b[0m\u001b[1;33m,\u001b[0m \u001b[0mimg_width\u001b[0m\u001b[1;33m,\u001b[0m \u001b[1;36m3\u001b[0m\u001b[1;33m)\u001b[0m\u001b[1;33m)\u001b[0m\u001b[1;33m\u001b[0m\u001b[0m\n\u001b[1;32m---> 18\u001b[1;33m         \u001b[0mouts\u001b[0m \u001b[1;33m=\u001b[0m \u001b[0mfetch_loss_and_grads\u001b[0m\u001b[1;33m(\u001b[0m\u001b[1;33m[\u001b[0m\u001b[0mx\u001b[0m\u001b[1;33m]\u001b[0m\u001b[1;33m)\u001b[0m    \u001b[1;31m# 取得損失值與梯度值\u001b[0m\u001b[1;33m\u001b[0m\u001b[0m\n\u001b[0m\u001b[0;32m     19\u001b[0m         \u001b[0mloss_value\u001b[0m \u001b[1;33m=\u001b[0m \u001b[0mouts\u001b[0m\u001b[1;33m[\u001b[0m\u001b[1;36m0\u001b[0m\u001b[1;33m]\u001b[0m\u001b[1;33m\u001b[0m\u001b[0m\n\u001b[0;32m     20\u001b[0m         \u001b[0mgrad_values\u001b[0m \u001b[1;33m=\u001b[0m \u001b[0mouts\u001b[0m\u001b[1;33m[\u001b[0m\u001b[1;36m1\u001b[0m\u001b[1;33m]\u001b[0m\u001b[1;33m.\u001b[0m\u001b[0mflatten\u001b[0m\u001b[1;33m(\u001b[0m\u001b[1;33m)\u001b[0m\u001b[1;33m.\u001b[0m\u001b[0mastype\u001b[0m\u001b[1;33m(\u001b[0m\u001b[1;34m'float64'\u001b[0m\u001b[1;33m)\u001b[0m\u001b[1;33m\u001b[0m\u001b[0m\n",
      "\u001b[1;32md:\\Anaconda3\\lib\\site-packages\\keras\\backend\\tensorflow_backend.py\u001b[0m in \u001b[0;36m__call__\u001b[1;34m(self, inputs)\u001b[0m\n\u001b[0;32m   2355\u001b[0m         \u001b[0msession\u001b[0m \u001b[1;33m=\u001b[0m \u001b[0mget_session\u001b[0m\u001b[1;33m(\u001b[0m\u001b[1;33m)\u001b[0m\u001b[1;33m\u001b[0m\u001b[0m\n\u001b[0;32m   2356\u001b[0m         updated = session.run(fetches=fetches, feed_dict=feed_dict,\n\u001b[1;32m-> 2357\u001b[1;33m                               **self.session_kwargs)\n\u001b[0m\u001b[0;32m   2358\u001b[0m         \u001b[1;32mreturn\u001b[0m \u001b[0mupdated\u001b[0m\u001b[1;33m[\u001b[0m\u001b[1;33m:\u001b[0m\u001b[0mlen\u001b[0m\u001b[1;33m(\u001b[0m\u001b[0mself\u001b[0m\u001b[1;33m.\u001b[0m\u001b[0moutputs\u001b[0m\u001b[1;33m)\u001b[0m\u001b[1;33m]\u001b[0m\u001b[1;33m\u001b[0m\u001b[0m\n\u001b[0;32m   2359\u001b[0m \u001b[1;33m\u001b[0m\u001b[0m\n",
      "\u001b[1;32md:\\Anaconda3\\lib\\site-packages\\tensorflow\\python\\client\\session.py\u001b[0m in \u001b[0;36mrun\u001b[1;34m(self, fetches, feed_dict, options, run_metadata)\u001b[0m\n\u001b[0;32m    787\u001b[0m     \u001b[1;32mtry\u001b[0m\u001b[1;33m:\u001b[0m\u001b[1;33m\u001b[0m\u001b[0m\n\u001b[0;32m    788\u001b[0m       result = self._run(None, fetches, feed_dict, options_ptr,\n\u001b[1;32m--> 789\u001b[1;33m                          run_metadata_ptr)\n\u001b[0m\u001b[0;32m    790\u001b[0m       \u001b[1;32mif\u001b[0m \u001b[0mrun_metadata\u001b[0m\u001b[1;33m:\u001b[0m\u001b[1;33m\u001b[0m\u001b[0m\n\u001b[0;32m    791\u001b[0m         \u001b[0mproto_data\u001b[0m \u001b[1;33m=\u001b[0m \u001b[0mtf_session\u001b[0m\u001b[1;33m.\u001b[0m\u001b[0mTF_GetBuffer\u001b[0m\u001b[1;33m(\u001b[0m\u001b[0mrun_metadata_ptr\u001b[0m\u001b[1;33m)\u001b[0m\u001b[1;33m\u001b[0m\u001b[0m\n",
      "\u001b[1;32md:\\Anaconda3\\lib\\site-packages\\tensorflow\\python\\client\\session.py\u001b[0m in \u001b[0;36m_run\u001b[1;34m(self, handle, fetches, feed_dict, options, run_metadata)\u001b[0m\n\u001b[0;32m    995\u001b[0m     \u001b[1;32mif\u001b[0m \u001b[0mfinal_fetches\u001b[0m \u001b[1;32mor\u001b[0m \u001b[0mfinal_targets\u001b[0m\u001b[1;33m:\u001b[0m\u001b[1;33m\u001b[0m\u001b[0m\n\u001b[0;32m    996\u001b[0m       results = self._do_run(handle, final_targets, final_fetches,\n\u001b[1;32m--> 997\u001b[1;33m                              feed_dict_string, options, run_metadata)\n\u001b[0m\u001b[0;32m    998\u001b[0m     \u001b[1;32melse\u001b[0m\u001b[1;33m:\u001b[0m\u001b[1;33m\u001b[0m\u001b[0m\n\u001b[0;32m    999\u001b[0m       \u001b[0mresults\u001b[0m \u001b[1;33m=\u001b[0m \u001b[1;33m[\u001b[0m\u001b[1;33m]\u001b[0m\u001b[1;33m\u001b[0m\u001b[0m\n",
      "\u001b[1;32md:\\Anaconda3\\lib\\site-packages\\tensorflow\\python\\client\\session.py\u001b[0m in \u001b[0;36m_do_run\u001b[1;34m(self, handle, target_list, fetch_list, feed_dict, options, run_metadata)\u001b[0m\n\u001b[0;32m   1130\u001b[0m     \u001b[1;32mif\u001b[0m \u001b[0mhandle\u001b[0m \u001b[1;32mis\u001b[0m \u001b[1;32mNone\u001b[0m\u001b[1;33m:\u001b[0m\u001b[1;33m\u001b[0m\u001b[0m\n\u001b[0;32m   1131\u001b[0m       return self._do_call(_run_fn, self._session, feed_dict, fetch_list,\n\u001b[1;32m-> 1132\u001b[1;33m                            target_list, options, run_metadata)\n\u001b[0m\u001b[0;32m   1133\u001b[0m     \u001b[1;32melse\u001b[0m\u001b[1;33m:\u001b[0m\u001b[1;33m\u001b[0m\u001b[0m\n\u001b[0;32m   1134\u001b[0m       return self._do_call(_prun_fn, self._session, handle, feed_dict,\n",
      "\u001b[1;32md:\\Anaconda3\\lib\\site-packages\\tensorflow\\python\\client\\session.py\u001b[0m in \u001b[0;36m_do_call\u001b[1;34m(self, fn, *args)\u001b[0m\n\u001b[0;32m   1137\u001b[0m   \u001b[1;32mdef\u001b[0m \u001b[0m_do_call\u001b[0m\u001b[1;33m(\u001b[0m\u001b[0mself\u001b[0m\u001b[1;33m,\u001b[0m \u001b[0mfn\u001b[0m\u001b[1;33m,\u001b[0m \u001b[1;33m*\u001b[0m\u001b[0margs\u001b[0m\u001b[1;33m)\u001b[0m\u001b[1;33m:\u001b[0m\u001b[1;33m\u001b[0m\u001b[0m\n\u001b[0;32m   1138\u001b[0m     \u001b[1;32mtry\u001b[0m\u001b[1;33m:\u001b[0m\u001b[1;33m\u001b[0m\u001b[0m\n\u001b[1;32m-> 1139\u001b[1;33m       \u001b[1;32mreturn\u001b[0m \u001b[0mfn\u001b[0m\u001b[1;33m(\u001b[0m\u001b[1;33m*\u001b[0m\u001b[0margs\u001b[0m\u001b[1;33m)\u001b[0m\u001b[1;33m\u001b[0m\u001b[0m\n\u001b[0m\u001b[0;32m   1140\u001b[0m     \u001b[1;32mexcept\u001b[0m \u001b[0merrors\u001b[0m\u001b[1;33m.\u001b[0m\u001b[0mOpError\u001b[0m \u001b[1;32mas\u001b[0m \u001b[0me\u001b[0m\u001b[1;33m:\u001b[0m\u001b[1;33m\u001b[0m\u001b[0m\n\u001b[0;32m   1141\u001b[0m       \u001b[0mmessage\u001b[0m \u001b[1;33m=\u001b[0m \u001b[0mcompat\u001b[0m\u001b[1;33m.\u001b[0m\u001b[0mas_text\u001b[0m\u001b[1;33m(\u001b[0m\u001b[0me\u001b[0m\u001b[1;33m.\u001b[0m\u001b[0mmessage\u001b[0m\u001b[1;33m)\u001b[0m\u001b[1;33m\u001b[0m\u001b[0m\n",
      "\u001b[1;32md:\\Anaconda3\\lib\\site-packages\\tensorflow\\python\\client\\session.py\u001b[0m in \u001b[0;36m_run_fn\u001b[1;34m(session, feed_dict, fetch_list, target_list, options, run_metadata)\u001b[0m\n\u001b[0;32m   1119\u001b[0m         return tf_session.TF_Run(session, options,\n\u001b[0;32m   1120\u001b[0m                                  \u001b[0mfeed_dict\u001b[0m\u001b[1;33m,\u001b[0m \u001b[0mfetch_list\u001b[0m\u001b[1;33m,\u001b[0m \u001b[0mtarget_list\u001b[0m\u001b[1;33m,\u001b[0m\u001b[1;33m\u001b[0m\u001b[0m\n\u001b[1;32m-> 1121\u001b[1;33m                                  status, run_metadata)\n\u001b[0m\u001b[0;32m   1122\u001b[0m \u001b[1;33m\u001b[0m\u001b[0m\n\u001b[0;32m   1123\u001b[0m     \u001b[1;32mdef\u001b[0m \u001b[0m_prun_fn\u001b[0m\u001b[1;33m(\u001b[0m\u001b[0msession\u001b[0m\u001b[1;33m,\u001b[0m \u001b[0mhandle\u001b[0m\u001b[1;33m,\u001b[0m \u001b[0mfeed_dict\u001b[0m\u001b[1;33m,\u001b[0m \u001b[0mfetch_list\u001b[0m\u001b[1;33m)\u001b[0m\u001b[1;33m:\u001b[0m\u001b[1;33m\u001b[0m\u001b[0m\n",
      "\u001b[1;31mKeyboardInterrupt\u001b[0m: "
     ]
    }
   ],
   "source": [
    "from scipy.optimize import fmin_l_bfgs_b    # L-BFGS 優化器\n",
    "from scipy.misc import imsave               # 儲存圖片功能\n",
    "import time                                 \n",
    "\n",
    "result_prefix = 'style_transfer_result'     # 生成圖片的檔名\n",
    "iterations = 20                             # 迭代總次數                         \n",
    "\n",
    "x = preprocess_image(target_image_path)     # 這是初始狀態：目標圖片\n",
    "x = x.flatten()  # 將 array 變成 1 維 (拉平，scipy.optimize.fmin_l_bfgs_b 只能處理平面向量)\n",
    "print(x.shape) \n",
    "for i in range(iterations):\n",
    "    print(f'第 {i} 次迭代')\n",
    "    start_time = time.time()           \n",
    "    # 對生成圖像的像素執行L-BFGS優化以以最小化神經風格損失。\n",
    "    # 注意到必須將計算損失值的函數與計算梯度值的函數作為兩個單獨的參數傳遞     \n",
    "    x, min_val, info = fmin_l_bfgs_b(evaluator.loss,    # 要最小化的損失函數\n",
    "                                     x,                         # 初始狀態圖片\n",
    "                                     fprime=evaluator.grads,    # 梯度函數\n",
    "                                     maxfun=20)\n",
    "    print('目前損失值:', min_val)\n",
    "\n",
    "    img = x.copy().reshape((img_height, img_width, 3))\n",
    "    img = deprocess_image(img)  \n",
    "    fname = result_prefix + '_at_iteration_%d.png' % i\n",
    "    imsave(fname, img)\n",
    "    end_time = time.time()\n",
    "    print(f'圖片以檔名 {fname} 儲存')\n",
    "    print(f'第 {i} 次迭代所花費的時間:{end_time - start_time}')"
   ]
  },
  {
   "cell_type": "markdown",
   "metadata": {},
   "source": [
    "# 8.4 使用變分自編碼器生成圖像"
   ]
  },
  {
   "cell_type": "markdown",
   "metadata": {},
   "source": [
    "### 程式 8.23 將輸入圖像 x 對應 (編碼) 到兩個向量"
   ]
  },
  {
   "cell_type": "code",
   "execution_count": 47,
   "metadata": {},
   "outputs": [
    {
     "name": "stdout",
     "output_type": "stream",
     "text": [
      "(?, 28, 28, 1)\n",
      "(?, 14, 14, 64)\n",
      "(None, 14, 14, 64)\n",
      "(?, 32)\n"
     ]
    }
   ],
   "source": [
    "import keras\n",
    "from keras import layers\n",
    "from keras import backend as K\n",
    "from keras.models import Model\n",
    "import numpy as np\n",
    "\n",
    "img_shape = (28, 28, 1)\n",
    "batch_size = 16\n",
    "latent_dim = 2  # 潛在空間的維度 (數)：2D 平面\n",
    "\n",
    "input_img = keras.Input(shape=img_shape)    # 建立原始圖像大小的輸入張量\n",
    "print(input_img.shape) # 輸入張量 shape = (?, 28, 28, 1)\n",
    "x = layers.Conv2D(32, 3,\n",
    "                  padding='same', activation='relu')(input_img)\n",
    "x = layers.Conv2D(64, 3,\n",
    "                  padding='same', activation='relu',\n",
    "                  strides=(2, 2))(x)\n",
    "x = layers.Conv2D(64, 3,\n",
    "                  padding='same', activation='relu')(x)\n",
    "x = layers.Conv2D(64, 3,\n",
    "                  padding='same', activation='relu')(x)\n",
    "\n",
    "print(x.shape) # 經過卷積後的 shape = (?, 14, 14, 64)\n",
    "\n",
    "shape_before_flattening = K.int_shape(x)    # 以 tuple 回傳張量的大小\n",
    "print(shape_before_flattening)              # tuple: (None, 14, 14, 64)\n",
    "\n",
    "x = layers.Flatten()(x)     # 將張量拉平 [[x1, x2,...]], shape = (?, ?)\n",
    "x = layers.Dense(32, activation='relu')(x)\n",
    "print(x.shape)  # shape = (?, 32)\n",
    "\n",
    "# 輸入圖像最終被編碼成這兩個參數\n",
    "z_mean = layers.Dense(latent_dim)(x)    # shape=(?,2)\n",
    "z_log_var = layers.Dense(latent_dim)(x) # shape=(?,2)"
   ]
  },
  {
   "cell_type": "markdown",
   "metadata": {},
   "source": [
    "### 程式 8.24 潛在空間的取樣函式"
   ]
  },
  {
   "cell_type": "code",
   "execution_count": 48,
   "metadata": {},
   "outputs": [
    {
     "name": "stdout",
     "output_type": "stream",
     "text": [
      "(?, 2)\n"
     ]
    }
   ],
   "source": [
    "def sampling(args):\n",
    "    z_mean, z_log_var = args\n",
    "    epsilon = K.random_normal(shape=(K.shape(z_mean)[0], latent_dim),\n",
    "                              mean=0., stddev=1.)   # 產生隨機值\n",
    "    return z_mean + K.exp(z_log_var) * epsilon      # 回傳取樣的點\n",
    "\n",
    "z = layers.Lambda(sampling)([z_mean, z_log_var])    # 取樣出潛在空間中的點 z, shape = (?, 2)\n",
    "print(z.shape)"
   ]
  },
  {
   "cell_type": "markdown",
   "metadata": {},
   "source": [
    "### 程式 8.25 VAE 解碼器神經網路，將潛在空間點 z 對應到 (轉換) 圖像"
   ]
  },
  {
   "cell_type": "code",
   "execution_count": 53,
   "metadata": {},
   "outputs": [
    {
     "name": "stdout",
     "output_type": "stream",
     "text": [
      "(?, 12544)\n",
      "(?, 14, 14, 64)\n",
      "(?, ?, ?, 32)\n",
      "(?, ?, ?, 1)\n",
      "_________________________________________________________________\n",
      "Layer (type)                 Output Shape              Param #   \n",
      "=================================================================\n",
      "input_6 (InputLayer)         (None, 2)                 0         \n",
      "_________________________________________________________________\n",
      "dense_8 (Dense)              (None, 12544)             37632     \n",
      "_________________________________________________________________\n",
      "reshape_3 (Reshape)          (None, 14, 14, 64)        0         \n",
      "_________________________________________________________________\n",
      "conv2d_transpose_3 (Conv2DTr (None, 28, 28, 32)        18464     \n",
      "_________________________________________________________________\n",
      "conv2d_104 (Conv2D)          (None, 28, 28, 1)         289       \n",
      "=================================================================\n",
      "Total params: 56,385\n",
      "Trainable params: 56,385\n",
      "Non-trainable params: 0\n",
      "_________________________________________________________________\n"
     ]
    }
   ],
   "source": [
    "# 以 z 的大小建立一輸入張量, shape = (?, 2), 作為 z 的輸入\n",
    "decoder_input = layers.Input(K.int_shape(z)[1:])    \n",
    "\n",
    "\n",
    "                    # 元素相乘, 結果為 14x14x64 = 12544  # 拉平前的張量 shape = (14, 14, 64)\n",
    "x = layers.Dense(np.prod(shape_before_flattening[1:]),\n",
    "                 activation='relu')(decoder_input)  # 對 z 進行上採樣\n",
    "print(x.shape) # 進行上取樣後, shape = (?, 12544)\n",
    "\n",
    "# 將 z 的 shape 重塑為與編碼器模型中最後一個 Flatte 層 (拉平) 之前的 shape \n",
    "x = layers.Reshape(shape_before_flattening[1:])(x)\n",
    "print(x.shape) # shape = (?, 14, 14, 64)\n",
    "\n",
    "\n",
    "# 使用 Conv2DTranspose 層 (反卷積) 和 Conv2D 層，將 z 解碼為與原始圖像輸入大小相同的特徵圖 (張量)\n",
    "x = layers.Conv2DTranspose(32, 3,   # 反卷積\n",
    "                           padding='same', activation='relu',\n",
    "                           strides=(2, 2))(x)\n",
    "print(x.shape) # shape = (?, 28, 28, 32)\n",
    "\n",
    "x = layers.Conv2D(1, 3,\n",
    "                  padding='same', activation='sigmoid')(x)\n",
    "print(x.shape) # shape = (?, 28, 28, 1), 已經將 z 的 shape 重朔成與原始圖像輸入張量相同\n",
    "\n",
    "decoder = Model(decoder_input, x)   # 實例化解碼器模型，其可以將輸入張量 \"decoder_input\" 變為解碼圖像\n",
    "\n",
    "decoder.summary()\n",
    "\n",
    "z_decoded = decoder(z)  # 將輸入張量 z 輸入給解碼器模型, 得到了 z 的解碼圖像"
   ]
  },
  {
   "cell_type": "markdown",
   "metadata": {},
   "source": [
    "### 程式 8.26 建立用於計算 VAE 損失的自定義層"
   ]
  },
  {
   "cell_type": "code",
   "execution_count": 50,
   "metadata": {},
   "outputs": [
    {
     "name": "stdout",
     "output_type": "stream",
     "text": [
      "(?, 28, 28, 1)\n"
     ]
    }
   ],
   "source": [
    "class CustomVariationalLayer(keras.layers.Layer):\n",
    "    \n",
    "    def vae_loss(self, x, z_decoded):   # 計算 VAE 損失\n",
    "        x = K.flatten(x)                   \n",
    "        z_decoded = K.flatten(z_decoded)    \n",
    "        xent_loss = keras.metrics.binary_crossentropy(x, z_decoded) \n",
    "        kl_loss = -5e-4 * K.mean(\n",
    "            1 + z_log_var - K.square(z_mean) - K.exp(z_log_var), axis=-1)\n",
    "        return K.mean(xent_loss + kl_loss)\n",
    "\n",
    "    def call(self, inputs):     # 透過撰寫 call 方法 (method) 來實作自定義層\n",
    "        x = inputs[0]           # 輸入圖像\n",
    "        z_decoded = inputs[1]   # 解碼圖像\n",
    "        loss = self.vae_loss(x, z_decoded)  # 用兩者來計算 VAE 損失\n",
    "        self.add_loss(loss, inputs=inputs)  # 將損失加到層之中\n",
    "        return x                # 不會使用此輸出，但層必須回傳一些內容\n",
    "\n",
    "# 以原始輸入和解碼輸出為基準，呼叫自定義層 (執行 call method)，以獲取計算 VAE 損失後的最終模型輸出\n",
    "y = CustomVariationalLayer()([input_img, z_decoded])    \n",
    "print(y.shape)  # 最終輸出為圖片, 其 shape = (?, 28, 28, 1)"
   ]
  },
  {
   "cell_type": "markdown",
   "metadata": {},
   "source": [
    "### 程式 8.27 訓練 VAE：使用 MNIST 資料"
   ]
  },
  {
   "cell_type": "code",
   "execution_count": 51,
   "metadata": {},
   "outputs": [
    {
     "name": "stderr",
     "output_type": "stream",
     "text": [
      "d:\\Anaconda3\\lib\\site-packages\\ipykernel_launcher.py:4: UserWarning: Output \"custom_variational_layer_1\" missing from loss dictionary. We assume this was done on purpose, and we will not be expecting any data to be passed to \"custom_variational_layer_1\" during training.\n",
      "  after removing the cwd from sys.path.\n"
     ]
    },
    {
     "name": "stdout",
     "output_type": "stream",
     "text": [
      "__________________________________________________________________________________________________\n",
      "Layer (type)                    Output Shape         Param #     Connected to                     \n",
      "==================================================================================================\n",
      "input_3 (InputLayer)            (None, 28, 28, 1)    0                                            \n",
      "__________________________________________________________________________________________________\n",
      "conv2d_95 (Conv2D)              (None, 28, 28, 32)   320         input_3[0][0]                    \n",
      "__________________________________________________________________________________________________\n",
      "conv2d_96 (Conv2D)              (None, 14, 14, 64)   18496       conv2d_95[0][0]                  \n",
      "__________________________________________________________________________________________________\n",
      "conv2d_97 (Conv2D)              (None, 14, 14, 64)   36928       conv2d_96[0][0]                  \n",
      "__________________________________________________________________________________________________\n",
      "conv2d_98 (Conv2D)              (None, 14, 14, 64)   36928       conv2d_97[0][0]                  \n",
      "__________________________________________________________________________________________________\n",
      "flatten_1 (Flatten)             (None, 12544)        0           conv2d_98[0][0]                  \n",
      "__________________________________________________________________________________________________\n",
      "dense_3 (Dense)                 (None, 32)           401440      flatten_1[0][0]                  \n",
      "__________________________________________________________________________________________________\n",
      "dense_4 (Dense)                 (None, 2)            66          dense_3[0][0]                    \n",
      "__________________________________________________________________________________________________\n",
      "dense_5 (Dense)                 (None, 2)            66          dense_3[0][0]                    \n",
      "__________________________________________________________________________________________________\n",
      "lambda_2 (Lambda)               (None, 2)            0           dense_4[0][0]                    \n",
      "                                                                 dense_5[0][0]                    \n",
      "__________________________________________________________________________________________________\n",
      "model_1 (Model)                 (None, 28, 28, 1)    56385       lambda_2[0][0]                   \n",
      "__________________________________________________________________________________________________\n",
      "custom_variational_layer_1 (Cus [(None, 28, 28, 1),  0           input_3[0][0]                    \n",
      "                                                                 model_1[1][0]                    \n",
      "==================================================================================================\n",
      "Total params: 550,629\n",
      "Trainable params: 550,629\n",
      "Non-trainable params: 0\n",
      "__________________________________________________________________________________________________\n",
      "Train on 60000 samples, validate on 10000 samples\n",
      "Epoch 1/10\n",
      " 5600/60000 [=>............................] - ETA: 8:47 - loss: 0.3616"
     ]
    },
    {
     "ename": "KeyboardInterrupt",
     "evalue": "",
     "output_type": "error",
     "traceback": [
      "\u001b[1;31m---------------------------------------------------------------------------\u001b[0m",
      "\u001b[1;31mKeyboardInterrupt\u001b[0m                         Traceback (most recent call last)",
      "\u001b[1;32m<ipython-input-51-c01cc74a29c4>\u001b[0m in \u001b[0;36m<module>\u001b[1;34m()\u001b[0m\n\u001b[0;32m     16\u001b[0m         \u001b[0mepochs\u001b[0m\u001b[1;33m=\u001b[0m\u001b[1;36m10\u001b[0m\u001b[1;33m,\u001b[0m\u001b[1;33m\u001b[0m\u001b[0m\n\u001b[0;32m     17\u001b[0m         \u001b[0mbatch_size\u001b[0m\u001b[1;33m=\u001b[0m\u001b[0mbatch_size\u001b[0m\u001b[1;33m,\u001b[0m\u001b[1;33m\u001b[0m\u001b[0m\n\u001b[1;32m---> 18\u001b[1;33m         validation_data=(x_test, None))\n\u001b[0m",
      "\u001b[1;32md:\\Anaconda3\\lib\\site-packages\\keras\\engine\\training.py\u001b[0m in \u001b[0;36mfit\u001b[1;34m(self, x, y, batch_size, epochs, verbose, callbacks, validation_split, validation_data, shuffle, class_weight, sample_weight, initial_epoch, steps_per_epoch, validation_steps, **kwargs)\u001b[0m\n\u001b[0;32m   1655\u001b[0m                               \u001b[0minitial_epoch\u001b[0m\u001b[1;33m=\u001b[0m\u001b[0minitial_epoch\u001b[0m\u001b[1;33m,\u001b[0m\u001b[1;33m\u001b[0m\u001b[0m\n\u001b[0;32m   1656\u001b[0m                               \u001b[0msteps_per_epoch\u001b[0m\u001b[1;33m=\u001b[0m\u001b[0msteps_per_epoch\u001b[0m\u001b[1;33m,\u001b[0m\u001b[1;33m\u001b[0m\u001b[0m\n\u001b[1;32m-> 1657\u001b[1;33m                               validation_steps=validation_steps)\n\u001b[0m\u001b[0;32m   1658\u001b[0m \u001b[1;33m\u001b[0m\u001b[0m\n\u001b[0;32m   1659\u001b[0m     def evaluate(self, x=None, y=None,\n",
      "\u001b[1;32md:\\Anaconda3\\lib\\site-packages\\keras\\engine\\training.py\u001b[0m in \u001b[0;36m_fit_loop\u001b[1;34m(self, f, ins, out_labels, batch_size, epochs, verbose, callbacks, val_f, val_ins, shuffle, callback_metrics, initial_epoch, steps_per_epoch, validation_steps)\u001b[0m\n\u001b[0;32m   1211\u001b[0m                     \u001b[0mbatch_logs\u001b[0m\u001b[1;33m[\u001b[0m\u001b[1;34m'size'\u001b[0m\u001b[1;33m]\u001b[0m \u001b[1;33m=\u001b[0m \u001b[0mlen\u001b[0m\u001b[1;33m(\u001b[0m\u001b[0mbatch_ids\u001b[0m\u001b[1;33m)\u001b[0m\u001b[1;33m\u001b[0m\u001b[0m\n\u001b[0;32m   1212\u001b[0m                     \u001b[0mcallbacks\u001b[0m\u001b[1;33m.\u001b[0m\u001b[0mon_batch_begin\u001b[0m\u001b[1;33m(\u001b[0m\u001b[0mbatch_index\u001b[0m\u001b[1;33m,\u001b[0m \u001b[0mbatch_logs\u001b[0m\u001b[1;33m)\u001b[0m\u001b[1;33m\u001b[0m\u001b[0m\n\u001b[1;32m-> 1213\u001b[1;33m                     \u001b[0mouts\u001b[0m \u001b[1;33m=\u001b[0m \u001b[0mf\u001b[0m\u001b[1;33m(\u001b[0m\u001b[0mins_batch\u001b[0m\u001b[1;33m)\u001b[0m\u001b[1;33m\u001b[0m\u001b[0m\n\u001b[0m\u001b[0;32m   1214\u001b[0m                     \u001b[1;32mif\u001b[0m \u001b[1;32mnot\u001b[0m \u001b[0misinstance\u001b[0m\u001b[1;33m(\u001b[0m\u001b[0mouts\u001b[0m\u001b[1;33m,\u001b[0m \u001b[0mlist\u001b[0m\u001b[1;33m)\u001b[0m\u001b[1;33m:\u001b[0m\u001b[1;33m\u001b[0m\u001b[0m\n\u001b[0;32m   1215\u001b[0m                         \u001b[0mouts\u001b[0m \u001b[1;33m=\u001b[0m \u001b[1;33m[\u001b[0m\u001b[0mouts\u001b[0m\u001b[1;33m]\u001b[0m\u001b[1;33m\u001b[0m\u001b[0m\n",
      "\u001b[1;32md:\\Anaconda3\\lib\\site-packages\\keras\\backend\\tensorflow_backend.py\u001b[0m in \u001b[0;36m__call__\u001b[1;34m(self, inputs)\u001b[0m\n\u001b[0;32m   2355\u001b[0m         \u001b[0msession\u001b[0m \u001b[1;33m=\u001b[0m \u001b[0mget_session\u001b[0m\u001b[1;33m(\u001b[0m\u001b[1;33m)\u001b[0m\u001b[1;33m\u001b[0m\u001b[0m\n\u001b[0;32m   2356\u001b[0m         updated = session.run(fetches=fetches, feed_dict=feed_dict,\n\u001b[1;32m-> 2357\u001b[1;33m                               **self.session_kwargs)\n\u001b[0m\u001b[0;32m   2358\u001b[0m         \u001b[1;32mreturn\u001b[0m \u001b[0mupdated\u001b[0m\u001b[1;33m[\u001b[0m\u001b[1;33m:\u001b[0m\u001b[0mlen\u001b[0m\u001b[1;33m(\u001b[0m\u001b[0mself\u001b[0m\u001b[1;33m.\u001b[0m\u001b[0moutputs\u001b[0m\u001b[1;33m)\u001b[0m\u001b[1;33m]\u001b[0m\u001b[1;33m\u001b[0m\u001b[0m\n\u001b[0;32m   2359\u001b[0m \u001b[1;33m\u001b[0m\u001b[0m\n",
      "\u001b[1;32md:\\Anaconda3\\lib\\site-packages\\tensorflow\\python\\client\\session.py\u001b[0m in \u001b[0;36mrun\u001b[1;34m(self, fetches, feed_dict, options, run_metadata)\u001b[0m\n\u001b[0;32m    787\u001b[0m     \u001b[1;32mtry\u001b[0m\u001b[1;33m:\u001b[0m\u001b[1;33m\u001b[0m\u001b[0m\n\u001b[0;32m    788\u001b[0m       result = self._run(None, fetches, feed_dict, options_ptr,\n\u001b[1;32m--> 789\u001b[1;33m                          run_metadata_ptr)\n\u001b[0m\u001b[0;32m    790\u001b[0m       \u001b[1;32mif\u001b[0m \u001b[0mrun_metadata\u001b[0m\u001b[1;33m:\u001b[0m\u001b[1;33m\u001b[0m\u001b[0m\n\u001b[0;32m    791\u001b[0m         \u001b[0mproto_data\u001b[0m \u001b[1;33m=\u001b[0m \u001b[0mtf_session\u001b[0m\u001b[1;33m.\u001b[0m\u001b[0mTF_GetBuffer\u001b[0m\u001b[1;33m(\u001b[0m\u001b[0mrun_metadata_ptr\u001b[0m\u001b[1;33m)\u001b[0m\u001b[1;33m\u001b[0m\u001b[0m\n",
      "\u001b[1;32md:\\Anaconda3\\lib\\site-packages\\tensorflow\\python\\client\\session.py\u001b[0m in \u001b[0;36m_run\u001b[1;34m(self, handle, fetches, feed_dict, options, run_metadata)\u001b[0m\n\u001b[0;32m    995\u001b[0m     \u001b[1;32mif\u001b[0m \u001b[0mfinal_fetches\u001b[0m \u001b[1;32mor\u001b[0m \u001b[0mfinal_targets\u001b[0m\u001b[1;33m:\u001b[0m\u001b[1;33m\u001b[0m\u001b[0m\n\u001b[0;32m    996\u001b[0m       results = self._do_run(handle, final_targets, final_fetches,\n\u001b[1;32m--> 997\u001b[1;33m                              feed_dict_string, options, run_metadata)\n\u001b[0m\u001b[0;32m    998\u001b[0m     \u001b[1;32melse\u001b[0m\u001b[1;33m:\u001b[0m\u001b[1;33m\u001b[0m\u001b[0m\n\u001b[0;32m    999\u001b[0m       \u001b[0mresults\u001b[0m \u001b[1;33m=\u001b[0m \u001b[1;33m[\u001b[0m\u001b[1;33m]\u001b[0m\u001b[1;33m\u001b[0m\u001b[0m\n",
      "\u001b[1;32md:\\Anaconda3\\lib\\site-packages\\tensorflow\\python\\client\\session.py\u001b[0m in \u001b[0;36m_do_run\u001b[1;34m(self, handle, target_list, fetch_list, feed_dict, options, run_metadata)\u001b[0m\n\u001b[0;32m   1130\u001b[0m     \u001b[1;32mif\u001b[0m \u001b[0mhandle\u001b[0m \u001b[1;32mis\u001b[0m \u001b[1;32mNone\u001b[0m\u001b[1;33m:\u001b[0m\u001b[1;33m\u001b[0m\u001b[0m\n\u001b[0;32m   1131\u001b[0m       return self._do_call(_run_fn, self._session, feed_dict, fetch_list,\n\u001b[1;32m-> 1132\u001b[1;33m                            target_list, options, run_metadata)\n\u001b[0m\u001b[0;32m   1133\u001b[0m     \u001b[1;32melse\u001b[0m\u001b[1;33m:\u001b[0m\u001b[1;33m\u001b[0m\u001b[0m\n\u001b[0;32m   1134\u001b[0m       return self._do_call(_prun_fn, self._session, handle, feed_dict,\n",
      "\u001b[1;32md:\\Anaconda3\\lib\\site-packages\\tensorflow\\python\\client\\session.py\u001b[0m in \u001b[0;36m_do_call\u001b[1;34m(self, fn, *args)\u001b[0m\n\u001b[0;32m   1137\u001b[0m   \u001b[1;32mdef\u001b[0m \u001b[0m_do_call\u001b[0m\u001b[1;33m(\u001b[0m\u001b[0mself\u001b[0m\u001b[1;33m,\u001b[0m \u001b[0mfn\u001b[0m\u001b[1;33m,\u001b[0m \u001b[1;33m*\u001b[0m\u001b[0margs\u001b[0m\u001b[1;33m)\u001b[0m\u001b[1;33m:\u001b[0m\u001b[1;33m\u001b[0m\u001b[0m\n\u001b[0;32m   1138\u001b[0m     \u001b[1;32mtry\u001b[0m\u001b[1;33m:\u001b[0m\u001b[1;33m\u001b[0m\u001b[0m\n\u001b[1;32m-> 1139\u001b[1;33m       \u001b[1;32mreturn\u001b[0m \u001b[0mfn\u001b[0m\u001b[1;33m(\u001b[0m\u001b[1;33m*\u001b[0m\u001b[0margs\u001b[0m\u001b[1;33m)\u001b[0m\u001b[1;33m\u001b[0m\u001b[0m\n\u001b[0m\u001b[0;32m   1140\u001b[0m     \u001b[1;32mexcept\u001b[0m \u001b[0merrors\u001b[0m\u001b[1;33m.\u001b[0m\u001b[0mOpError\u001b[0m \u001b[1;32mas\u001b[0m \u001b[0me\u001b[0m\u001b[1;33m:\u001b[0m\u001b[1;33m\u001b[0m\u001b[0m\n\u001b[0;32m   1141\u001b[0m       \u001b[0mmessage\u001b[0m \u001b[1;33m=\u001b[0m \u001b[0mcompat\u001b[0m\u001b[1;33m.\u001b[0m\u001b[0mas_text\u001b[0m\u001b[1;33m(\u001b[0m\u001b[0me\u001b[0m\u001b[1;33m.\u001b[0m\u001b[0mmessage\u001b[0m\u001b[1;33m)\u001b[0m\u001b[1;33m\u001b[0m\u001b[0m\n",
      "\u001b[1;32md:\\Anaconda3\\lib\\site-packages\\tensorflow\\python\\client\\session.py\u001b[0m in \u001b[0;36m_run_fn\u001b[1;34m(session, feed_dict, fetch_list, target_list, options, run_metadata)\u001b[0m\n\u001b[0;32m   1119\u001b[0m         return tf_session.TF_Run(session, options,\n\u001b[0;32m   1120\u001b[0m                                  \u001b[0mfeed_dict\u001b[0m\u001b[1;33m,\u001b[0m \u001b[0mfetch_list\u001b[0m\u001b[1;33m,\u001b[0m \u001b[0mtarget_list\u001b[0m\u001b[1;33m,\u001b[0m\u001b[1;33m\u001b[0m\u001b[0m\n\u001b[1;32m-> 1121\u001b[1;33m                                  status, run_metadata)\n\u001b[0m\u001b[0;32m   1122\u001b[0m \u001b[1;33m\u001b[0m\u001b[0m\n\u001b[0;32m   1123\u001b[0m     \u001b[1;32mdef\u001b[0m \u001b[0m_prun_fn\u001b[0m\u001b[1;33m(\u001b[0m\u001b[0msession\u001b[0m\u001b[1;33m,\u001b[0m \u001b[0mhandle\u001b[0m\u001b[1;33m,\u001b[0m \u001b[0mfeed_dict\u001b[0m\u001b[1;33m,\u001b[0m \u001b[0mfetch_list\u001b[0m\u001b[1;33m)\u001b[0m\u001b[1;33m:\u001b[0m\u001b[1;33m\u001b[0m\u001b[0m\n",
      "\u001b[1;31mKeyboardInterrupt\u001b[0m: "
     ]
    }
   ],
   "source": [
    "from keras.datasets import mnist\n",
    "\n",
    "vae = Model(input_img, y)   # 以原始輸入與最終輸出來實例化 VAE 模型\n",
    "vae.compile(optimizer='rmsprop', loss=None)\n",
    "vae.summary()\n",
    "\n",
    "(x_train, _), (x_test, y_test) = mnist.load_data()\n",
    "\n",
    "x_train = x_train.astype('float32') / 255.\n",
    "x_train = x_train.reshape(x_train.shape + (1,))\n",
    "x_test = x_test.astype('float32') / 255.\n",
    "x_test = x_test.reshape(x_test.shape + (1,))\n",
    "\n",
    "vae.fit(x=x_train, y=None,\n",
    "        shuffle=True,\n",
    "        epochs=10,\n",
    "        batch_size=batch_size,\n",
    "        validation_data=(x_test, None))\n"
   ]
  },
  {
   "cell_type": "markdown",
   "metadata": {},
   "source": [
    "### 程式 8.28 從 2D 潛在空間中取樣網格點並將其解碼為圖像"
   ]
  },
  {
   "cell_type": "code",
   "execution_count": null,
   "metadata": {
    "collapsed": true
   },
   "outputs": [],
   "source": [
    "import matplotlib.pyplot as plt\n",
    "from scipy.stats import norm\n",
    "\n",
    "n = 15              # 顯示一個 15×15 位數的網格(總共 255 位數)\n",
    "digit_size = 28     # 每個網格的尺寸 28x28\n",
    "figure = np.zeros((digit_size * n, digit_size * n)) # shape = (420, 420)\n",
    "\n",
    "# 使用 SciPy ppf 函式 (Percent point function) \n",
    "# 轉換線性空間坐標以生成潛在變數 z (因為潛在空間的分佈是採高斯常態 (Gaussian) 分佈)\n",
    "# np.linspace(0.05, 0.95, n) 回傳 n 個分布在 0.05-0.95 之間的均勻數字\n",
    "grid_x = norm.ppf(np.linspace(0.05, 0.95, n))\n",
    "grid_y = norm.ppf(np.linspace(0.05, 0.95, n))\n",
    "\n",
    "for i, yi in enumerate(grid_x):\n",
    "    for j, xi in enumerate(grid_y):\n",
    "        z_sample = np.array([[xi, yi]])\n",
    "        z_sample = np.tile(z_sample, batch_size).reshape(batch_size, 2) # 重複 z 多次以形成完整批次\n",
    "        x_decoded = decoder.predict(z_sample, batch_size=batch_size)    # 解碼該批次成數字圖像\n",
    "        digit = x_decoded[0].reshape(digit_size, digit_size)            # 將批次中的第一個數字從 28×28×1 重新塑形為 28×28\n",
    "        figure[i * digit_size: (i + 1) * digit_size,\n",
    "               j * digit_size: (j + 1) * digit_size] = digit\n",
    "\n",
    "plt.figure(figsize=(10, 10))\n",
    "plt.imshow(figure, cmap='Greys_r')\n",
    "plt.show()"
   ]
  },
  {
   "cell_type": "markdown",
   "metadata": {},
   "source": [
    "# 8.5 生成對抗網路"
   ]
  },
  {
   "cell_type": "markdown",
   "metadata": {},
   "source": [
    "### 程式 8.29 GAN 生成器神經網路"
   ]
  },
  {
   "cell_type": "code",
   "execution_count": 52,
   "metadata": {},
   "outputs": [
    {
     "name": "stdout",
     "output_type": "stream",
     "text": [
      "(?, 16, 16, 128)\n",
      "(?, 16, 16, 256)\n",
      "(?, ?, ?, 256)\n",
      "_________________________________________________________________\n",
      "Layer (type)                 Output Shape              Param #   \n",
      "=================================================================\n",
      "input_5 (InputLayer)         (None, 32)                0         \n",
      "_________________________________________________________________\n",
      "dense_7 (Dense)              (None, 32768)             1081344   \n",
      "_________________________________________________________________\n",
      "leaky_re_lu_1 (LeakyReLU)    (None, 32768)             0         \n",
      "_________________________________________________________________\n",
      "reshape_2 (Reshape)          (None, 16, 16, 128)       0         \n",
      "_________________________________________________________________\n",
      "conv2d_100 (Conv2D)          (None, 16, 16, 256)       819456    \n",
      "_________________________________________________________________\n",
      "leaky_re_lu_2 (LeakyReLU)    (None, 16, 16, 256)       0         \n",
      "_________________________________________________________________\n",
      "conv2d_transpose_2 (Conv2DTr (None, 32, 32, 256)       1048832   \n",
      "_________________________________________________________________\n",
      "leaky_re_lu_3 (LeakyReLU)    (None, 32, 32, 256)       0         \n",
      "_________________________________________________________________\n",
      "conv2d_101 (Conv2D)          (None, 32, 32, 256)       1638656   \n",
      "_________________________________________________________________\n",
      "leaky_re_lu_4 (LeakyReLU)    (None, 32, 32, 256)       0         \n",
      "_________________________________________________________________\n",
      "conv2d_102 (Conv2D)          (None, 32, 32, 256)       1638656   \n",
      "_________________________________________________________________\n",
      "leaky_re_lu_5 (LeakyReLU)    (None, 32, 32, 256)       0         \n",
      "_________________________________________________________________\n",
      "conv2d_103 (Conv2D)          (None, 32, 32, 3)         37635     \n",
      "=================================================================\n",
      "Total params: 6,264,579\n",
      "Trainable params: 6,264,579\n",
      "Non-trainable params: 0\n",
      "_________________________________________________________________\n"
     ]
    }
   ],
   "source": [
    "import keras\n",
    "from keras import layers\n",
    "import numpy as np\n",
    "\n",
    "latent_dim = 32\n",
    "height = 32\n",
    "width = 32\n",
    "channels = 3\n",
    "\n",
    "generator_input = keras.Input(shape=(latent_dim,))  # 建立輸入張量, shape = (?, 32)\n",
    "\n",
    "# 將輸入轉換成 16×16 128 層次 (channel) 的張量\n",
    "x = layers.Dense(128 * 16 * 16)(generator_input)\n",
    "x = layers.LeakyReLU()(x)\n",
    "x = layers.Reshape((16, 16, 128))(x)\n",
    "print(x.shape) # (?, 16, 16, 128)\n",
    "\n",
    "# 加入卷積層 \n",
    "x = layers.Conv2D(256, 5, padding='same')(x)\n",
    "x = layers.LeakyReLU()(x)\n",
    "print(x.shape) # (?, 16, 16, 256)\n",
    "\n",
    "# 向上取樣成 32x32\n",
    "x = layers.Conv2DTranspose(256, 4, strides=2, padding='same')(x)\n",
    "x = layers.LeakyReLU()(x)\n",
    "print(x.shape)  # 雖然從 shape 看不出來, \n",
    "                # 但從待會的 model.summary() 可以看出 shape=(None, 32, 32, 256)\n",
    "\n",
    "# 使用更多的卷積\n",
    "x = layers.Conv2D(256, 5, padding='same')(x)\n",
    "x = layers.LeakyReLU()(x)\n",
    "x = layers.Conv2D(256, 5, padding='same')(x)\n",
    "x = layers.LeakyReLU()(x)\n",
    "\n",
    "\n",
    "x = layers.Conv2D(channels, 7, activation='tanh', padding='same')(x) # 產生 32×32 3 層次的特徵圖 (CIFAR10圖像的形狀)\n",
    "generator = keras.models.Model(generator_input, x)   # 實例化生成器模型，將 shape=(latent_dim, )的輸入對應成 shape=(32,32,3) 的圖像\n",
    "generator.summary()\n"
   ]
  },
  {
   "cell_type": "markdown",
   "metadata": {},
   "source": [
    "### 程式 8.30 GAN 鑑別器神經網路"
   ]
  },
  {
   "cell_type": "code",
   "execution_count": 54,
   "metadata": {},
   "outputs": [
    {
     "name": "stdout",
     "output_type": "stream",
     "text": [
      "(?, 2, 2, 128)\n",
      "(?, 1)\n",
      "_________________________________________________________________\n",
      "Layer (type)                 Output Shape              Param #   \n",
      "=================================================================\n",
      "input_7 (InputLayer)         (None, 32, 32, 3)         0         \n",
      "_________________________________________________________________\n",
      "conv2d_105 (Conv2D)          (None, 30, 30, 128)       3584      \n",
      "_________________________________________________________________\n",
      "leaky_re_lu_6 (LeakyReLU)    (None, 30, 30, 128)       0         \n",
      "_________________________________________________________________\n",
      "conv2d_106 (Conv2D)          (None, 14, 14, 128)       262272    \n",
      "_________________________________________________________________\n",
      "leaky_re_lu_7 (LeakyReLU)    (None, 14, 14, 128)       0         \n",
      "_________________________________________________________________\n",
      "conv2d_107 (Conv2D)          (None, 6, 6, 128)         262272    \n",
      "_________________________________________________________________\n",
      "leaky_re_lu_8 (LeakyReLU)    (None, 6, 6, 128)         0         \n",
      "_________________________________________________________________\n",
      "conv2d_108 (Conv2D)          (None, 2, 2, 128)         262272    \n",
      "_________________________________________________________________\n",
      "leaky_re_lu_9 (LeakyReLU)    (None, 2, 2, 128)         0         \n",
      "_________________________________________________________________\n",
      "flatten_2 (Flatten)          (None, 512)               0         \n",
      "_________________________________________________________________\n",
      "dropout_1 (Dropout)          (None, 512)               0         \n",
      "_________________________________________________________________\n",
      "dense_9 (Dense)              (None, 1)                 513       \n",
      "=================================================================\n",
      "Total params: 790,913\n",
      "Trainable params: 790,913\n",
      "Non-trainable params: 0\n",
      "_________________________________________________________________\n"
     ]
    }
   ],
   "source": [
    "# 建立圖片尺寸的輸入張量, 其 shape=(?, 32, 32, 3)\n",
    "discriminator_input = layers.Input(shape=(height, width, channels))\n",
    "\n",
    "x = layers.Conv2D(128, 3)(discriminator_input)\n",
    "x = layers.LeakyReLU()(x)\n",
    "x = layers.Conv2D(128, 4, strides=2)(x)\n",
    "x = layers.LeakyReLU()(x)\n",
    "x = layers.Conv2D(128, 4, strides=2)(x)\n",
    "x = layers.LeakyReLU()(x)\n",
    "x = layers.Conv2D(128, 4, strides=2)(x)\n",
    "x = layers.LeakyReLU()(x)\n",
    "print(x.shape) # 經過一連串的卷積 shape=(?, 2, 2, 128)\n",
    "\n",
    "x = layers.Flatten()(x) # 拉平, 其 shape=(?, 512)\n",
    "\n",
    "                    # 隨機丟棄 40 % 的神經元\n",
    "x = layers.Dropout(0.4)(x)  # 一個重要的技巧：一個丟棄層！\n",
    "\n",
    "x = layers.Dense(1, activation='sigmoid')(x)    # 分類層\n",
    "print(x.shape) # 最終輸出 shape=(?, 1)\n",
    "\n",
    "# 實例化鑑別器模型，其將 (32,32,3) 輸入圖片轉換為二元分類決策 (假/真)\n",
    "discriminator = keras.models.Model(discriminator_input, x)\n",
    "discriminator.summary()\n",
    "\n",
    "discriminator_optimizer = keras.optimizers.RMSprop(lr=0.0008,       # 學習速率\n",
    "                                                   clipvalue=1.0,   # 在優化過程中使用梯度遞減(依設定值)\n",
    "                                                   decay=1e-8)      # 為了穩定訓練過程，使用學習速率衰減\n",
    "discriminator.compile(optimizer=discriminator_optimizer, \n",
    "                      loss='binary_crossentropy')"
   ]
  },
  {
   "cell_type": "markdown",
   "metadata": {},
   "source": [
    "### 程式 8.31 對抗神經網路"
   ]
  },
  {
   "cell_type": "code",
   "execution_count": null,
   "metadata": {
    "collapsed": true
   },
   "outputs": [],
   "source": [
    "discriminator.trainable = False # 將鑑別器權重設定為不可訓練 (僅適用於gan模型)\n",
    "\n",
    "gan_input = keras.Input(shape=(latent_dim,))        # 建立 GAN 的輸入張量 , shape=(?, 32)\n",
    "gan_output = discriminator(generator(gan_input))    # 將輸入張量送入生成器產生圖片後, 再送入鑑別器分辨真假, shape=(?, 1)\n",
    "gan = keras.models.Model(gan_input, gan_output)     # 實例化 GAN 模型\n",
    "gan.summary()\n",
    "\n",
    "gan_optimizer = keras.optimizers.RMSprop(lr=0.0004, \n",
    "                                         clipvalue=1.0, \n",
    "                                         decay=1e-8)\n",
    "gan.compile(optimizer=gan_optimizer, loss='binary_crossentropy')"
   ]
  },
  {
   "cell_type": "markdown",
   "metadata": {},
   "source": [
    "### 程式 8.32 實作 GAN 訓練"
   ]
  },
  {
   "cell_type": "code",
   "execution_count": null,
   "metadata": {
    "collapsed": true
   },
   "outputs": [],
   "source": [
    "import os\n",
    "from keras.preprocessing import image\n",
    "\n",
    "# 載入 CIFAR10 資料\n",
    "(x_train, y_train), (_, _) = keras.datasets.cifar10.load_data()\n",
    "\n",
    "# 選擇青蛙圖像 (類別6)\n",
    "x_train = x_train[y_train.flatten() == 6]\n",
    "\n",
    "# 標準化 (正規化) 資料\n",
    "x_train = x_train.reshape(\n",
    "    (x_train.shape[0],) + (height, width, channels)).astype('float32') / 255.\n",
    "\n",
    "iterations = 10000\n",
    "batch_size = 20\n",
    "save_dir = '/gan_images/'   # 指定要儲存生成圖像的位置\n",
    "\n",
    "# 開始訓練\n",
    "start = 0\n",
    "for step in range(iterations):  # 進行 10000 步\n",
    "    # 在潛在空間中取樣隨機的點\n",
    "    random_latent_vectors = np.random.normal(size=(batch_size, \n",
    "                                                   latent_dim))\n",
    "\n",
    "    # 產生成假圖像\n",
    "    generated_images = generator.predict(random_latent_vectors)\n",
    "\n",
    "    # 將假圖片與真實圖像相混合\n",
    "    stop = start + batch_size\n",
    "    real_images = x_train[start: stop]\n",
    "    combined_images = np.concatenate([generated_images, real_images])\n",
    "\n",
    "    # 分配標籤，以從假圖像中辨別真的\n",
    "    labels = np.concatenate([np.ones((batch_size, 1)),\n",
    "                             np.zeros((batch_size, 1))])\n",
    "    # 在標籤中增加隨機雜訊，這是一個重要技巧！\n",
    "    labels += 0.05 * np.random.random(labels.shape)\n",
    "\n",
    "    d_loss = discriminator.train_on_batch(combined_images, # 訓練鑑別器\n",
    "                                          labels)  \n",
    "\n",
    "    # 在潛在空間中取樣隨機的點\n",
    "    random_latent_vectors = np.random.normal(size=(batch_size, \n",
    "                                                   latent_dim))\n",
    "\n",
    "    # 分配標籤說 \"這些都是真實圖像\" (這是謊言!)\n",
    "    misleading_targets = np.zeros((batch_size, 1))\n",
    "\n",
    "    # 訓練生成器 (透過 gan 模型，其中鑑別器權重被凍結)\n",
    "    a_loss = gan.train_on_batch(random_latent_vectors, \n",
    "                                misleading_targets)\n",
    "    \n",
    "    start += batch_size\n",
    "    if start > len(x_train) - batch_size:\n",
    "      start = 0\n",
    "\n",
    "    if step % 100 == 0:         # 每 100 步儲存並和繪製結果\n",
    "        gan.save_weights('gan.h5')  # 儲存模型權重\n",
    "\n",
    "        # 印出衡量指標\n",
    "        print('discriminator loss at step %s: %s' % (step, d_loss))\n",
    "        print('adversarial loss at step %s: %s' % (step, a_loss))\n",
    "\n",
    "        # 儲存一個生成的圖像\n",
    "        img = image.array_to_img(generated_images[0] * 255., scale=False)\n",
    "        img.save(os.path.join(save_dir, 'generated_frog' + str(step) + '.png'))\n",
    "\n",
    "        # 儲存一個真實圖像以進行比較\n",
    "        img = image.array_to_img(real_images[0] * 255., scale=False)\n",
    "        img.save(os.path.join(save_dir, 'real_frog' + str(step) + '.png'))"
   ]
  },
  {
   "cell_type": "code",
   "execution_count": null,
   "metadata": {
    "collapsed": true
   },
   "outputs": [],
   "source": []
  },
  {
   "cell_type": "code",
   "execution_count": null,
   "metadata": {
    "collapsed": true
   },
   "outputs": [],
   "source": []
  },
  {
   "cell_type": "code",
   "execution_count": null,
   "metadata": {
    "collapsed": true
   },
   "outputs": [],
   "source": []
  },
  {
   "cell_type": "code",
   "execution_count": null,
   "metadata": {
    "collapsed": true
   },
   "outputs": [],
   "source": []
  },
  {
   "cell_type": "code",
   "execution_count": null,
   "metadata": {
    "collapsed": true
   },
   "outputs": [],
   "source": []
  },
  {
   "cell_type": "code",
   "execution_count": null,
   "metadata": {
    "collapsed": true
   },
   "outputs": [],
   "source": []
  },
  {
   "cell_type": "code",
   "execution_count": null,
   "metadata": {
    "collapsed": true
   },
   "outputs": [],
   "source": []
  },
  {
   "cell_type": "code",
   "execution_count": null,
   "metadata": {
    "collapsed": true
   },
   "outputs": [],
   "source": []
  },
  {
   "cell_type": "code",
   "execution_count": null,
   "metadata": {
    "collapsed": true
   },
   "outputs": [],
   "source": []
  },
  {
   "cell_type": "code",
   "execution_count": null,
   "metadata": {
    "collapsed": true
   },
   "outputs": [],
   "source": []
  },
  {
   "cell_type": "code",
   "execution_count": null,
   "metadata": {
    "collapsed": true
   },
   "outputs": [],
   "source": []
  },
  {
   "cell_type": "code",
   "execution_count": null,
   "metadata": {
    "collapsed": true
   },
   "outputs": [],
   "source": []
  },
  {
   "cell_type": "code",
   "execution_count": null,
   "metadata": {
    "collapsed": true
   },
   "outputs": [],
   "source": []
  },
  {
   "cell_type": "code",
   "execution_count": null,
   "metadata": {
    "collapsed": true
   },
   "outputs": [],
   "source": []
  },
  {
   "cell_type": "code",
   "execution_count": null,
   "metadata": {
    "collapsed": true
   },
   "outputs": [],
   "source": []
  }
 ],
 "metadata": {
  "kernelspec": {
   "display_name": "Python 3",
   "language": "python",
   "name": "python3"
  },
  "language_info": {
   "codemirror_mode": {
    "name": "ipython",
    "version": 3
   },
   "file_extension": ".py",
   "mimetype": "text/x-python",
   "name": "python",
   "nbconvert_exporter": "python",
   "pygments_lexer": "ipython3",
   "version": "3.6.3"
  }
 },
 "nbformat": 4,
 "nbformat_minor": 2
}
