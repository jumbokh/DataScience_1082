{
  "nbformat": 4,
  "nbformat_minor": 0,
  "metadata": {
    "kernelspec": {
      "display_name": "Python 3",
      "language": "python",
      "name": "python3"
    },
    "language_info": {
      "codemirror_mode": {
        "name": "ipython",
        "version": 3
      },
      "file_extension": ".py",
      "mimetype": "text/x-python",
      "name": "python",
      "nbconvert_exporter": "python",
      "pygments_lexer": "ipython3",
      "version": "3.6.3"
    },
    "colab": {
      "name": "HW4_optimizer-selection.ipynb",
      "provenance": [],
      "collapsed_sections": []
    },
    "accelerator": "GPU"
  },
  "cells": [
    {
      "cell_type": "code",
      "metadata": {
        "id": "b1nm_368PGyD",
        "colab_type": "code",
        "colab": {}
      },
      "source": [
        "%matplotlib inline\n",
        "\n",
        "import numpy as np\n",
        "import matplotlib.pyplot as plt"
      ],
      "execution_count": 0,
      "outputs": []
    },
    {
      "cell_type": "code",
      "metadata": {
        "id": "5xYO-cCvPSmq",
        "colab_type": "code",
        "colab": {}
      },
      "source": [
        "# set the size of mini-batch and number of epochs\n",
        "batch_size = 16\n",
        "epochs = 10\n",
        "\n",
        "# Import keras to build a DL model\n",
        "from keras.models import Sequential\n",
        "from keras.layers.core import Dense, Activation\n",
        "from keras.datasets import mnist\n",
        "from keras.utils import np_utils\n",
        "from keras.optimizers import SGD"
      ],
      "execution_count": 0,
      "outputs": []
    },
    {
      "cell_type": "code",
      "metadata": {
        "id": "JrIwqMLWPhah",
        "colab_type": "code",
        "colab": {}
      },
      "source": [
        "(X_train, Y_train), (X_test, Y_test) = mnist.load_data()"
      ],
      "execution_count": 0,
      "outputs": []
    },
    {
      "cell_type": "code",
      "metadata": {
        "id": "E35QxHm2Pkip",
        "colab_type": "code",
        "colab": {}
      },
      "source": [
        "X_train = X_train.reshape(60000, 784)/255\n",
        "X_test = X_test.reshape(10000, 784)/255"
      ],
      "execution_count": 0,
      "outputs": []
    },
    {
      "cell_type": "code",
      "metadata": {
        "id": "3wOHlokZPmvJ",
        "colab_type": "code",
        "colab": {}
      },
      "source": [
        "Y_train = np_utils.to_categorical(Y_train, 10)\n",
        "Y_test = np_utils.to_categorical(Y_test, 10)"
      ],
      "execution_count": 0,
      "outputs": []
    },
    {
      "cell_type": "code",
      "metadata": {
        "id": "e_-SeicDPGyI",
        "colab_type": "code",
        "colab": {}
      },
      "source": [
        "model_adam = Sequential()\n",
        "model_adam.add(Dense(128, input_dim=784))\n",
        "model_adam.add(Activation('relu'))\n",
        "model_adam.add(Dense(256))\n",
        "model_adam.add(Activation('relu'))\n",
        "model_adam.add(Dense(10))\n",
        "model_adam.add(Activation('softmax'))\n",
        "\n",
        "# Setting optimizer as Adam\n",
        "from keras.optimizers import  Adam\n",
        "# (Do!) 請在 compile model_adam 時使用 'Adam' 當作 optimizer\n",
        "model_adam.compile(loss='categorical_crossentropy',\n",
        "                  optimizer='Adam',\n",
        "                  metrics=['accuracy'])\n",
        "\n"
      ],
      "execution_count": 0,
      "outputs": []
    },
    {
      "cell_type": "code",
      "metadata": {
        "id": "8JPg5OOVVj0i",
        "colab_type": "code",
        "colab": {}
      },
      "source": [
        "'''Fit models and use validation_split=0.1 '''\n",
        "history_adam = model_adam.fit(X_train, Y_train,\n",
        "                              batch_size=batch_size,\n",
        "                              epochs=epochs,\n",
        "                              verbose=0,\n",
        "                              shuffle=True,\n",
        "                              validation_split=0.1)"
      ],
      "execution_count": 0,
      "outputs": []
    },
    {
      "cell_type": "code",
      "metadata": {
        "id": "o5coD612VR_Z",
        "colab_type": "code",
        "colab": {
          "base_uri": "https://localhost:8080/",
          "height": 35
        },
        "outputId": "c2de38c8-3e23-4a33-9006-16714ea0b1d1"
      },
      "source": [
        "print(history_adam.history.keys())"
      ],
      "execution_count": 44,
      "outputs": [
        {
          "output_type": "stream",
          "text": [
            "dict_keys(['val_loss', 'val_accuracy', 'loss', 'accuracy'])\n"
          ],
          "name": "stdout"
        }
      ]
    },
    {
      "cell_type": "code",
      "metadata": {
        "id": "DICmAF_4Utrb",
        "colab_type": "code",
        "colab": {}
      },
      "source": [
        "loss_adam= history_adam.history.get('loss')\n",
        "acc_adam = history_adam.history.get('accuracy')\n",
        "valacc_adam = history_adam.history.get('val_accuracy')\n",
        "valloss_adam= history_adam.history.get('val_loss')"
      ],
      "execution_count": 0,
      "outputs": []
    },
    {
      "cell_type": "code",
      "metadata": {
        "id": "3FZOeeyKfRyb",
        "colab_type": "code",
        "colab": {
          "base_uri": "https://localhost:8080/",
          "height": 124
        },
        "outputId": "93f9ea6b-e5ec-4d32-c397-43ef0b09c1a2"
      },
      "source": [
        "print(acc_adam)\n",
        "print(valacc_adam)\n",
        "print('==================================================')\n",
        "print(loss_adam)\n",
        "print(valloss_adam)"
      ],
      "execution_count": 47,
      "outputs": [
        {
          "output_type": "stream",
          "text": [
            "[0.93394446, 0.969463, 0.9779074, 0.9821111, 0.98616666, 0.98774076, 0.99031484, 0.99035186, 0.9918148, 0.9932963]\n",
            "[0.9674999713897705, 0.9769999980926514, 0.9741666913032532, 0.9750000238418579, 0.9760000109672546, 0.9775000214576721, 0.9791666865348816, 0.9778333306312561, 0.9816666841506958, 0.9810000061988831]\n",
            "==================================================\n",
            "[0.21987489082295172, 0.09840286155042877, 0.07008553290848094, 0.05517575730488709, 0.04268848684911198, 0.038521413668572646, 0.03205783551800453, 0.027699839947435998, 0.024931316680744414, 0.020603789699716185]\n",
            "[0.11173831664025784, 0.08235398774105124, 0.0926758680685986, 0.09046983978057202, 0.10136088542626583, 0.0874384669199347, 0.09388161673446416, 0.09840355642311155, 0.08990073267480411, 0.1117773453527411]\n"
          ],
          "name": "stdout"
        }
      ]
    },
    {
      "cell_type": "code",
      "metadata": {
        "id": "5Te8EhPfPGyL",
        "colab_type": "code",
        "colab": {}
      },
      "source": [
        "model_sgd = Sequential()\n",
        "model_sgd.add(Dense(128, input_dim=784))\n",
        "model_sgd.add(Activation('relu'))\n",
        "model_sgd.add(Dense(256))\n",
        "model_sgd.add(Activation('relu'))\n",
        "model_sgd.add(Dense(10))\n",
        "model_sgd.add(Activation('softmax'))\n",
        "\n",
        "''' Setting optimizer as SGD '''\n",
        "from keras.optimizers import SGD\n",
        "sgd = SGD(lr=0.001,momentum=0.0,decay=0.0,nesterov=False)\n",
        "\n",
        "model_sgd.compile(loss='categorical_crossentropy',\n",
        "                  optimizer=sgd,\n",
        "                  metrics=['accuracy'])\n"
      ],
      "execution_count": 0,
      "outputs": []
    },
    {
      "cell_type": "code",
      "metadata": {
        "id": "v-tVK92SW97W",
        "colab_type": "code",
        "colab": {}
      },
      "source": [
        "history_sgd = model_sgd.fit(X_train, Y_train,\n",
        "                            batch_size=batch_size,\n",
        "                            epochs=epochs,\n",
        "                            verbose=0,\n",
        "                            shuffle=True,\n",
        "                            validation_split=0.1)"
      ],
      "execution_count": 0,
      "outputs": []
    },
    {
      "cell_type": "code",
      "metadata": {
        "id": "y6eqt3jgUxtH",
        "colab_type": "code",
        "colab": {}
      },
      "source": [
        "loss_sgd= history_sgd.history.get('loss')\n",
        "acc_sgd = history_sgd.history.get('accuracy')"
      ],
      "execution_count": 0,
      "outputs": []
    },
    {
      "cell_type": "code",
      "metadata": {
        "id": "2KzO-x9dPGyO",
        "colab_type": "code",
        "outputId": "6328310c-ccd1-42f3-dacc-2168a6d62a0e",
        "colab": {
          "base_uri": "https://localhost:8080/",
          "height": 459
        }
      },
      "source": [
        "''' Visualize the loss and accuracy of both models'''\n",
        "import matplotlib.pyplot as plt\n",
        "plt.figure(0,figsize=(8,6))\n",
        "plt.subplot(121)\n",
        "plt.plot(range(len(loss_adam)), loss_adam,label='Adam')\n",
        "plt.plot(range(len(loss_sgd)), loss_sgd,label='SGD')\n",
        "plt.title('Loss')\n",
        "plt.xlabel(\"epoch\")\n",
        "plt.legend(loc='upper left')\n",
        "plt.subplot(122)\n",
        "plt.plot(range(len(acc_adam)), acc_adam,label='Adam')\n",
        "plt.plot(range(len(acc_sgd)), acc_sgd,label='SGD')\n",
        "plt.title('Accuracy')\n",
        "plt.xlabel(\"epoch\")\n",
        "plt.tight_layout()\n",
        "plt.savefig('04_optimizerSelection.png',dpi=300,format='png')\n",
        "plt.show()\n",
        "plt.close()\n",
        "print('Result saved into 04_optimizerSelection.png')"
      ],
      "execution_count": 52,
      "outputs": [
        {
          "output_type": "display_data",
          "data": {
            "image/png": "[encoded data removed]",
            "text/plain": [
              "<Figure size 576x432 with 2 Axes>"
            ]
          },
          "metadata": {
            "tags": [],
            "needs_background": "light"
          }
        },
        {
          "output_type": "stream",
          "text": [
            "Result saved into 04_optimizerSelection.png\n"
          ],
          "name": "stdout"
        }
      ]
    },
    {
      "cell_type": "code",
      "metadata": {
        "id": "DGvaYYs1PGyR",
        "colab_type": "code",
        "colab": {}
      },
      "source": [
        ""
      ],
      "execution_count": 0,
      "outputs": []
    }
  ]
}