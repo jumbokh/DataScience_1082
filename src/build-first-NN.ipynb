{
  "nbformat": 4,
  "nbformat_minor": 0,
  "metadata": {
    "kernelspec": {
      "display_name": "Python 3",
      "language": "python",
      "name": "python3"
    },
    "language_info": {
      "codemirror_mode": {
        "name": "ipython",
        "version": 3
      },
      "file_extension": ".py",
      "mimetype": "text/x-python",
      "name": "python",
      "nbconvert_exporter": "python",
      "pygments_lexer": "ipython3",
      "version": "3.6.6"
    },
    "colab": {
      "name": "打造人生第一個神經網路.ipynb",
      "provenance": []
    },
    "widgets": {
      "application/vnd.jupyter.widget-state+json": {
        "8b6ecc21203e45668d74d2d121fe20e9": {
          "model_module": "@jupyter-widgets/controls",
          "model_name": "VBoxModel",
          "state": {
            "_view_name": "VBoxView",
            "_dom_classes": [
              "widget-interact"
            ],
            "_model_name": "VBoxModel",
            "_view_module": "@jupyter-widgets/controls",
            "_model_module_version": "1.5.0",
            "_view_count": null,
            "_view_module_version": "1.5.0",
            "box_style": "",
            "layout": "IPY_MODEL_a5eec25d0a214eba91d6b3f8960495f7",
            "_model_module": "@jupyter-widgets/controls",
            "children": [
              "IPY_MODEL_0966d016fb454879938af3b84ab6121f",
              "IPY_MODEL_6a7e529a653549cfbf2167a52730f6ad",
              "IPY_MODEL_3159c74fe1eb43ac9a3f43adf0698e5c"
            ]
          }
        },
        "a5eec25d0a214eba91d6b3f8960495f7": {
          "model_module": "@jupyter-widgets/base",
          "model_name": "LayoutModel",
          "state": {
            "_view_name": "LayoutView",
            "grid_template_rows": null,
            "right": null,
            "justify_content": null,
            "_view_module": "@jupyter-widgets/base",
            "overflow": null,
            "_model_module_version": "1.2.0",
            "_view_count": null,
            "flex_flow": null,
            "width": null,
            "min_width": null,
            "border": null,
            "align_items": null,
            "bottom": null,
            "_model_module": "@jupyter-widgets/base",
            "top": null,
            "grid_column": null,
            "overflow_y": null,
            "overflow_x": null,
            "grid_auto_flow": null,
            "grid_area": null,
            "grid_template_columns": null,
            "flex": null,
            "_model_name": "LayoutModel",
            "justify_items": null,
            "grid_row": null,
            "max_height": null,
            "align_content": null,
            "visibility": null,
            "align_self": null,
            "height": null,
            "min_height": null,
            "padding": null,
            "grid_auto_rows": null,
            "grid_gap": null,
            "max_width": null,
            "order": null,
            "_view_module_version": "1.2.0",
            "grid_template_areas": null,
            "object_position": null,
            "object_fit": null,
            "grid_auto_columns": null,
            "margin": null,
            "display": null,
            "left": null
          }
        },
        "0966d016fb454879938af3b84ab6121f": {
          "model_module": "@jupyter-widgets/controls",
          "model_name": "IntSliderModel",
          "state": {
            "_view_name": "IntSliderView",
            "style": "IPY_MODEL_debdc0a90384438d95960c887f9d5f8b",
            "_dom_classes": [],
            "description": "測試編號",
            "step": 1,
            "_model_name": "IntSliderModel",
            "orientation": "horizontal",
            "max": 9999,
            "_view_module": "@jupyter-widgets/controls",
            "_model_module_version": "1.5.0",
            "value": 4999,
            "_view_count": null,
            "disabled": false,
            "_view_module_version": "1.5.0",
            "min": 0,
            "continuous_update": true,
            "readout_format": "d",
            "description_tooltip": null,
            "readout": true,
            "_model_module": "@jupyter-widgets/controls",
            "layout": "IPY_MODEL_fe1d6a6484e0489ea5234b37b419b64d"
          }
        },
        "6a7e529a653549cfbf2167a52730f6ad": {
          "model_module": "@jupyter-widgets/controls",
          "model_name": "ButtonModel",
          "state": {
            "_view_name": "ButtonView",
            "style": "IPY_MODEL_b48ce8d4e5fd47ef874a0ce94e5e7982",
            "_dom_classes": [],
            "description": "Run Interact",
            "_model_name": "ButtonModel",
            "button_style": "",
            "_view_module": "@jupyter-widgets/controls",
            "_model_module_version": "1.5.0",
            "tooltip": "",
            "_view_count": null,
            "disabled": false,
            "_view_module_version": "1.5.0",
            "layout": "IPY_MODEL_b06340cd630b4b08a0d6eb082e796dbe",
            "_model_module": "@jupyter-widgets/controls",
            "icon": ""
          }
        },
        "3159c74fe1eb43ac9a3f43adf0698e5c": {
          "model_module": "@jupyter-widgets/output",
          "model_name": "OutputModel",
          "state": {
            "_view_name": "OutputView",
            "msg_id": "",
            "_dom_classes": [],
            "_model_name": "OutputModel",
            "outputs": [
              {
                "output_type": "stream",
                "metadata": {
                  "tags": []
                },
                "text": "神經網路判斷為: 0\n",
                "stream": "stdout"
              },
              {
                "output_type": "display_data",
                "metadata": {
                  "tags": []
                },
                "image/png": "iVBORw0KGgoAAAANSUhEUgAAAPsAAAD4CAYAAAAq5pAIAAAABHNCSVQICAgIfAhkiAAAAAlwSFlz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\nQBKEHUiCsANJ/D8D7yBgdA+p1gAAAABJRU5ErkJggg==\n",
                "text/plain": "<Figure size 432x288 with 1 Axes>"
              }
            ],
            "_view_module": "@jupyter-widgets/output",
            "_model_module_version": "1.0.0",
            "_view_count": null,
            "_view_module_version": "1.0.0",
            "layout": "IPY_MODEL_27ccd25778454b31bd7dfbda99dab9dd",
            "_model_module": "@jupyter-widgets/output"
          }
        },
        "debdc0a90384438d95960c887f9d5f8b": {
          "model_module": "@jupyter-widgets/controls",
          "model_name": "SliderStyleModel",
          "state": {
            "_view_name": "StyleView",
            "handle_color": null,
            "_model_name": "SliderStyleModel",
            "description_width": "",
            "_view_module": "@jupyter-widgets/base",
            "_model_module_version": "1.5.0",
            "_view_count": null,
            "_view_module_version": "1.2.0",
            "_model_module": "@jupyter-widgets/controls"
          }
        },
        "fe1d6a6484e0489ea5234b37b419b64d": {
          "model_module": "@jupyter-widgets/base",
          "model_name": "LayoutModel",
          "state": {
            "_view_name": "LayoutView",
            "grid_template_rows": null,
            "right": null,
            "justify_content": null,
            "_view_module": "@jupyter-widgets/base",
            "overflow": null,
            "_model_module_version": "1.2.0",
            "_view_count": null,
            "flex_flow": null,
            "width": null,
            "min_width": null,
            "border": null,
            "align_items": null,
            "bottom": null,
            "_model_module": "@jupyter-widgets/base",
            "top": null,
            "grid_column": null,
            "overflow_y": null,
            "overflow_x": null,
            "grid_auto_flow": null,
            "grid_area": null,
            "grid_template_columns": null,
            "flex": null,
            "_model_name": "LayoutModel",
            "justify_items": null,
            "grid_row": null,
            "max_height": null,
            "align_content": null,
            "visibility": null,
            "align_self": null,
            "height": null,
            "min_height": null,
            "padding": null,
            "grid_auto_rows": null,
            "grid_gap": null,
            "max_width": null,
            "order": null,
            "_view_module_version": "1.2.0",
            "grid_template_areas": null,
            "object_position": null,
            "object_fit": null,
            "grid_auto_columns": null,
            "margin": null,
            "display": null,
            "left": null
          }
        },
        "b48ce8d4e5fd47ef874a0ce94e5e7982": {
          "model_module": "@jupyter-widgets/controls",
          "model_name": "ButtonStyleModel",
          "state": {
            "_view_name": "StyleView",
            "_model_name": "ButtonStyleModel",
            "_view_module": "@jupyter-widgets/base",
            "_model_module_version": "1.5.0",
            "_view_count": null,
            "button_color": null,
            "font_weight": "",
            "_view_module_version": "1.2.0",
            "_model_module": "@jupyter-widgets/controls"
          }
        },
        "b06340cd630b4b08a0d6eb082e796dbe": {
          "model_module": "@jupyter-widgets/base",
          "model_name": "LayoutModel",
          "state": {
            "_view_name": "LayoutView",
            "grid_template_rows": null,
            "right": null,
            "justify_content": null,
            "_view_module": "@jupyter-widgets/base",
            "overflow": null,
            "_model_module_version": "1.2.0",
            "_view_count": null,
            "flex_flow": null,
            "width": null,
            "min_width": null,
            "border": null,
            "align_items": null,
            "bottom": null,
            "_model_module": "@jupyter-widgets/base",
            "top": null,
            "grid_column": null,
            "overflow_y": null,
            "overflow_x": null,
            "grid_auto_flow": null,
            "grid_area": null,
            "grid_template_columns": null,
            "flex": null,
            "_model_name": "LayoutModel",
            "justify_items": null,
            "grid_row": null,
            "max_height": null,
            "align_content": null,
            "visibility": null,
            "align_self": null,
            "height": null,
            "min_height": null,
            "padding": null,
            "grid_auto_rows": null,
            "grid_gap": null,
            "max_width": null,
            "order": null,
            "_view_module_version": "1.2.0",
            "grid_template_areas": null,
            "object_position": null,
            "object_fit": null,
            "grid_auto_columns": null,
            "margin": null,
            "display": null,
            "left": null
          }
        },
        "27ccd25778454b31bd7dfbda99dab9dd": {
          "model_module": "@jupyter-widgets/base",
          "model_name": "LayoutModel",
          "state": {
            "_view_name": "LayoutView",
            "grid_template_rows": null,
            "right": null,
            "justify_content": null,
            "_view_module": "@jupyter-widgets/base",
            "overflow": null,
            "_model_module_version": "1.2.0",
            "_view_count": null,
            "flex_flow": null,
            "width": null,
            "min_width": null,
            "border": null,
            "align_items": null,
            "bottom": null,
            "_model_module": "@jupyter-widgets/base",
            "top": null,
            "grid_column": null,
            "overflow_y": null,
            "overflow_x": null,
            "grid_auto_flow": null,
            "grid_area": null,
            "grid_template_columns": null,
            "flex": null,
            "_model_name": "LayoutModel",
            "justify_items": null,
            "grid_row": null,
            "max_height": null,
            "align_content": null,
            "visibility": null,
            "align_self": null,
            "height": null,
            "min_height": null,
            "padding": null,
            "grid_auto_rows": null,
            "grid_gap": null,
            "max_width": null,
            "order": null,
            "_view_module_version": "1.2.0",
            "grid_template_areas": null,
            "object_position": null,
            "object_fit": null,
            "grid_auto_columns": null,
            "margin": null,
            "display": null,
            "left": null
          }
        }
      }
    }
  },
  "cells": [
    {
      "cell_type": "code",
      "metadata": {
        "id": "FQWs7cbfmJSx",
        "colab_type": "code",
        "colab": {
          "base_uri": "https://localhost:8080/",
          "height": 35
        },
        "outputId": "7f7a9322-ed05-44ad-b6a0-20ff9046e26b"
      },
      "source": [
        "%matplotlib inline\n",
        "%tensorflow_version 1.x\n",
        "import numpy as np\n",
        "import matplotlib.pyplot as plt"
      ],
      "execution_count": 1,
      "outputs": [
        {
          "output_type": "stream",
          "text": [
            "TensorFlow 1.x selected.\n"
          ],
          "name": "stdout"
        }
      ]
    },
    {
      "cell_type": "code",
      "metadata": {
        "id": "5HhA-5ZfmJS1",
        "colab_type": "code",
        "colab": {
          "base_uri": "https://localhost:8080/",
          "height": 35
        },
        "outputId": "bd37d049-9e28-4022-d670-47d2a7f9eba8"
      },
      "source": [
        "from keras.datasets import mnist\n",
        "from keras.utils import np_utils\n",
        "from keras.models import Sequential\n",
        "from keras.layers import Dense\n",
        "from keras.optimizers import SGD"
      ],
      "execution_count": 2,
      "outputs": [
        {
          "output_type": "stream",
          "text": [
            "Using TensorFlow backend.\n"
          ],
          "name": "stderr"
        }
      ]
    },
    {
      "cell_type": "code",
      "metadata": {
        "id": "EQHPFk-_mJS4",
        "colab_type": "code",
        "colab": {}
      },
      "source": [
        "(x_train, y_train), (x_test, y_test) = mnist.load_data()"
      ],
      "execution_count": 0,
      "outputs": []
    },
    {
      "cell_type": "code",
      "metadata": {
        "id": "4dzPhpE2mJS7",
        "colab_type": "code",
        "colab": {}
      },
      "source": [
        "x_train = x_train.reshape(60000, 784)/255\n",
        "x_test = x_test.reshape(10000, 784)/255"
      ],
      "execution_count": 0,
      "outputs": []
    },
    {
      "cell_type": "code",
      "metadata": {
        "id": "j-VxNDUrmJS9",
        "colab_type": "code",
        "colab": {}
      },
      "source": [
        "y_train = np_utils.to_categorical(y_train, 10)\n",
        "y_test = np_utils.to_categorical(y_test, 10)"
      ],
      "execution_count": 0,
      "outputs": []
    },
    {
      "cell_type": "markdown",
      "metadata": {
        "id": "M4sUyBRlmJTA",
        "colab_type": "text"
      },
      "source": [
        "## 正式打造篇\n",
        "\n",
        "我們需要決定\n",
        "\n",
        "* 幾層的神經網路\n",
        "* 每層有幾個神經元\n",
        "* 用什麼 activation function"
      ]
    },
    {
      "cell_type": "code",
      "metadata": {
        "id": "20gQqMIOmJTB",
        "colab_type": "code",
        "colab": {
          "base_uri": "https://localhost:8080/",
          "height": 72
        },
        "outputId": "0dac6faa-3f38-441a-ff09-9e096fdbb630"
      },
      "source": [
        "model = Sequential()"
      ],
      "execution_count": 6,
      "outputs": [
        {
          "output_type": "stream",
          "text": [
            "WARNING:tensorflow:From /usr/local/lib/python3.6/dist-packages/keras/backend/tensorflow_backend.py:66: The name tf.get_default_graph is deprecated. Please use tf.compat.v1.get_default_graph instead.\n",
            "\n"
          ],
          "name": "stdout"
        }
      ]
    },
    {
      "cell_type": "code",
      "metadata": {
        "id": "k0VfdKoDmJTD",
        "colab_type": "code",
        "colab": {
          "base_uri": "https://localhost:8080/",
          "height": 107
        },
        "outputId": "88a1222c-0263-4c90-d53b-45e1c42034ae"
      },
      "source": [
        "model.add(Dense(5, input_dim=784,\n",
        "               activation='relu'))"
      ],
      "execution_count": 7,
      "outputs": [
        {
          "output_type": "stream",
          "text": [
            "WARNING:tensorflow:From /usr/local/lib/python3.6/dist-packages/keras/backend/tensorflow_backend.py:541: The name tf.placeholder is deprecated. Please use tf.compat.v1.placeholder instead.\n",
            "\n",
            "WARNING:tensorflow:From /usr/local/lib/python3.6/dist-packages/keras/backend/tensorflow_backend.py:4432: The name tf.random_uniform is deprecated. Please use tf.random.uniform instead.\n",
            "\n"
          ],
          "name": "stdout"
        }
      ]
    },
    {
      "cell_type": "code",
      "metadata": {
        "id": "4pAat4_ZmJTG",
        "colab_type": "code",
        "colab": {}
      },
      "source": [
        "model.add(Dense(5,\n",
        "               activation='relu'))"
      ],
      "execution_count": 0,
      "outputs": []
    },
    {
      "cell_type": "code",
      "metadata": {
        "id": "Wk3JgxuTmJTJ",
        "colab_type": "code",
        "colab": {}
      },
      "source": [
        "model.add(Dense(10,\n",
        "              activation='softmax'))"
      ],
      "execution_count": 0,
      "outputs": []
    },
    {
      "cell_type": "markdown",
      "metadata": {
        "id": "VWUSSoPDmJTL",
        "colab_type": "text"
      },
      "source": [
        "### 觀賞一下"
      ]
    },
    {
      "cell_type": "code",
      "metadata": {
        "id": "ulI7teJ8mJTL",
        "colab_type": "code",
        "colab": {
          "base_uri": "https://localhost:8080/",
          "height": 260
        },
        "outputId": "7d0ca07b-3568-4494-d946-83e5d7025b4f"
      },
      "source": [
        "model.summary()"
      ],
      "execution_count": 10,
      "outputs": [
        {
          "output_type": "stream",
          "text": [
            "Model: \"sequential_1\"\n",
            "_________________________________________________________________\n",
            "Layer (type)                 Output Shape              Param #   \n",
            "=================================================================\n",
            "dense_1 (Dense)              (None, 5)                 3925      \n",
            "_________________________________________________________________\n",
            "dense_2 (Dense)              (None, 5)                 30        \n",
            "_________________________________________________________________\n",
            "dense_3 (Dense)              (None, 10)                60        \n",
            "=================================================================\n",
            "Total params: 4,015\n",
            "Trainable params: 4,015\n",
            "Non-trainable params: 0\n",
            "_________________________________________________________________\n"
          ],
          "name": "stdout"
        }
      ]
    },
    {
      "cell_type": "markdown",
      "metadata": {
        "id": "N-EDINlfmJTP",
        "colab_type": "text"
      },
      "source": [
        "## 組裝、訓練"
      ]
    },
    {
      "cell_type": "code",
      "metadata": {
        "id": "dtLrBqy3mJTQ",
        "colab_type": "code",
        "colab": {
          "base_uri": "https://localhost:8080/",
          "height": 72
        },
        "outputId": "07f08e5b-6d4b-42a5-9865-4a7777a1f3dc"
      },
      "source": [
        "model.compile(loss='mse', optimizer=SGD(lr=0.087), metrics=['accuracy'])"
      ],
      "execution_count": 11,
      "outputs": [
        {
          "output_type": "stream",
          "text": [
            "WARNING:tensorflow:From /usr/local/lib/python3.6/dist-packages/keras/optimizers.py:793: The name tf.train.Optimizer is deprecated. Please use tf.compat.v1.train.Optimizer instead.\n",
            "\n"
          ],
          "name": "stdout"
        }
      ]
    },
    {
      "cell_type": "code",
      "metadata": {
        "id": "Yzq_ZYzimJTT",
        "colab_type": "code",
        "colab": {
          "base_uri": "https://localhost:8080/",
          "height": 1000
        },
        "outputId": "3a946baf-88b2-4f2f-a6cb-3ae3c1532e08"
      },
      "source": [
        "model.fit(x_train, y_train, batch_size=100, epochs=20)"
      ],
      "execution_count": 12,
      "outputs": [
        {
          "output_type": "stream",
          "text": [
            "WARNING:tensorflow:From /usr/local/lib/python3.6/dist-packages/keras/backend/tensorflow_backend.py:1033: The name tf.assign_add is deprecated. Please use tf.compat.v1.assign_add instead.\n",
            "\n",
            "WARNING:tensorflow:From /usr/local/lib/python3.6/dist-packages/keras/backend/tensorflow_backend.py:1020: The name tf.assign is deprecated. Please use tf.compat.v1.assign instead.\n",
            "\n",
            "WARNING:tensorflow:From /usr/local/lib/python3.6/dist-packages/keras/backend/tensorflow_backend.py:3005: The name tf.Session is deprecated. Please use tf.compat.v1.Session instead.\n",
            "\n",
            "Epoch 1/20\n",
            "WARNING:tensorflow:From /usr/local/lib/python3.6/dist-packages/keras/backend/tensorflow_backend.py:190: The name tf.get_default_session is deprecated. Please use tf.compat.v1.get_default_session instead.\n",
            "\n",
            "WARNING:tensorflow:From /usr/local/lib/python3.6/dist-packages/keras/backend/tensorflow_backend.py:197: The name tf.ConfigProto is deprecated. Please use tf.compat.v1.ConfigProto instead.\n",
            "\n",
            "WARNING:tensorflow:From /usr/local/lib/python3.6/dist-packages/keras/backend/tensorflow_backend.py:207: The name tf.global_variables is deprecated. Please use tf.compat.v1.global_variables instead.\n",
            "\n",
            "WARNING:tensorflow:From /usr/local/lib/python3.6/dist-packages/keras/backend/tensorflow_backend.py:216: The name tf.is_variable_initialized is deprecated. Please use tf.compat.v1.is_variable_initialized instead.\n",
            "\n",
            "WARNING:tensorflow:From /usr/local/lib/python3.6/dist-packages/keras/backend/tensorflow_backend.py:223: The name tf.variables_initializer is deprecated. Please use tf.compat.v1.variables_initializer instead.\n",
            "\n",
            "60000/60000 [==============================] - 1s 19us/step - loss: 0.0894 - acc: 0.1530\n",
            "Epoch 2/20\n",
            "60000/60000 [==============================] - 1s 17us/step - loss: 0.0876 - acc: 0.2216\n",
            "Epoch 3/20\n",
            "60000/60000 [==============================] - 1s 17us/step - loss: 0.0837 - acc: 0.3149\n",
            "Epoch 4/20\n",
            "60000/60000 [==============================] - 1s 16us/step - loss: 0.0757 - acc: 0.3481\n",
            "Epoch 5/20\n",
            "60000/60000 [==============================] - 1s 17us/step - loss: 0.0678 - acc: 0.4183\n",
            "Epoch 6/20\n",
            "60000/60000 [==============================] - 1s 17us/step - loss: 0.0625 - acc: 0.4568\n",
            "Epoch 7/20\n",
            "60000/60000 [==============================] - 1s 16us/step - loss: 0.0594 - acc: 0.4958\n",
            "Epoch 8/20\n",
            "60000/60000 [==============================] - 1s 16us/step - loss: 0.0566 - acc: 0.5313\n",
            "Epoch 9/20\n",
            "60000/60000 [==============================] - 1s 16us/step - loss: 0.0534 - acc: 0.5749\n",
            "Epoch 10/20\n",
            "60000/60000 [==============================] - 1s 16us/step - loss: 0.0499 - acc: 0.6210\n",
            "Epoch 11/20\n",
            "60000/60000 [==============================] - 1s 16us/step - loss: 0.0465 - acc: 0.6575\n",
            "Epoch 12/20\n",
            "60000/60000 [==============================] - 1s 16us/step - loss: 0.0435 - acc: 0.6899\n",
            "Epoch 13/20\n",
            "60000/60000 [==============================] - 1s 17us/step - loss: 0.0413 - acc: 0.7102\n",
            "Epoch 14/20\n",
            "60000/60000 [==============================] - 1s 16us/step - loss: 0.0398 - acc: 0.7226\n",
            "Epoch 15/20\n",
            "60000/60000 [==============================] - 1s 16us/step - loss: 0.0387 - acc: 0.7303\n",
            "Epoch 16/20\n",
            "60000/60000 [==============================] - 1s 16us/step - loss: 0.0375 - acc: 0.7358\n",
            "Epoch 17/20\n",
            "60000/60000 [==============================] - 1s 16us/step - loss: 0.0350 - acc: 0.7446\n",
            "Epoch 18/20\n",
            "60000/60000 [==============================] - 1s 16us/step - loss: 0.0330 - acc: 0.7726\n",
            "Epoch 19/20\n",
            "60000/60000 [==============================] - 1s 17us/step - loss: 0.0311 - acc: 0.7909\n",
            "Epoch 20/20\n",
            "60000/60000 [==============================] - 1s 16us/step - loss: 0.0297 - acc: 0.8009\n"
          ],
          "name": "stdout"
        },
        {
          "output_type": "execute_result",
          "data": {
            "text/plain": [
              "<keras.callbacks.History at 0x7f7a0ec7d860>"
            ]
          },
          "metadata": {
            "tags": []
          },
          "execution_count": 12
        }
      ]
    },
    {
      "cell_type": "markdown",
      "metadata": {
        "id": "f4qOGqWZmJTV",
        "colab_type": "text"
      },
      "source": [
        "## 檢視成果"
      ]
    },
    {
      "cell_type": "code",
      "metadata": {
        "id": "NSWN9kaomJTW",
        "colab_type": "code",
        "colab": {}
      },
      "source": [
        "from ipywidgets import interact_manual"
      ],
      "execution_count": 0,
      "outputs": []
    },
    {
      "cell_type": "code",
      "metadata": {
        "id": "gB9LOqgomJTY",
        "colab_type": "code",
        "colab": {}
      },
      "source": [
        "predict = model.predict_classes(x_test)"
      ],
      "execution_count": 0,
      "outputs": []
    },
    {
      "cell_type": "code",
      "metadata": {
        "id": "UZkib60BmJTa",
        "colab_type": "code",
        "colab": {}
      },
      "source": [
        "def test(測試編號):\n",
        "    plt.imshow(x_test[測試編號].reshape(28,28), cmap='Greys')\n",
        "    print('神經網路判斷為:', predict[測試編號])"
      ],
      "execution_count": 0,
      "outputs": []
    },
    {
      "cell_type": "code",
      "metadata": {
        "id": "_2nH15admJTc",
        "colab_type": "code",
        "colab": {
          "base_uri": "https://localhost:8080/",
          "height": 364,
          "referenced_widgets": [
            "8b6ecc21203e45668d74d2d121fe20e9",
            "a5eec25d0a214eba91d6b3f8960495f7",
            "0966d016fb454879938af3b84ab6121f",
            "6a7e529a653549cfbf2167a52730f6ad",
            "3159c74fe1eb43ac9a3f43adf0698e5c",
            "debdc0a90384438d95960c887f9d5f8b",
            "fe1d6a6484e0489ea5234b37b419b64d",
            "b48ce8d4e5fd47ef874a0ce94e5e7982",
            "b06340cd630b4b08a0d6eb082e796dbe",
            "27ccd25778454b31bd7dfbda99dab9dd"
          ]
        },
        "outputId": "71265abc-f006-4b2f-ca8a-db61ee3ae966"
      },
      "source": [
        "interact_manual(test, 測試編號=(0,9999))"
      ],
      "execution_count": 16,
      "outputs": [
        {
          "output_type": "display_data",
          "data": {
            "application/vnd.jupyter.widget-view+json": {
              "model_id": "8b6ecc21203e45668d74d2d121fe20e9",
              "version_minor": 0,
              "version_major": 2
            },
            "text/plain": [
              "interactive(children=(IntSlider(value=4999, description='測試編號', max=9999), Button(description='Run Interact', …"
            ]
          },
          "metadata": {
            "tags": []
          }
        },
        {
          "output_type": "execute_result",
          "data": {
            "text/plain": [
              "<function __main__.test>"
            ]
          },
          "metadata": {
            "tags": []
          },
          "execution_count": 16
        }
      ]
    }
  ]
}