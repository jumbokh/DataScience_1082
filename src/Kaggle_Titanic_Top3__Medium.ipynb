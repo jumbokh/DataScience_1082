{
  "nbformat": 4,
  "nbformat_minor": 0,
  "metadata": {
    "kernelspec": {
      "display_name": "Python 3",
      "language": "python",
      "name": "python3"
    },
    "language_info": {
      "codemirror_mode": {
        "name": "ipython",
        "version": 3
      },
      "file_extension": ".py",
      "mimetype": "text/x-python",
      "name": "python",
      "nbconvert_exporter": "python",
      "pygments_lexer": "ipython3",
      "version": "3.6.1"
    },
    "toc": {
      "base_numbering": 1,
      "nav_menu": {},
      "number_sections": true,
      "sideBar": true,
      "skip_h1_title": false,
      "title_cell": "Table of Contents",
      "title_sidebar": "Contents",
      "toc_cell": false,
      "toc_position": {},
      "toc_section_display": true,
      "toc_window_display": false
    },
    "colab": {
      "name": "Kaggle_Titanic_Top3%_Medium.ipynb",
      "provenance": []
    },
    "accelerator": "GPU"
  },
  "cells": [
    {
      "cell_type": "markdown",
      "metadata": {
        "id": "c191G9xFVY6Y",
        "colab_type": "text"
      },
      "source": [
        "Step 1. 設定 Google Drive 連接"
      ]
    },
    {
      "cell_type": "code",
      "metadata": {
        "id": "QxikaKdzVc5b",
        "colab_type": "code",
        "colab": {
          "base_uri": "https://localhost:8080/",
          "height": 124
        },
        "outputId": "8a72d008-88d9-4d48-bb77-f282b72c6ba4"
      },
      "source": [
        "from google.colab import drive\n",
        "drive.mount('/content/gdrive') # 點擊網址，選擇 Google 帳號登入，然後將授權碼貼回輸入框中"
      ],
      "execution_count": 1,
      "outputs": [
        {
          "output_type": "stream",
          "text": [
            "Go to this URL in a browser: https://accounts.google.com/o/oauth2/auth?client_id=947318989803-6bn6qk8qdgf4n4g3pfee6491hc0brc4i.apps.googleusercontent.com&redirect_uri=urn%3aietf%3awg%3aoauth%3a2.0%3aoob&response_type=code&scope=email%20https%3a%2f%2fwww.googleapis.com%2fauth%2fdocs.test%20https%3a%2f%2fwww.googleapis.com%2fauth%2fdrive%20https%3a%2f%2fwww.googleapis.com%2fauth%2fdrive.photos.readonly%20https%3a%2f%2fwww.googleapis.com%2fauth%2fpeopleapi.readonly\n",
            "\n",
            "Enter your authorization code:\n",
            "··········\n",
            "Mounted at /content/gdrive\n"
          ],
          "name": "stdout"
        }
      ]
    },
    {
      "cell_type": "markdown",
      "metadata": {
        "id": "7rJOPlh4Vgqo",
        "colab_type": "text"
      },
      "source": [
        "Step 2. 設定捷徑"
      ]
    },
    {
      "cell_type": "code",
      "metadata": {
        "id": "adLUwNGHVqz4",
        "colab_type": "code",
        "colab": {}
      },
      "source": [
        "!ln -fs /content/gdrive/My\\ Drive /app"
      ],
      "execution_count": 0,
      "outputs": []
    },
    {
      "cell_type": "markdown",
      "metadata": {
        "id": "YpUkOJG3V0Hm",
        "colab_type": "text"
      },
      "source": [
        "Step 3. 下載 cuDNN 檔案\n",
        "申請 Nvidia 帳號，申請網址為 http://bit.ly/2qfpOPj\n",
        "下載 cudnn-10.0-linux-x64-v7.5.0.56.tgz，下載網址為 下載 cuDNN 檔案。下載網址為：http://bit.ly/2qfpOPj\n",
        "將下載的檔案 cudnn-10.0-linux-x64-v7.5.0.56.tgz 放到 google drive 的 cuDNN/ 目錄下。"
      ]
    },
    {
      "cell_type": "code",
      "metadata": {
        "id": "m4XmkuQ9Wc8f",
        "colab_type": "code",
        "colab": {
          "base_uri": "https://localhost:8080/",
          "height": 243
        },
        "outputId": "70dcdde9-2b75-40fa-f683-905785ae561f"
      },
      "source": [
        "!tar -xzvf /app/cuDNN/cudnn-10.0-linux-x64-v7.5.0.56.tgz -C /usr/local/\n",
        "!chmod a+r /usr/local/cuda/include/cudnn.h\n",
        "\n",
        "# 檢查是否安裝成功\n",
        "!cat /usr/local/cuda/include/cudnn.h | grep CUDNN_MAJOR -A 2"
      ],
      "execution_count": 3,
      "outputs": [
        {
          "output_type": "stream",
          "text": [
            "cuda/include/cudnn.h\n",
            "cuda/NVIDIA_SLA_cuDNN_Support.txt\n",
            "cuda/lib64/libcudnn.so\n",
            "cuda/lib64/libcudnn.so.7\n",
            "cuda/lib64/libcudnn.so.7.5.0\n",
            "cuda/lib64/libcudnn_static.a\n",
            "#define CUDNN_MAJOR 7\n",
            "#define CUDNN_MINOR 5\n",
            "#define CUDNN_PATCHLEVEL 0\n",
            "--\n",
            "#define CUDNN_VERSION (CUDNN_MAJOR * 1000 + CUDNN_MINOR * 100 + CUDNN_PATCHLEVEL)\n",
            "\n",
            "#include \"driver_types.h\"\n"
          ],
          "name": "stdout"
        }
      ]
    },
    {
      "cell_type": "code",
      "metadata": {
        "id": "BbqBUzXpXRVe",
        "colab_type": "code",
        "colab": {
          "base_uri": "https://localhost:8080/",
          "height": 52
        },
        "outputId": "f069e133-bfb5-41c7-de7a-d94a71f1f9ea"
      },
      "source": [
        "%cd /content/gdrive/My\\ Drive\n",
        "%pwd\n",
        "%ls Titanic"
      ],
      "execution_count": 5,
      "outputs": [
        {
          "output_type": "stream",
          "text": [
            "/content/gdrive/My Drive\n",
            "gender_submission.csv  test.csv  train.csv\n"
          ],
          "name": "stdout"
        }
      ]
    },
    {
      "cell_type": "code",
      "metadata": {
        "id": "0SAFhiKRVD1A",
        "colab_type": "code",
        "colab": {}
      },
      "source": [
        "# loading package\n",
        "import numpy as np \n",
        "import pandas as pd\n",
        "import matplotlib.pyplot as plt \n",
        "import seaborn as sns \n",
        "%matplotlib inline\n",
        "sns.set(font_scale=1.56)\n",
        "from sklearn.ensemble import RandomForestClassifier\n",
        "from sklearn.model_selection import cross_val_score, StratifiedKFold, learning_curve, train_test_split\n",
        "from sklearn.preprocessing import LabelEncoder\n",
        "from sklearn.feature_selection import RFECV\n",
        "# loading data\n",
        "df_train = pd.read_csv(\"Titanic/train.csv\")\n",
        "df_test = pd.read_csv(\"Titanic/test.csv\")\n",
        "df_data = df_train.append(df_test)\n",
        "# for display dataframe\n",
        "from IPython.display import display\n",
        "from IPython.display import display_html\n",
        "def display_side_by_side(*args):\n",
        "    html_str=''\n",
        "    for df in args:\n",
        "        html_str+=df.to_html()\n",
        "    display_html(html_str.replace('table','table style=\"display:inline\"'),raw=True)\n",
        "# ignore warning\n",
        "import warnings\n",
        "warnings.filterwarnings(\"ignore\")"
      ],
      "execution_count": 0,
      "outputs": []
    },
    {
      "cell_type": "code",
      "metadata": {
        "ExecuteTime": {
          "end_time": "2018-06-17T05:37:29.820030Z",
          "start_time": "2018-06-17T05:37:29.478226Z"
        },
        "id": "2hp_Kyn0SOeM",
        "colab_type": "code",
        "colab": {
          "base_uri": "https://localhost:8080/",
          "height": 392
        },
        "outputId": "6f1bf54d-d9ba-48e6-c42c-5a8d89debbf3"
      },
      "source": [
        "sns.countplot(df_data['Sex'], hue=df_data['Survived'])\n",
        "display(df_data[[\"Sex\", \"Survived\"]].groupby(['Sex'], as_index=False).mean().round(3))"
      ],
      "execution_count": 9,
      "outputs": [
        {
          "output_type": "display_data",
          "data": {
            "text/html": [
              "<div>\n",
              "<style scoped>\n",
              "    .dataframe tbody tr th:only-of-type {\n",
              "        vertical-align: middle;\n",
              "    }\n",
              "\n",
              "    .dataframe tbody tr th {\n",
              "        vertical-align: top;\n",
              "    }\n",
              "\n",
              "    .dataframe thead th {\n",
              "        text-align: right;\n",
              "    }\n",
              "</style>\n",
              "<table border=\"1\" class=\"dataframe\">\n",
              "  <thead>\n",
              "    <tr style=\"text-align: right;\">\n",
              "      <th></th>\n",
              "      <th>Sex</th>\n",
              "      <th>Survived</th>\n",
              "    </tr>\n",
              "  </thead>\n",
              "  <tbody>\n",
              "    <tr>\n",
              "      <th>0</th>\n",
              "      <td>female</td>\n",
              "      <td>0.742</td>\n",
              "    </tr>\n",
              "    <tr>\n",
              "      <th>1</th>\n",
              "      <td>male</td>\n",
              "      <td>0.189</td>\n",
              "    </tr>\n",
              "  </tbody>\n",
              "</table>\n",
              "</div>"
            ],
            "text/plain": [
              "      Sex  Survived\n",
              "0  female     0.742\n",
              "1    male     0.189"
            ]
          },
          "metadata": {
            "tags": []
          }
        },
        {
          "output_type": "display_data",
          "data": {
            "image/png": "[encoded data removed]",
            "text/plain": [
              "<Figure size 432x288 with 1 Axes>"
            ]
          },
          "metadata": {
            "tags": []
          }
        }
      ]
    },
    {
      "cell_type": "code",
      "metadata": {
        "ExecuteTime": {
          "end_time": "2018-06-17T05:37:33.437222Z",
          "start_time": "2018-06-17T05:37:33.126402Z"
        },
        "id": "O1DT2ATJSOeS",
        "colab_type": "code",
        "colab": {
          "base_uri": "https://localhost:8080/",
          "height": 423
        },
        "outputId": "bc0aeb96-634b-40ad-87a3-259e22a924a4"
      },
      "source": [
        "sns.countplot(df_data['Pclass'], hue=df_data['Survived'])\n",
        "df_data[[\"Pclass\", \"Survived\"]].groupby(['Pclass'], as_index=False).mean().round(3)"
      ],
      "execution_count": 10,
      "outputs": [
        {
          "output_type": "execute_result",
          "data": {
            "text/html": [
              "<div>\n",
              "<style scoped>\n",
              "    .dataframe tbody tr th:only-of-type {\n",
              "        vertical-align: middle;\n",
              "    }\n",
              "\n",
              "    .dataframe tbody tr th {\n",
              "        vertical-align: top;\n",
              "    }\n",
              "\n",
              "    .dataframe thead th {\n",
              "        text-align: right;\n",
              "    }\n",
              "</style>\n",
              "<table border=\"1\" class=\"dataframe\">\n",
              "  <thead>\n",
              "    <tr style=\"text-align: right;\">\n",
              "      <th></th>\n",
              "      <th>Pclass</th>\n",
              "      <th>Survived</th>\n",
              "    </tr>\n",
              "  </thead>\n",
              "  <tbody>\n",
              "    <tr>\n",
              "      <th>0</th>\n",
              "      <td>1</td>\n",
              "      <td>0.630</td>\n",
              "    </tr>\n",
              "    <tr>\n",
              "      <th>1</th>\n",
              "      <td>2</td>\n",
              "      <td>0.473</td>\n",
              "    </tr>\n",
              "    <tr>\n",
              "      <th>2</th>\n",
              "      <td>3</td>\n",
              "      <td>0.242</td>\n",
              "    </tr>\n",
              "  </tbody>\n",
              "</table>\n",
              "</div>"
            ],
            "text/plain": [
              "   Pclass  Survived\n",
              "0       1     0.630\n",
              "1       2     0.473\n",
              "2       3     0.242"
            ]
          },
          "metadata": {
            "tags": []
          },
          "execution_count": 10
        },
        {
          "output_type": "display_data",
          "data": {
            "image/png": "[encoded data removed]",
            "text/plain": [
              "<Figure size 432x288 with 1 Axes>"
            ]
          },
          "metadata": {
            "tags": []
          }
        }
      ]
    },
    {
      "cell_type": "code",
      "metadata": {
        "ExecuteTime": {
          "end_time": "2018-06-17T05:37:35.391105Z",
          "start_time": "2018-06-17T05:37:35.381112Z"
        },
        "id": "C58e5t0oSOeV",
        "colab_type": "code",
        "colab": {}
      },
      "source": [
        "# Convert Sex\n",
        "df_data['Sex_Code'] = df_data['Sex'].map({'female' : 1, 'male' : 0}).astype('int')"
      ],
      "execution_count": 0,
      "outputs": []
    },
    {
      "cell_type": "code",
      "metadata": {
        "ExecuteTime": {
          "end_time": "2018-06-17T05:37:36.768380Z",
          "start_time": "2018-06-17T05:37:36.762383Z"
        },
        "id": "yvLxFp6lSOeY",
        "colab_type": "code",
        "colab": {}
      },
      "source": [
        "# split training set the testing set\n",
        "df_train = df_data[:len(df_train)]\n",
        "df_test = df_data[len(df_train):]"
      ],
      "execution_count": 0,
      "outputs": []
    },
    {
      "cell_type": "code",
      "metadata": {
        "ExecuteTime": {
          "end_time": "2018-06-17T05:37:38.347546Z",
          "start_time": "2018-06-17T05:37:38.340544Z"
        },
        "id": "EszInS_5SOeb",
        "colab_type": "code",
        "colab": {}
      },
      "source": [
        "# Inputs set and labels\n",
        "X = df_train.drop(labels=['Survived','PassengerId'],axis=1)\n",
        "Y = df_train['Survived']"
      ],
      "execution_count": 0,
      "outputs": []
    },
    {
      "cell_type": "code",
      "metadata": {
        "ExecuteTime": {
          "end_time": "2018-06-17T05:37:41.223068Z",
          "start_time": "2018-06-17T05:37:40.686375Z"
        },
        "id": "FhPsksMcSOee",
        "colab_type": "code",
        "colab": {
          "base_uri": "https://localhost:8080/",
          "height": 35
        },
        "outputId": "c87db7ee-0fd4-4a00-8ae5-ad1cbd28597b"
      },
      "source": [
        "# Show Baseline\n",
        "Base = ['Sex_Code','Pclass']\n",
        "Base_Model = RandomForestClassifier(random_state=2,n_estimators=250,min_samples_split=20,oob_score=True)\n",
        "Base_Model.fit(X[Base], Y)\n",
        "print('Base oob score :%.5f' %(Base_Model.oob_score_))"
      ],
      "execution_count": 14,
      "outputs": [
        {
          "output_type": "stream",
          "text": [
            "Base oob score :0.73176\n"
          ],
          "name": "stdout"
        }
      ]
    },
    {
      "cell_type": "code",
      "metadata": {
        "ExecuteTime": {
          "end_time": "2018-06-17T05:37:43.111048Z",
          "start_time": "2018-06-17T05:37:43.055076Z"
        },
        "id": "uFhSIsCdSOeh",
        "colab_type": "code",
        "colab": {}
      },
      "source": [
        "# submission if you want\n",
        "# submits\n",
        "X_Submit = df_test.drop(labels=['PassengerId'],axis=1)\n",
        "\n",
        "Base_pred = Base_Model.predict(X_Submit[Base])\n",
        "\n",
        "submit = pd.DataFrame({\"PassengerId\": df_test['PassengerId'],\n",
        "                      \"Survived\":Base_pred.astype(int)})\n",
        "submit.to_csv(\"submit_Base.csv\",index=False)"
      ],
      "execution_count": 0,
      "outputs": []
    },
    {
      "cell_type": "code",
      "metadata": {
        "ExecuteTime": {
          "end_time": "2018-06-17T05:37:45.387774Z",
          "start_time": "2018-06-17T05:37:44.765146Z"
        },
        "id": "RvVxkBegSOek",
        "colab_type": "code",
        "colab": {
          "base_uri": "https://localhost:8080/",
          "height": 668
        },
        "outputId": "2b1d91ad-6025-4bab-b255-2fc34e1e396e"
      },
      "source": [
        "# there is some bugs in log-scale of boxplot. \n",
        "# alternatively, we transform x into log10(x) for visualization.\n",
        "fig, ax = plt.subplots( figsize = (18,7) )\n",
        "df_data['Log_Fare'] = (df_data['Fare']+1).map(lambda x : np.log10(x) if x > 0 else 0)\n",
        "sns.boxplot(y='Pclass', x='Log_Fare',hue='Survived',data=df_data, orient='h'\n",
        "                ,ax=ax,palette=\"Set3\")\n",
        "ax.set_title(' Log_Fare & Pclass vs Survived ',fontsize = 20)\n",
        "pd.pivot_table(df_data,values = ['Fare'], index = ['Pclass'], columns= ['Survived'] ,aggfunc = 'median' ).round(3)"
      ],
      "execution_count": 16,
      "outputs": [
        {
          "output_type": "execute_result",
          "data": {
            "text/html": [
              "<div>\n",
              "<style scoped>\n",
              "    .dataframe tbody tr th:only-of-type {\n",
              "        vertical-align: middle;\n",
              "    }\n",
              "\n",
              "    .dataframe tbody tr th {\n",
              "        vertical-align: top;\n",
              "    }\n",
              "\n",
              "    .dataframe thead tr th {\n",
              "        text-align: left;\n",
              "    }\n",
              "\n",
              "    .dataframe thead tr:last-of-type th {\n",
              "        text-align: right;\n",
              "    }\n",
              "</style>\n",
              "<table border=\"1\" class=\"dataframe\">\n",
              "  <thead>\n",
              "    <tr>\n",
              "      <th></th>\n",
              "      <th colspan=\"2\" halign=\"left\">Fare</th>\n",
              "    </tr>\n",
              "    <tr>\n",
              "      <th>Survived</th>\n",
              "      <th>0.0</th>\n",
              "      <th>1.0</th>\n",
              "    </tr>\n",
              "    <tr>\n",
              "      <th>Pclass</th>\n",
              "      <th></th>\n",
              "      <th></th>\n",
              "    </tr>\n",
              "  </thead>\n",
              "  <tbody>\n",
              "    <tr>\n",
              "      <th>1</th>\n",
              "      <td>44.75</td>\n",
              "      <td>77.958</td>\n",
              "    </tr>\n",
              "    <tr>\n",
              "      <th>2</th>\n",
              "      <td>13.00</td>\n",
              "      <td>21.000</td>\n",
              "    </tr>\n",
              "    <tr>\n",
              "      <th>3</th>\n",
              "      <td>8.05</td>\n",
              "      <td>8.517</td>\n",
              "    </tr>\n",
              "  </tbody>\n",
              "</table>\n",
              "</div>"
            ],
            "text/plain": [
              "           Fare        \n",
              "Survived    0.0     1.0\n",
              "Pclass                 \n",
              "1         44.75  77.958\n",
              "2         13.00  21.000\n",
              "3          8.05   8.517"
            ]
          },
          "metadata": {
            "tags": []
          },
          "execution_count": 16
        },
        {
          "output_type": "display_data",
          "data": {
            "image/png": "[encoded data removed]",
            "text/plain": [
              "<Figure size 1296x504 with 1 Axes>"
            ]
          },
          "metadata": {
            "tags": []
          }
        }
      ]
    },
    {
      "cell_type": "code",
      "metadata": {
        "ExecuteTime": {
          "end_time": "2018-06-17T05:37:48.918806Z",
          "start_time": "2018-06-17T05:37:47.243765Z"
        },
        "id": "pyrx3JvzSOen",
        "colab_type": "code",
        "colab": {
          "base_uri": "https://localhost:8080/",
          "height": 529
        },
        "outputId": "09acdb0c-e7eb-4851-ca9b-eae40b904129"
      },
      "source": [
        "# Filling missing values\n",
        "df_data['Fare'] = df_data['Fare'].fillna(df_data['Fare'].median())\n",
        "\n",
        "# Making Bins\n",
        "df_data['FareBin_4'] = pd.qcut(df_data['Fare'], 4)\n",
        "df_data['FareBin_5'] = pd.qcut(df_data['Fare'], 5)\n",
        "df_data['FareBin_6'] = pd.qcut(df_data['Fare'], 6)\n",
        "\n",
        "label = LabelEncoder()\n",
        "df_data['FareBin_Code_4'] = label.fit_transform(df_data['FareBin_4'])\n",
        "df_data['FareBin_Code_5'] = label.fit_transform(df_data['FareBin_5'])\n",
        "df_data['FareBin_Code_6'] = label.fit_transform(df_data['FareBin_6'])\n",
        "\n",
        "# cross tab\n",
        "df_4 = pd.crosstab(df_data['FareBin_Code_4'],df_data['Pclass'])\n",
        "df_5 = pd.crosstab(df_data['FareBin_Code_5'],df_data['Pclass'])\n",
        "df_6 = pd.crosstab(df_data['FareBin_Code_6'],df_data['Pclass'])\n",
        "\n",
        "display_side_by_side(df_4,df_5,df_6)\n",
        "\n",
        "# plots\n",
        "fig, [ax1, ax2, ax3] = plt.subplots(1, 3,sharey=True)\n",
        "fig.set_figwidth(18)\n",
        "for axi in [ax1, ax2, ax3]:\n",
        "    axi.axhline(0.5,linestyle='dashed', c='black',alpha = .3)\n",
        "g1 = sns.factorplot(x='FareBin_Code_4', y=\"Survived\", data=df_data,kind='bar',ax=ax1)\n",
        "g2 = sns.factorplot(x='FareBin_Code_5', y=\"Survived\", data=df_data,kind='bar',ax=ax2)\n",
        "g3 = sns.factorplot(x='FareBin_Code_6', y=\"Survived\", data=df_data,kind='bar',ax=ax3)\n",
        "# close FacetGrid object\n",
        "plt.close(g1.fig)\n",
        "plt.close(g2.fig)\n",
        "plt.close(g3.fig)"
      ],
      "execution_count": 18,
      "outputs": [
        {
          "output_type": "display_data",
          "data": {
            "text/html": [
              "<table style=\"display:inline\" border=\"1\" class=\"dataframe\">\n",
              "  <thead>\n",
              "    <tr style=\"text-align: right;\">\n",
              "      <th>Pclass</th>\n",
              "      <th>1</th>\n",
              "      <th>2</th>\n",
              "      <th>3</th>\n",
              "    </tr>\n",
              "    <tr>\n",
              "      <th>FareBin_Code_4</th>\n",
              "      <th></th>\n",
              "      <th></th>\n",
              "      <th></th>\n",
              "    </tr>\n",
              "  </thead>\n",
              "  <tbody>\n",
              "    <tr>\n",
              "      <th>0</th>\n",
              "      <td>8</td>\n",
              "      <td>6</td>\n",
              "      <td>323</td>\n",
              "    </tr>\n",
              "    <tr>\n",
              "      <th>1</th>\n",
              "      <td>0</td>\n",
              "      <td>128</td>\n",
              "      <td>193</td>\n",
              "    </tr>\n",
              "    <tr>\n",
              "      <th>2</th>\n",
              "      <td>77</td>\n",
              "      <td>104</td>\n",
              "      <td>147</td>\n",
              "    </tr>\n",
              "    <tr>\n",
              "      <th>3</th>\n",
              "      <td>238</td>\n",
              "      <td>39</td>\n",
              "      <td>46</td>\n",
              "    </tr>\n",
              "  </tbody>\n",
              "</table style=\"display:inline\"><table style=\"display:inline\" border=\"1\" class=\"dataframe\">\n",
              "  <thead>\n",
              "    <tr style=\"text-align: right;\">\n",
              "      <th>Pclass</th>\n",
              "      <th>1</th>\n",
              "      <th>2</th>\n",
              "      <th>3</th>\n",
              "    </tr>\n",
              "    <tr>\n",
              "      <th>FareBin_Code_5</th>\n",
              "      <th></th>\n",
              "      <th></th>\n",
              "      <th></th>\n",
              "    </tr>\n",
              "  </thead>\n",
              "  <tbody>\n",
              "    <tr>\n",
              "      <th>0</th>\n",
              "      <td>8</td>\n",
              "      <td>6</td>\n",
              "      <td>261</td>\n",
              "    </tr>\n",
              "    <tr>\n",
              "      <th>1</th>\n",
              "      <td>0</td>\n",
              "      <td>36</td>\n",
              "      <td>218</td>\n",
              "    </tr>\n",
              "    <tr>\n",
              "      <th>2</th>\n",
              "      <td>0</td>\n",
              "      <td>124</td>\n",
              "      <td>132</td>\n",
              "    </tr>\n",
              "    <tr>\n",
              "      <th>3</th>\n",
              "      <td>95</td>\n",
              "      <td>99</td>\n",
              "      <td>71</td>\n",
              "    </tr>\n",
              "    <tr>\n",
              "      <th>4</th>\n",
              "      <td>220</td>\n",
              "      <td>12</td>\n",
              "      <td>27</td>\n",
              "    </tr>\n",
              "  </tbody>\n",
              "</table style=\"display:inline\"><table style=\"display:inline\" border=\"1\" class=\"dataframe\">\n",
              "  <thead>\n",
              "    <tr style=\"text-align: right;\">\n",
              "      <th>Pclass</th>\n",
              "      <th>1</th>\n",
              "      <th>2</th>\n",
              "      <th>3</th>\n",
              "    </tr>\n",
              "    <tr>\n",
              "      <th>FareBin_Code_6</th>\n",
              "      <th></th>\n",
              "      <th></th>\n",
              "      <th></th>\n",
              "    </tr>\n",
              "  </thead>\n",
              "  <tbody>\n",
              "    <tr>\n",
              "      <th>0</th>\n",
              "      <td>8</td>\n",
              "      <td>6</td>\n",
              "      <td>222</td>\n",
              "    </tr>\n",
              "    <tr>\n",
              "      <th>1</th>\n",
              "      <td>0</td>\n",
              "      <td>0</td>\n",
              "      <td>218</td>\n",
              "    </tr>\n",
              "    <tr>\n",
              "      <th>2</th>\n",
              "      <td>0</td>\n",
              "      <td>128</td>\n",
              "      <td>76</td>\n",
              "    </tr>\n",
              "    <tr>\n",
              "      <th>3</th>\n",
              "      <td>14</td>\n",
              "      <td>83</td>\n",
              "      <td>128</td>\n",
              "    </tr>\n",
              "    <tr>\n",
              "      <th>4</th>\n",
              "      <td>118</td>\n",
              "      <td>48</td>\n",
              "      <td>46</td>\n",
              "    </tr>\n",
              "    <tr>\n",
              "      <th>5</th>\n",
              "      <td>183</td>\n",
              "      <td>12</td>\n",
              "      <td>19</td>\n",
              "    </tr>\n",
              "  </tbody>\n",
              "</table style=\"display:inline\">"
            ]
          },
          "metadata": {
            "tags": []
          }
        },
        {
          "output_type": "display_data",
          "data": {
            "image/png": "[encoded data removed]",
            "text/plain": [
              "<Figure size 1296x288 with 3 Axes>"
            ]
          },
          "metadata": {
            "tags": []
          }
        }
      ]
    },
    {
      "cell_type": "code",
      "metadata": {
        "ExecuteTime": {
          "end_time": "2018-06-17T05:37:51.192615Z",
          "start_time": "2018-06-17T05:37:51.173622Z"
        },
        "id": "4wVR0o7WSOep",
        "colab_type": "code",
        "colab": {
          "base_uri": "https://localhost:8080/",
          "height": 87
        },
        "outputId": "ea055583-1016-45e7-f6f0-3885d2bd8f92"
      },
      "source": [
        "# splits again beacuse we just engineered new feature\n",
        "df_train = df_data[:len(df_train)]\n",
        "df_test = df_data[len(df_train):]\n",
        "# Training set and labels\n",
        "X = df_train.drop(labels=['Survived','PassengerId'],axis=1)\n",
        "Y = df_train['Survived']\n",
        "# show columns\n",
        "X.columns"
      ],
      "execution_count": 19,
      "outputs": [
        {
          "output_type": "execute_result",
          "data": {
            "text/plain": [
              "Index(['Pclass', 'Name', 'Sex', 'Age', 'SibSp', 'Parch', 'Ticket', 'Fare',\n",
              "       'Cabin', 'Embarked', 'Sex_Code', 'Log_Fare', 'FareBin_4', 'FareBin_5',\n",
              "       'FareBin_6', 'FareBin_Code_4', 'FareBin_Code_5', 'FareBin_Code_6'],\n",
              "      dtype='object')"
            ]
          },
          "metadata": {
            "tags": []
          },
          "execution_count": 19
        }
      ]
    },
    {
      "cell_type": "code",
      "metadata": {
        "ExecuteTime": {
          "end_time": "2018-06-17T05:38:08.731326Z",
          "start_time": "2018-06-17T05:37:53.058563Z"
        },
        "id": "UxkOLEDWSOet",
        "colab_type": "code",
        "colab": {
          "base_uri": "https://localhost:8080/",
          "height": 69
        },
        "outputId": "b919da8a-5190-4d60-caf3-51485518b86f"
      },
      "source": [
        "compare = ['Sex_Code','Pclass','FareBin_Code_4','FareBin_Code_5','FareBin_Code_6']\n",
        "selector = RFECV(RandomForestClassifier(n_estimators=250,min_samples_split=20),cv=10,n_jobs=-1)\n",
        "selector.fit(X[compare], Y)\n",
        "print(selector.support_)\n",
        "print(selector.ranking_)\n",
        "print(selector.grid_scores_*100)"
      ],
      "execution_count": 20,
      "outputs": [
        {
          "output_type": "stream",
          "text": [
            "[ True  True  True  True  True]\n",
            "[1 1 1 1 1]\n",
            "[78.67290886 77.44444444 79.01747815 79.35580524 80.58801498]\n"
          ],
          "name": "stdout"
        }
      ]
    },
    {
      "cell_type": "code",
      "metadata": {
        "ExecuteTime": {
          "end_time": "2018-06-17T05:41:53.820187Z",
          "start_time": "2018-06-17T05:38:31.514324Z"
        },
        "id": "IM90zFDxSOey",
        "colab_type": "code",
        "colab": {}
      },
      "source": [
        "score_b4,score_b5, score_b6 = [], [], []\n",
        "seeds = 10\n",
        "for i in range(seeds):\n",
        "    diff_cv = StratifiedKFold(n_splits=10,shuffle=True,random_state=i)\n",
        "    selector = RFECV(RandomForestClassifier(random_state=i,n_estimators=250,min_samples_split=20),cv=diff_cv,n_jobs=-1)\n",
        "    selector.fit(X[compare], Y)\n",
        "    score_b4.append(selector.grid_scores_[2])\n",
        "    score_b5.append(selector.grid_scores_[3])\n",
        "    score_b6.append(selector.grid_scores_[4])"
      ],
      "execution_count": 0,
      "outputs": []
    },
    {
      "cell_type": "code",
      "metadata": {
        "ExecuteTime": {
          "end_time": "2018-06-17T05:42:18.817633Z",
          "start_time": "2018-06-17T05:42:18.378865Z"
        },
        "id": "QxAnAAYJSOe2",
        "colab_type": "code",
        "colab": {
          "base_uri": "https://localhost:8080/",
          "height": 549
        },
        "outputId": "5d438d49-af7e-46c4-bfad-cda15f4a0dbb"
      },
      "source": [
        "# to np.array\n",
        "score_list = [score_b4, score_b5, score_b6]\n",
        "for item in score_list:\n",
        "    item = np.array(item*100)\n",
        "# plot\n",
        "fig = plt.figure(figsize= (18,8) )\n",
        "ax = plt.gca()\n",
        "ax.plot(range(seeds), score_b4,'-ok',label='bins = 4')\n",
        "ax.plot(range(seeds), score_b5,'-og',label='bins = 5')\n",
        "ax.plot(range(seeds), score_b6,'-ob',label='bins = 6')\n",
        "ax.set_xlabel(\"Seed #\", fontsize = '14')\n",
        "ax.set_ylim(0.783,0.815)\n",
        "ax.set_ylabel(\"Accuracy\", fontsize = '14')\n",
        "ax.set_title('bins = 4 vs bins = 5 vs bins = 6', fontsize='20')\n",
        "plt.legend(fontsize = 14,loc='upper right')"
      ],
      "execution_count": 22,
      "outputs": [
        {
          "output_type": "execute_result",
          "data": {
            "text/plain": [
              "<matplotlib.legend.Legend at 0x7f067cb78940>"
            ]
          },
          "metadata": {
            "tags": []
          },
          "execution_count": 22
        },
        {
          "output_type": "display_data",
          "data": {
            "image/png": "[encoded data removed]",
            "text/plain": [
              "<Figure size 1296x576 with 1 Axes>"
            ]
          },
          "metadata": {
            "tags": []
          }
        }
      ]
    },
    {
      "cell_type": "code",
      "metadata": {
        "ExecuteTime": {
          "end_time": "2018-06-17T05:42:22.002995Z",
          "start_time": "2018-06-17T05:42:20.311963Z"
        },
        "id": "NRTZ3nlHSOe6",
        "colab_type": "code",
        "colab": {
          "base_uri": "https://localhost:8080/",
          "height": 69
        },
        "outputId": "6be247d6-1a50-473c-d81f-eef05a8bfd3b"
      },
      "source": [
        "b4, b5, b6 = ['Sex_Code', 'Pclass','FareBin_Code_4'], ['Sex_Code','Pclass','FareBin_Code_5'],\\\n",
        "['Sex_Code','Pclass','FareBin_Code_6']\n",
        "b4_Model = RandomForestClassifier(random_state=2,n_estimators=250,min_samples_split=20,oob_score=True)\n",
        "b4_Model.fit(X[b4], Y)\n",
        "b5_Model = RandomForestClassifier(random_state=2,n_estimators=250,min_samples_split=20,oob_score=True)\n",
        "b5_Model.fit(X[b5], Y)\n",
        "b6_Model = RandomForestClassifier(random_state=2,n_estimators=250,min_samples_split=20,oob_score=True)\n",
        "b6_Model.fit(X[b6], Y)\n",
        "print('b4 oob score :%.5f' %(b4_Model.oob_score_),'   LB_Public : 0.7790')\n",
        "print('b5 oob score :%.5f '%(b5_Model.oob_score_),' LB_Public : 0.79425')\n",
        "print('b6 oob score : %.5f' %(b6_Model.oob_score_), '  LB_Public : 0.77033')"
      ],
      "execution_count": 23,
      "outputs": [
        {
          "output_type": "stream",
          "text": [
            "b4 oob score :0.80584    LB_Public : 0.7790\n",
            "b5 oob score :0.81033   LB_Public : 0.79425\n",
            "b6 oob score : 0.80135   LB_Public : 0.77033\n"
          ],
          "name": "stdout"
        }
      ]
    },
    {
      "cell_type": "code",
      "metadata": {
        "ExecuteTime": {
          "end_time": "2018-06-17T05:42:22.505707Z",
          "start_time": "2018-06-17T05:42:22.435750Z"
        },
        "id": "aeAbpnWkSOe9",
        "colab_type": "code",
        "colab": {}
      },
      "source": [
        "# submits\n",
        "X_Submit = df_test.drop(labels=['PassengerId'],axis=1)\n",
        "\n",
        "b5_pred = b5_Model.predict(X_Submit[b5])\n",
        "\n",
        "submit = pd.DataFrame({\"PassengerId\": df_test['PassengerId'],\n",
        "                      \"Survived\":b5_pred.astype(int)})\n",
        "submit.to_csv(\"submit_b5.csv\",index=False)"
      ],
      "execution_count": 0,
      "outputs": []
    },
    {
      "cell_type": "code",
      "metadata": {
        "ExecuteTime": {
          "end_time": "2018-06-17T05:42:24.347888Z",
          "start_time": "2018-06-17T05:42:24.330899Z"
        },
        "id": "_cDQTSVmSOfA",
        "colab_type": "code",
        "colab": {
          "base_uri": "https://localhost:8080/",
          "height": 104
        },
        "outputId": "d0c02c39-2425-4ed4-9611-5947fd5c6bac"
      },
      "source": [
        "df_train['Ticket'].describe()"
      ],
      "execution_count": 25,
      "outputs": [
        {
          "output_type": "execute_result",
          "data": {
            "text/plain": [
              "count        891\n",
              "unique       681\n",
              "top       347082\n",
              "freq           7\n",
              "Name: Ticket, dtype: object"
            ]
          },
          "metadata": {
            "tags": []
          },
          "execution_count": 25
        }
      ]
    },
    {
      "cell_type": "code",
      "metadata": {
        "ExecuteTime": {
          "end_time": "2018-06-17T05:42:25.863110Z",
          "start_time": "2018-06-17T05:42:25.857133Z"
        },
        "id": "xfcHmR9dSOfD",
        "colab_type": "code",
        "colab": {}
      },
      "source": [
        "# Family_size\n",
        "df_data['Family_size'] = df_data['SibSp'] + df_data['Parch'] + 1"
      ],
      "execution_count": 0,
      "outputs": []
    },
    {
      "cell_type": "code",
      "metadata": {
        "ExecuteTime": {
          "end_time": "2018-06-17T05:42:29.996764Z",
          "start_time": "2018-06-17T05:42:27.821991Z"
        },
        "id": "W-UZNToPSOfF",
        "colab_type": "code",
        "colab": {
          "base_uri": "https://localhost:8080/",
          "height": 478
        },
        "outputId": "65822945-2b62-4cc6-e40b-4b5ffa3c72a6"
      },
      "source": [
        "deplicate_ticket = []\n",
        "for tk in df_data.Ticket.unique():\n",
        "    tem = df_data.loc[df_data.Ticket == tk, 'Fare']\n",
        "    #print(tem.count())\n",
        "    if tem.count() > 1:\n",
        "        #print(df_data.loc[df_data.Ticket == tk,['Name','Ticket','Fare']])\n",
        "        deplicate_ticket.append(df_data.loc[df_data.Ticket == tk,['Name','Ticket','Fare','Cabin','Family_size','Survived']])\n",
        "deplicate_ticket = pd.concat(deplicate_ticket)\n",
        "deplicate_ticket.head(14)"
      ],
      "execution_count": 27,
      "outputs": [
        {
          "output_type": "execute_result",
          "data": {
            "text/html": [
              "<div>\n",
              "<style scoped>\n",
              "    .dataframe tbody tr th:only-of-type {\n",
              "        vertical-align: middle;\n",
              "    }\n",
              "\n",
              "    .dataframe tbody tr th {\n",
              "        vertical-align: top;\n",
              "    }\n",
              "\n",
              "    .dataframe thead th {\n",
              "        text-align: right;\n",
              "    }\n",
              "</style>\n",
              "<table border=\"1\" class=\"dataframe\">\n",
              "  <thead>\n",
              "    <tr style=\"text-align: right;\">\n",
              "      <th></th>\n",
              "      <th>Name</th>\n",
              "      <th>Ticket</th>\n",
              "      <th>Fare</th>\n",
              "      <th>Cabin</th>\n",
              "      <th>Family_size</th>\n",
              "      <th>Survived</th>\n",
              "    </tr>\n",
              "  </thead>\n",
              "  <tbody>\n",
              "    <tr>\n",
              "      <th>1</th>\n",
              "      <td>Cumings, Mrs. John Bradley (Florence Briggs Th...</td>\n",
              "      <td>PC 17599</td>\n",
              "      <td>71.2833</td>\n",
              "      <td>C85</td>\n",
              "      <td>2</td>\n",
              "      <td>1.0</td>\n",
              "    </tr>\n",
              "    <tr>\n",
              "      <th>234</th>\n",
              "      <td>Cumings, Mr. John Bradley</td>\n",
              "      <td>PC 17599</td>\n",
              "      <td>71.2833</td>\n",
              "      <td>C85</td>\n",
              "      <td>2</td>\n",
              "      <td>NaN</td>\n",
              "    </tr>\n",
              "    <tr>\n",
              "      <th>3</th>\n",
              "      <td>Futrelle, Mrs. Jacques Heath (Lily May Peel)</td>\n",
              "      <td>113803</td>\n",
              "      <td>53.1000</td>\n",
              "      <td>C123</td>\n",
              "      <td>2</td>\n",
              "      <td>1.0</td>\n",
              "    </tr>\n",
              "    <tr>\n",
              "      <th>137</th>\n",
              "      <td>Futrelle, Mr. Jacques Heath</td>\n",
              "      <td>113803</td>\n",
              "      <td>53.1000</td>\n",
              "      <td>C123</td>\n",
              "      <td>2</td>\n",
              "      <td>0.0</td>\n",
              "    </tr>\n",
              "    <tr>\n",
              "      <th>6</th>\n",
              "      <td>McCarthy, Mr. Timothy J</td>\n",
              "      <td>17463</td>\n",
              "      <td>51.8625</td>\n",
              "      <td>E46</td>\n",
              "      <td>1</td>\n",
              "      <td>0.0</td>\n",
              "    </tr>\n",
              "    <tr>\n",
              "      <th>146</th>\n",
              "      <td>Hilliard, Mr. Herbert Henry</td>\n",
              "      <td>17463</td>\n",
              "      <td>51.8625</td>\n",
              "      <td>E46</td>\n",
              "      <td>1</td>\n",
              "      <td>NaN</td>\n",
              "    </tr>\n",
              "    <tr>\n",
              "      <th>7</th>\n",
              "      <td>Palsson, Master. Gosta Leonard</td>\n",
              "      <td>349909</td>\n",
              "      <td>21.0750</td>\n",
              "      <td>NaN</td>\n",
              "      <td>5</td>\n",
              "      <td>0.0</td>\n",
              "    </tr>\n",
              "    <tr>\n",
              "      <th>24</th>\n",
              "      <td>Palsson, Miss. Torborg Danira</td>\n",
              "      <td>349909</td>\n",
              "      <td>21.0750</td>\n",
              "      <td>NaN</td>\n",
              "      <td>5</td>\n",
              "      <td>0.0</td>\n",
              "    </tr>\n",
              "    <tr>\n",
              "      <th>374</th>\n",
              "      <td>Palsson, Miss. Stina Viola</td>\n",
              "      <td>349909</td>\n",
              "      <td>21.0750</td>\n",
              "      <td>NaN</td>\n",
              "      <td>5</td>\n",
              "      <td>0.0</td>\n",
              "    </tr>\n",
              "    <tr>\n",
              "      <th>567</th>\n",
              "      <td>Palsson, Mrs. Nils (Alma Cornelia Berglund)</td>\n",
              "      <td>349909</td>\n",
              "      <td>21.0750</td>\n",
              "      <td>NaN</td>\n",
              "      <td>5</td>\n",
              "      <td>0.0</td>\n",
              "    </tr>\n",
              "    <tr>\n",
              "      <th>389</th>\n",
              "      <td>Palsson, Master. Paul Folke</td>\n",
              "      <td>349909</td>\n",
              "      <td>21.0750</td>\n",
              "      <td>NaN</td>\n",
              "      <td>5</td>\n",
              "      <td>NaN</td>\n",
              "    </tr>\n",
              "    <tr>\n",
              "      <th>8</th>\n",
              "      <td>Johnson, Mrs. Oscar W (Elisabeth Vilhelmina Berg)</td>\n",
              "      <td>347742</td>\n",
              "      <td>11.1333</td>\n",
              "      <td>NaN</td>\n",
              "      <td>3</td>\n",
              "      <td>1.0</td>\n",
              "    </tr>\n",
              "    <tr>\n",
              "      <th>172</th>\n",
              "      <td>Johnson, Miss. Eleanor Ileen</td>\n",
              "      <td>347742</td>\n",
              "      <td>11.1333</td>\n",
              "      <td>NaN</td>\n",
              "      <td>3</td>\n",
              "      <td>1.0</td>\n",
              "    </tr>\n",
              "    <tr>\n",
              "      <th>869</th>\n",
              "      <td>Johnson, Master. Harold Theodor</td>\n",
              "      <td>347742</td>\n",
              "      <td>11.1333</td>\n",
              "      <td>NaN</td>\n",
              "      <td>3</td>\n",
              "      <td>1.0</td>\n",
              "    </tr>\n",
              "  </tbody>\n",
              "</table>\n",
              "</div>"
            ],
            "text/plain": [
              "                                                  Name  ... Survived\n",
              "1    Cumings, Mrs. John Bradley (Florence Briggs Th...  ...      1.0\n",
              "234                          Cumings, Mr. John Bradley  ...      NaN\n",
              "3         Futrelle, Mrs. Jacques Heath (Lily May Peel)  ...      1.0\n",
              "137                        Futrelle, Mr. Jacques Heath  ...      0.0\n",
              "6                              McCarthy, Mr. Timothy J  ...      0.0\n",
              "146                        Hilliard, Mr. Herbert Henry  ...      NaN\n",
              "7                       Palsson, Master. Gosta Leonard  ...      0.0\n",
              "24                       Palsson, Miss. Torborg Danira  ...      0.0\n",
              "374                         Palsson, Miss. Stina Viola  ...      0.0\n",
              "567        Palsson, Mrs. Nils (Alma Cornelia Berglund)  ...      0.0\n",
              "389                        Palsson, Master. Paul Folke  ...      NaN\n",
              "8    Johnson, Mrs. Oscar W (Elisabeth Vilhelmina Berg)  ...      1.0\n",
              "172                       Johnson, Miss. Eleanor Ileen  ...      1.0\n",
              "869                    Johnson, Master. Harold Theodor  ...      1.0\n",
              "\n",
              "[14 rows x 6 columns]"
            ]
          },
          "metadata": {
            "tags": []
          },
          "execution_count": 27
        }
      ]
    },
    {
      "cell_type": "code",
      "metadata": {
        "ExecuteTime": {
          "end_time": "2018-06-17T05:42:30.098685Z",
          "start_time": "2018-06-17T05:42:30.041719Z"
        },
        "id": "N5JSmMFGSOfI",
        "colab_type": "code",
        "colab": {
          "base_uri": "https://localhost:8080/",
          "height": 561
        },
        "outputId": "adeaf644-0a5f-4ed2-f28b-4e9c8a1829c4"
      },
      "source": [
        "df_fri = deplicate_ticket.loc[(deplicate_ticket.Family_size == 1) & (deplicate_ticket.Survived.notnull())].head(7)\n",
        "df_fami = deplicate_ticket.loc[(deplicate_ticket.Family_size > 1) & (deplicate_ticket.Survived.notnull())].head(7)\n",
        "display(df_fri,df_fami)\n",
        "print('people keep the same ticket: %.0f '%len(deplicate_ticket))\n",
        "print('friends: %.0f '%len(deplicate_ticket[deplicate_ticket.Family_size == 1]))\n",
        "print('families: %.0f '%len(deplicate_ticket[deplicate_ticket.Family_size > 1]))"
      ],
      "execution_count": 28,
      "outputs": [
        {
          "output_type": "display_data",
          "data": {
            "text/html": [
              "<div>\n",
              "<style scoped>\n",
              "    .dataframe tbody tr th:only-of-type {\n",
              "        vertical-align: middle;\n",
              "    }\n",
              "\n",
              "    .dataframe tbody tr th {\n",
              "        vertical-align: top;\n",
              "    }\n",
              "\n",
              "    .dataframe thead th {\n",
              "        text-align: right;\n",
              "    }\n",
              "</style>\n",
              "<table border=\"1\" class=\"dataframe\">\n",
              "  <thead>\n",
              "    <tr style=\"text-align: right;\">\n",
              "      <th></th>\n",
              "      <th>Name</th>\n",
              "      <th>Ticket</th>\n",
              "      <th>Fare</th>\n",
              "      <th>Cabin</th>\n",
              "      <th>Family_size</th>\n",
              "      <th>Survived</th>\n",
              "    </tr>\n",
              "  </thead>\n",
              "  <tbody>\n",
              "    <tr>\n",
              "      <th>6</th>\n",
              "      <td>McCarthy, Mr. Timothy J</td>\n",
              "      <td>17463</td>\n",
              "      <td>51.8625</td>\n",
              "      <td>E46</td>\n",
              "      <td>1</td>\n",
              "      <td>0.0</td>\n",
              "    </tr>\n",
              "    <tr>\n",
              "      <th>20</th>\n",
              "      <td>Fynney, Mr. Joseph J</td>\n",
              "      <td>239865</td>\n",
              "      <td>26.0000</td>\n",
              "      <td>NaN</td>\n",
              "      <td>1</td>\n",
              "      <td>0.0</td>\n",
              "    </tr>\n",
              "    <tr>\n",
              "      <th>791</th>\n",
              "      <td>Gaskell, Mr. Alfred</td>\n",
              "      <td>239865</td>\n",
              "      <td>26.0000</td>\n",
              "      <td>NaN</td>\n",
              "      <td>1</td>\n",
              "      <td>0.0</td>\n",
              "    </tr>\n",
              "    <tr>\n",
              "      <th>195</th>\n",
              "      <td>Lurette, Miss. Elise</td>\n",
              "      <td>PC 17569</td>\n",
              "      <td>146.5208</td>\n",
              "      <td>B80</td>\n",
              "      <td>1</td>\n",
              "      <td>1.0</td>\n",
              "    </tr>\n",
              "    <tr>\n",
              "      <th>681</th>\n",
              "      <td>Hassab, Mr. Hammad</td>\n",
              "      <td>PC 17572</td>\n",
              "      <td>76.7292</td>\n",
              "      <td>D49</td>\n",
              "      <td>1</td>\n",
              "      <td>1.0</td>\n",
              "    </tr>\n",
              "    <tr>\n",
              "      <th>61</th>\n",
              "      <td>Icard, Miss. Amelie</td>\n",
              "      <td>113572</td>\n",
              "      <td>80.0000</td>\n",
              "      <td>B28</td>\n",
              "      <td>1</td>\n",
              "      <td>1.0</td>\n",
              "    </tr>\n",
              "    <tr>\n",
              "      <th>829</th>\n",
              "      <td>Stone, Mrs. George Nelson (Martha Evelyn)</td>\n",
              "      <td>113572</td>\n",
              "      <td>80.0000</td>\n",
              "      <td>B28</td>\n",
              "      <td>1</td>\n",
              "      <td>1.0</td>\n",
              "    </tr>\n",
              "  </tbody>\n",
              "</table>\n",
              "</div>"
            ],
            "text/plain": [
              "                                          Name    Ticket  ...  Family_size Survived\n",
              "6                      McCarthy, Mr. Timothy J     17463  ...            1      0.0\n",
              "20                        Fynney, Mr. Joseph J    239865  ...            1      0.0\n",
              "791                        Gaskell, Mr. Alfred    239865  ...            1      0.0\n",
              "195                       Lurette, Miss. Elise  PC 17569  ...            1      1.0\n",
              "681                         Hassab, Mr. Hammad  PC 17572  ...            1      1.0\n",
              "61                         Icard, Miss. Amelie    113572  ...            1      1.0\n",
              "829  Stone, Mrs. George Nelson (Martha Evelyn)    113572  ...            1      1.0\n",
              "\n",
              "[7 rows x 6 columns]"
            ]
          },
          "metadata": {
            "tags": []
          }
        },
        {
          "output_type": "display_data",
          "data": {
            "text/html": [
              "<div>\n",
              "<style scoped>\n",
              "    .dataframe tbody tr th:only-of-type {\n",
              "        vertical-align: middle;\n",
              "    }\n",
              "\n",
              "    .dataframe tbody tr th {\n",
              "        vertical-align: top;\n",
              "    }\n",
              "\n",
              "    .dataframe thead th {\n",
              "        text-align: right;\n",
              "    }\n",
              "</style>\n",
              "<table border=\"1\" class=\"dataframe\">\n",
              "  <thead>\n",
              "    <tr style=\"text-align: right;\">\n",
              "      <th></th>\n",
              "      <th>Name</th>\n",
              "      <th>Ticket</th>\n",
              "      <th>Fare</th>\n",
              "      <th>Cabin</th>\n",
              "      <th>Family_size</th>\n",
              "      <th>Survived</th>\n",
              "    </tr>\n",
              "  </thead>\n",
              "  <tbody>\n",
              "    <tr>\n",
              "      <th>1</th>\n",
              "      <td>Cumings, Mrs. John Bradley (Florence Briggs Th...</td>\n",
              "      <td>PC 17599</td>\n",
              "      <td>71.2833</td>\n",
              "      <td>C85</td>\n",
              "      <td>2</td>\n",
              "      <td>1.0</td>\n",
              "    </tr>\n",
              "    <tr>\n",
              "      <th>3</th>\n",
              "      <td>Futrelle, Mrs. Jacques Heath (Lily May Peel)</td>\n",
              "      <td>113803</td>\n",
              "      <td>53.1000</td>\n",
              "      <td>C123</td>\n",
              "      <td>2</td>\n",
              "      <td>1.0</td>\n",
              "    </tr>\n",
              "    <tr>\n",
              "      <th>137</th>\n",
              "      <td>Futrelle, Mr. Jacques Heath</td>\n",
              "      <td>113803</td>\n",
              "      <td>53.1000</td>\n",
              "      <td>C123</td>\n",
              "      <td>2</td>\n",
              "      <td>0.0</td>\n",
              "    </tr>\n",
              "    <tr>\n",
              "      <th>7</th>\n",
              "      <td>Palsson, Master. Gosta Leonard</td>\n",
              "      <td>349909</td>\n",
              "      <td>21.0750</td>\n",
              "      <td>NaN</td>\n",
              "      <td>5</td>\n",
              "      <td>0.0</td>\n",
              "    </tr>\n",
              "    <tr>\n",
              "      <th>24</th>\n",
              "      <td>Palsson, Miss. Torborg Danira</td>\n",
              "      <td>349909</td>\n",
              "      <td>21.0750</td>\n",
              "      <td>NaN</td>\n",
              "      <td>5</td>\n",
              "      <td>0.0</td>\n",
              "    </tr>\n",
              "    <tr>\n",
              "      <th>374</th>\n",
              "      <td>Palsson, Miss. Stina Viola</td>\n",
              "      <td>349909</td>\n",
              "      <td>21.0750</td>\n",
              "      <td>NaN</td>\n",
              "      <td>5</td>\n",
              "      <td>0.0</td>\n",
              "    </tr>\n",
              "    <tr>\n",
              "      <th>567</th>\n",
              "      <td>Palsson, Mrs. Nils (Alma Cornelia Berglund)</td>\n",
              "      <td>349909</td>\n",
              "      <td>21.0750</td>\n",
              "      <td>NaN</td>\n",
              "      <td>5</td>\n",
              "      <td>0.0</td>\n",
              "    </tr>\n",
              "  </tbody>\n",
              "</table>\n",
              "</div>"
            ],
            "text/plain": [
              "                                                  Name  ... Survived\n",
              "1    Cumings, Mrs. John Bradley (Florence Briggs Th...  ...      1.0\n",
              "3         Futrelle, Mrs. Jacques Heath (Lily May Peel)  ...      1.0\n",
              "137                        Futrelle, Mr. Jacques Heath  ...      0.0\n",
              "7                       Palsson, Master. Gosta Leonard  ...      0.0\n",
              "24                       Palsson, Miss. Torborg Danira  ...      0.0\n",
              "374                         Palsson, Miss. Stina Viola  ...      0.0\n",
              "567        Palsson, Mrs. Nils (Alma Cornelia Berglund)  ...      0.0\n",
              "\n",
              "[7 rows x 6 columns]"
            ]
          },
          "metadata": {
            "tags": []
          }
        },
        {
          "output_type": "stream",
          "text": [
            "people keep the same ticket: 596 \n",
            "friends: 127 \n",
            "families: 469 \n"
          ],
          "name": "stdout"
        }
      ]
    },
    {
      "cell_type": "code",
      "metadata": {
        "ExecuteTime": {
          "end_time": "2018-06-17T05:42:35.604574Z",
          "start_time": "2018-06-17T05:42:32.466347Z"
        },
        "id": "vcZVunejSOfK",
        "colab_type": "code",
        "colab": {
          "base_uri": "https://localhost:8080/",
          "height": 206
        },
        "outputId": "03caa325-44dd-4ee2-f833-ff1f6923bdca"
      },
      "source": [
        "# the same ticket family or friends\n",
        "df_data['Connected_Survival'] = 0.5 # default \n",
        "for _, df_grp in df_data.groupby('Ticket'):\n",
        "    if (len(df_grp) > 1):\n",
        "        for ind, row in df_grp.iterrows():\n",
        "            smax = df_grp.drop(ind)['Survived'].max()\n",
        "            smin = df_grp.drop(ind)['Survived'].min()\n",
        "            passID = row['PassengerId']\n",
        "            if (smax == 1.0):\n",
        "                df_data.loc[df_data['PassengerId'] == passID, 'Connected_Survival'] = 1\n",
        "            elif (smin==0.0):\n",
        "                df_data.loc[df_data['PassengerId'] == passID, 'Connected_Survival'] = 0\n",
        "#print\n",
        "print('people keep the same ticket: %.0f '%len(deplicate_ticket))\n",
        "print(\"people have connected information : %.0f\" \n",
        "      %(df_data[df_data['Connected_Survival']!=0.5].shape[0]))\n",
        "df_data.groupby('Connected_Survival')[['Survived']].mean().round(3)"
      ],
      "execution_count": 29,
      "outputs": [
        {
          "output_type": "stream",
          "text": [
            "people keep the same ticket: 596 \n",
            "people have connected information : 496\n"
          ],
          "name": "stdout"
        },
        {
          "output_type": "execute_result",
          "data": {
            "text/html": [
              "<div>\n",
              "<style scoped>\n",
              "    .dataframe tbody tr th:only-of-type {\n",
              "        vertical-align: middle;\n",
              "    }\n",
              "\n",
              "    .dataframe tbody tr th {\n",
              "        vertical-align: top;\n",
              "    }\n",
              "\n",
              "    .dataframe thead th {\n",
              "        text-align: right;\n",
              "    }\n",
              "</style>\n",
              "<table border=\"1\" class=\"dataframe\">\n",
              "  <thead>\n",
              "    <tr style=\"text-align: right;\">\n",
              "      <th></th>\n",
              "      <th>Survived</th>\n",
              "    </tr>\n",
              "    <tr>\n",
              "      <th>Connected_Survival</th>\n",
              "      <th></th>\n",
              "    </tr>\n",
              "  </thead>\n",
              "  <tbody>\n",
              "    <tr>\n",
              "      <th>0.0</th>\n",
              "      <td>0.225</td>\n",
              "    </tr>\n",
              "    <tr>\n",
              "      <th>0.5</th>\n",
              "      <td>0.298</td>\n",
              "    </tr>\n",
              "    <tr>\n",
              "      <th>1.0</th>\n",
              "      <td>0.728</td>\n",
              "    </tr>\n",
              "  </tbody>\n",
              "</table>\n",
              "</div>"
            ],
            "text/plain": [
              "                    Survived\n",
              "Connected_Survival          \n",
              "0.0                    0.225\n",
              "0.5                    0.298\n",
              "1.0                    0.728"
            ]
          },
          "metadata": {
            "tags": []
          },
          "execution_count": 29
        }
      ]
    },
    {
      "cell_type": "code",
      "metadata": {
        "ExecuteTime": {
          "end_time": "2018-06-17T05:42:38.687011Z",
          "start_time": "2018-06-17T05:42:38.677016Z"
        },
        "id": "t2bU7qixSOfM",
        "colab_type": "code",
        "colab": {}
      },
      "source": [
        "df_train = df_data[:len(df_train)]\n",
        "df_test = df_data[len(df_train):]\n",
        "# Training set and labels\n",
        "X = df_train.drop(labels=['Survived','PassengerId'],axis=1)\n",
        "Y = df_train['Survived']"
      ],
      "execution_count": 0,
      "outputs": []
    },
    {
      "cell_type": "code",
      "metadata": {
        "ExecuteTime": {
          "end_time": "2018-06-17T05:42:40.854872Z",
          "start_time": "2018-06-17T05:42:40.316171Z"
        },
        "id": "pTECOXIvSOfP",
        "colab_type": "code",
        "colab": {
          "base_uri": "https://localhost:8080/",
          "height": 35
        },
        "outputId": "3b9a4b88-da43-4e5c-b744-73ccf2413c51"
      },
      "source": [
        "connect = ['Sex_Code','Pclass','FareBin_Code_5','Connected_Survival']\n",
        "connect_Model = RandomForestClassifier(random_state=2,n_estimators=250,min_samples_split=20\n",
        "                                       ,oob_score=True)\n",
        "connect_Model.fit(X[connect], Y)\n",
        "print('connect oob score :%.5f' %(connect_Model.oob_score_))"
      ],
      "execution_count": 31,
      "outputs": [
        {
          "output_type": "stream",
          "text": [
            "connect oob score :0.82043\n"
          ],
          "name": "stdout"
        }
      ]
    },
    {
      "cell_type": "code",
      "metadata": {
        "ExecuteTime": {
          "end_time": "2018-06-17T05:42:42.218064Z",
          "start_time": "2018-06-17T05:42:42.152101Z"
        },
        "id": "UM04dGhmSOfR",
        "colab_type": "code",
        "colab": {}
      },
      "source": [
        "# submits\n",
        "X_Submit = df_test.drop(labels=['PassengerId'],axis=1)\n",
        "\n",
        "connect_pred = connect_Model.predict(X_Submit[connect])\n",
        "\n",
        "submit = pd.DataFrame({\"PassengerId\": df_test['PassengerId'],\n",
        "                      \"Survived\":connect_pred.astype(int)})\n",
        "submit.to_csv(\"submit_connect.csv\",index=False)"
      ],
      "execution_count": 0,
      "outputs": []
    },
    {
      "cell_type": "code",
      "metadata": {
        "ExecuteTime": {
          "end_time": "2018-06-17T05:42:44.752725Z",
          "start_time": "2018-06-17T05:42:44.210035Z"
        },
        "id": "eEKb4sDPSOfV",
        "colab_type": "code",
        "colab": {
          "base_uri": "https://localhost:8080/",
          "height": 453
        },
        "outputId": "2a63f6aa-c681-43dd-bf19-5221583d0021"
      },
      "source": [
        "df_data['Has_Age'] = df_data['Age'].isnull().map(lambda x : 0 if x == True else 1)\n",
        "fig, [ax1, ax2] = plt.subplots(1, 2)\n",
        "fig.set_figwidth(18)\n",
        "ax1 = sns.countplot(df_data['Pclass'],hue=df_data['Has_Age'],ax=ax1)\n",
        "ax2 = sns.countplot(df_data['Sex'],hue=df_data['Has_Age'],ax=ax2)\n",
        "pd.crosstab(df_data['Has_Age'],df_data['Sex'],margins=True).round(3)"
      ],
      "execution_count": 33,
      "outputs": [
        {
          "output_type": "execute_result",
          "data": {
            "text/html": [
              "<div>\n",
              "<style scoped>\n",
              "    .dataframe tbody tr th:only-of-type {\n",
              "        vertical-align: middle;\n",
              "    }\n",
              "\n",
              "    .dataframe tbody tr th {\n",
              "        vertical-align: top;\n",
              "    }\n",
              "\n",
              "    .dataframe thead th {\n",
              "        text-align: right;\n",
              "    }\n",
              "</style>\n",
              "<table border=\"1\" class=\"dataframe\">\n",
              "  <thead>\n",
              "    <tr style=\"text-align: right;\">\n",
              "      <th>Sex</th>\n",
              "      <th>female</th>\n",
              "      <th>male</th>\n",
              "      <th>All</th>\n",
              "    </tr>\n",
              "    <tr>\n",
              "      <th>Has_Age</th>\n",
              "      <th></th>\n",
              "      <th></th>\n",
              "      <th></th>\n",
              "    </tr>\n",
              "  </thead>\n",
              "  <tbody>\n",
              "    <tr>\n",
              "      <th>0</th>\n",
              "      <td>78</td>\n",
              "      <td>185</td>\n",
              "      <td>263</td>\n",
              "    </tr>\n",
              "    <tr>\n",
              "      <th>1</th>\n",
              "      <td>388</td>\n",
              "      <td>658</td>\n",
              "      <td>1046</td>\n",
              "    </tr>\n",
              "    <tr>\n",
              "      <th>All</th>\n",
              "      <td>466</td>\n",
              "      <td>843</td>\n",
              "      <td>1309</td>\n",
              "    </tr>\n",
              "  </tbody>\n",
              "</table>\n",
              "</div>"
            ],
            "text/plain": [
              "Sex      female  male   All\n",
              "Has_Age                    \n",
              "0            78   185   263\n",
              "1           388   658  1046\n",
              "All         466   843  1309"
            ]
          },
          "metadata": {
            "tags": []
          },
          "execution_count": 33
        },
        {
          "output_type": "display_data",
          "data": {
            "image/png": "[encoded data removed]",
            "text/plain": [
              "<Figure size 1296x288 with 2 Axes>"
            ]
          },
          "metadata": {
            "tags": []
          }
        }
      ]
    },
    {
      "cell_type": "code",
      "metadata": {
        "ExecuteTime": {
          "end_time": "2018-06-17T05:42:46.988463Z",
          "start_time": "2018-06-17T05:42:46.525728Z"
        },
        "id": "_Ihe-I2OSOfX",
        "colab_type": "code",
        "colab": {
          "base_uri": "https://localhost:8080/",
          "height": 609
        },
        "outputId": "8205d6cf-c54a-4dda-8dc1-7f9a616cea86"
      },
      "source": [
        "# Masks\n",
        "Mask_Has_Age_P12_Survived = ( (df_data.Has_Age == 1) & (df_data.Pclass != 3 ) & (df_data.Survived == 1) )\n",
        "Mask_Has_Age_P12_Dead = ( (df_data.Has_Age == 1) & (df_data.Pclass != 3 ) & (df_data.Survived == 0) )\n",
        "# Plot\n",
        "fig, ax = plt.subplots( figsize = (15,9) )\n",
        "ax = sns.distplot(df_data.loc[Mask_Has_Age_P12_Survived, 'Age'],kde=False,bins=10,norm_hist=True,label='Survived') \n",
        "ax = sns.distplot(df_data.loc[Mask_Has_Age_P12_Dead, 'Age'],kde=False,bins=10,norm_hist=True,label='Dead')\n",
        "ax.legend()\n",
        "ax.set_title('Age vs Survived in Pclass = 1 and  2',fontsize = 20)"
      ],
      "execution_count": 34,
      "outputs": [
        {
          "output_type": "execute_result",
          "data": {
            "text/plain": [
              "Text(0.5, 1.0, 'Age vs Survived in Pclass = 1 and  2')"
            ]
          },
          "metadata": {
            "tags": []
          },
          "execution_count": 34
        },
        {
          "output_type": "display_data",
          "data": {
            "image/png": "[encoded data removed]",
            "text/plain": [
              "<Figure size 1080x648 with 1 Axes>"
            ]
          },
          "metadata": {
            "tags": []
          }
        }
      ]
    },
    {
      "cell_type": "code",
      "metadata": {
        "ExecuteTime": {
          "end_time": "2018-06-17T05:42:49.347295Z",
          "start_time": "2018-06-17T05:42:49.313313Z"
        },
        "id": "w9VkGKZESOfa",
        "colab_type": "code",
        "colab": {
          "base_uri": "https://localhost:8080/",
          "height": 139
        },
        "outputId": "704823af-2cd4-4b63-90d7-96d8f7449fe1"
      },
      "source": [
        "# extracted title using name\n",
        "df_data['Title'] = df_data.Name.str.extract(' ([A-Za-z]+)\\.', expand=False)\n",
        "df_data['Title'] = df_data['Title'].replace(['Capt', 'Col', 'Countess', 'Don',\n",
        "                                               'Dr', 'Dona', 'Jonkheer', \n",
        "                                                'Major','Rev','Sir'],'Rare') \n",
        "df_data['Title'] = df_data['Title'].replace(['Mlle', 'Ms','Mme'],'Miss')\n",
        "df_data['Title'] = df_data['Title'].replace(['Lady'],'Mrs')\n",
        "df_data['Title'] = df_data['Title'].map({\"Mr\":0, \"Rare\" : 1, \"Master\" : 2,\"Miss\" : 3, \"Mrs\" : 4 })\n",
        "Ti = df_data.groupby('Title')['Age'].median()\n",
        "Ti"
      ],
      "execution_count": 35,
      "outputs": [
        {
          "output_type": "execute_result",
          "data": {
            "text/plain": [
              "Title\n",
              "0    29.0\n",
              "1    47.0\n",
              "2     4.0\n",
              "3    22.0\n",
              "4    36.0\n",
              "Name: Age, dtype: float64"
            ]
          },
          "metadata": {
            "tags": []
          },
          "execution_count": 35
        }
      ]
    },
    {
      "cell_type": "code",
      "metadata": {
        "ExecuteTime": {
          "end_time": "2018-06-17T05:42:51.348720Z",
          "start_time": "2018-06-17T05:42:51.317738Z"
        },
        "id": "fA30AqBgSOfc",
        "colab_type": "code",
        "colab": {}
      },
      "source": [
        "Ti_pred = df_data.groupby('Title')['Age'].median().values\n",
        "df_data['Ti_Age'] = df_data['Age']\n",
        "# Filling the missing age\n",
        "for i in range(0,5):\n",
        " # 0 1 2 3 4 5\n",
        "    df_data.loc[(df_data.Age.isnull()) & (df_data.Title == i),'Ti_Age'] = Ti_pred[i]\n",
        "df_data['Ti_Age'] = df_data['Ti_Age'].astype('int')\n",
        "df_data['Ti_Minor'] = ((df_data['Ti_Age']) < 16.0) * 1"
      ],
      "execution_count": 0,
      "outputs": []
    },
    {
      "cell_type": "code",
      "metadata": {
        "ExecuteTime": {
          "end_time": "2018-06-17T05:42:53.084747Z",
          "start_time": "2018-06-17T05:42:53.071753Z"
        },
        "id": "CR4zw_yiSOfe",
        "colab_type": "code",
        "colab": {}
      },
      "source": [
        "# splits again beacuse we just engineered new feature\n",
        "df_train = df_data[:len(df_train)]\n",
        "df_test = df_data[len(df_train):]\n",
        "# Training set and labels\n",
        "X = df_train.drop(labels=['Survived','PassengerId'],axis=1)\n",
        "Y = df_train['Survived']"
      ],
      "execution_count": 0,
      "outputs": []
    },
    {
      "cell_type": "code",
      "metadata": {
        "ExecuteTime": {
          "end_time": "2018-06-17T05:42:55.315483Z",
          "start_time": "2018-06-17T05:42:54.700833Z"
        },
        "id": "-6QpHOh8SOfg",
        "colab_type": "code",
        "colab": {
          "base_uri": "https://localhost:8080/",
          "height": 35
        },
        "outputId": "a34d89f2-0964-4b92-db9e-3f1b391758a2"
      },
      "source": [
        "minor = ['Sex_Code','Pclass','FareBin_Code_5','Connected_Survival','Ti_Minor']\n",
        "minor_Model = RandomForestClassifier(random_state=2,n_estimators=250,min_samples_split=20,oob_score=True)\n",
        "minor_Model.fit(X[minor], Y)\n",
        "print('minor oob score :%.5f' %(minor_Model.oob_score_))"
      ],
      "execution_count": 38,
      "outputs": [
        {
          "output_type": "stream",
          "text": [
            "minor oob score :0.84175\n"
          ],
          "name": "stdout"
        }
      ]
    },
    {
      "cell_type": "code",
      "metadata": {
        "ExecuteTime": {
          "end_time": "2018-06-17T05:42:56.575819Z",
          "start_time": "2018-06-17T05:42:56.513836Z"
        },
        "id": "l3BejOUDSOfi",
        "colab_type": "code",
        "colab": {}
      },
      "source": [
        "# submits\n",
        "X_Submit = df_test.drop(labels=['PassengerId'],axis=1)\n",
        "\n",
        "minor_pred = minor_Model.predict(X_Submit[minor])\n",
        "\n",
        "submit = pd.DataFrame({\"PassengerId\": df_test['PassengerId'],\n",
        "                      \"Survived\":minor_pred.astype(int)})\n",
        "submit.to_csv(\"submit_minor.csv\",index=False)"
      ],
      "execution_count": 0,
      "outputs": []
    },
    {
      "cell_type": "code",
      "metadata": {
        "ExecuteTime": {
          "end_time": "2018-06-17T05:44:27.886875Z",
          "start_time": "2018-06-17T05:44:27.254237Z"
        },
        "id": "WjzLgA3RSOfl",
        "colab_type": "code",
        "colab": {
          "base_uri": "https://localhost:8080/",
          "height": 350
        },
        "outputId": "277cc440-ae0c-4bb6-d485-730a198c49d2"
      },
      "source": [
        "g = sns.factorplot(x='Family_size', y='Survived',data=df_data)\n",
        "g = g.set_ylabels(\"Survival Probability\")"
      ],
      "execution_count": 40,
      "outputs": [
        {
          "output_type": "display_data",
          "data": {
            "image/png": "[encoded data removed]",
            "text/plain": [
              "<Figure size 360x360 with 1 Axes>"
            ]
          },
          "metadata": {
            "tags": []
          }
        }
      ]
    },
    {
      "cell_type": "code",
      "metadata": {
        "ExecuteTime": {
          "end_time": "2018-06-17T05:52:45.139124Z",
          "start_time": "2018-06-17T05:52:45.095147Z"
        },
        "id": "1L3vu0avSOfn",
        "colab_type": "code",
        "colab": {
          "base_uri": "https://localhost:8080/",
          "height": 171
        },
        "outputId": "b0ee2a1f-df12-4b44-d6da-6a626d750c3c"
      },
      "source": [
        "# cut into 3 class\n",
        "df_data['L_Family'] = df_data['Family_size'].apply(lambda x: 0 if x<= 4 else 1).astype(int)\n",
        "df_data.loc[ df_data['Family_size'] == 1, 'FamilyClass'] = 0\n",
        "df_data.loc[ (df_data['Family_size'] <= 4) & (df_data['Family_size'] > 1), 'FamilyClass'] = 1\n",
        "df_data.loc[ df_data['Family_size'] >= 5, 'FamilyClass'] = 2\n",
        "df_data['FamilyClass'] = df_data['FamilyClass'].astype(int) \n",
        "df_data[['FamilyClass','Survived']].groupby(['FamilyClass']).mean()"
      ],
      "execution_count": 41,
      "outputs": [
        {
          "output_type": "execute_result",
          "data": {
            "text/html": [
              "<div>\n",
              "<style scoped>\n",
              "    .dataframe tbody tr th:only-of-type {\n",
              "        vertical-align: middle;\n",
              "    }\n",
              "\n",
              "    .dataframe tbody tr th {\n",
              "        vertical-align: top;\n",
              "    }\n",
              "\n",
              "    .dataframe thead th {\n",
              "        text-align: right;\n",
              "    }\n",
              "</style>\n",
              "<table border=\"1\" class=\"dataframe\">\n",
              "  <thead>\n",
              "    <tr style=\"text-align: right;\">\n",
              "      <th></th>\n",
              "      <th>Survived</th>\n",
              "    </tr>\n",
              "    <tr>\n",
              "      <th>FamilyClass</th>\n",
              "      <th></th>\n",
              "    </tr>\n",
              "  </thead>\n",
              "  <tbody>\n",
              "    <tr>\n",
              "      <th>0</th>\n",
              "      <td>0.303538</td>\n",
              "    </tr>\n",
              "    <tr>\n",
              "      <th>1</th>\n",
              "      <td>0.578767</td>\n",
              "    </tr>\n",
              "    <tr>\n",
              "      <th>2</th>\n",
              "      <td>0.161290</td>\n",
              "    </tr>\n",
              "  </tbody>\n",
              "</table>\n",
              "</div>"
            ],
            "text/plain": [
              "             Survived\n",
              "FamilyClass          \n",
              "0            0.303538\n",
              "1            0.578767\n",
              "2            0.161290"
            ]
          },
          "metadata": {
            "tags": []
          },
          "execution_count": 41
        }
      ]
    },
    {
      "cell_type": "code",
      "metadata": {
        "ExecuteTime": {
          "end_time": "2018-06-17T06:26:53.151388Z",
          "start_time": "2018-06-17T06:26:52.753616Z"
        },
        "id": "_GHvomAQSOfp",
        "colab_type": "code",
        "colab": {
          "base_uri": "https://localhost:8080/",
          "height": 343
        },
        "outputId": "484956f2-ee92-4044-f5ac-fbcf9352ba82"
      },
      "source": [
        "# display(pd.crosstab(df_data['Sex'],df_data['Family_size'],margins=True))\n",
        "# visualize\n",
        "pd.crosstab(df_data['Family_size'],df_data['Sex']).plot(kind='bar',stacked=True,title=\"Sex\")"
      ],
      "execution_count": 42,
      "outputs": [
        {
          "output_type": "execute_result",
          "data": {
            "text/plain": [
              "<matplotlib.axes._subplots.AxesSubplot at 0x7f067f659668>"
            ]
          },
          "metadata": {
            "tags": []
          },
          "execution_count": 42
        },
        {
          "output_type": "display_data",
          "data": {
            "image/png": "[encoded data removed]",
            "text/plain": [
              "<Figure size 432x288 with 1 Axes>"
            ]
          },
          "metadata": {
            "tags": []
          }
        }
      ]
    },
    {
      "cell_type": "code",
      "metadata": {
        "ExecuteTime": {
          "end_time": "2018-06-17T06:54:23.105882Z",
          "start_time": "2018-06-17T06:54:22.493231Z"
        },
        "id": "bOgA7J-4SOfs",
        "colab_type": "code",
        "colab": {}
      },
      "source": [
        ""
      ],
      "execution_count": 0,
      "outputs": []
    },
    {
      "cell_type": "code",
      "metadata": {
        "ExecuteTime": {
          "end_time": "2018-06-17T06:56:57.393632Z",
          "start_time": "2018-06-17T06:56:56.787977Z"
        },
        "id": "JVcfPnkkSOfu",
        "colab_type": "code",
        "colab": {
          "base_uri": "https://localhost:8080/",
          "height": 343
        },
        "outputId": "abadf9aa-51e0-4dbf-e93f-ae3eabe56547"
      },
      "source": [
        "Minor_mask = (df_data.Ti_Minor == 1)\n",
        "fig, [ax1, ax2] = plt.subplots(1, 2)\n",
        "fig.set_figwidth(18)\n",
        "sns.countplot(df_data[Minor_mask]['Family_size'],ax=ax1)\n",
        "ax1.set_title(\"Minor counts\")\n",
        "pd.crosstab(df_data[Minor_mask]['Family_size'],df_data[Minor_mask]['Survived'])\\\n",
        ".plot(kind='bar',stacked=True,title=\"Survived Minor counts\",ax=ax2)"
      ],
      "execution_count": 43,
      "outputs": [
        {
          "output_type": "execute_result",
          "data": {
            "text/plain": [
              "<matplotlib.axes._subplots.AxesSubplot at 0x7f067f744d68>"
            ]
          },
          "metadata": {
            "tags": []
          },
          "execution_count": 43
        },
        {
          "output_type": "display_data",
          "data": {
            "image/png": "[encoded data removed]",
            "text/plain": [
              "<Figure size 1296x288 with 2 Axes>"
            ]
          },
          "metadata": {
            "tags": []
          }
        }
      ]
    }
  ]
}