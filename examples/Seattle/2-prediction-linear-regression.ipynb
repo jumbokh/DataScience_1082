{
 "cells": [
  {
   "cell_type": "code",
   "execution_count": null,
   "metadata": {},
   "outputs": [],
   "source": [
    "%matplotlib inline\n",
    "import matplotlib.pyplot as plt\n",
    "import numpy as np\n",
    "import pandas as pd\n",
    "import seaborn as sns\n",
    "sns.set()"
   ]
  },
  {
   "cell_type": "code",
   "execution_count": null,
   "metadata": {},
   "outputs": [],
   "source": [
    "df = pd.read_csv('data/processed_data.csv', index_col=0, parse_dates=True)"
   ]
  },
  {
   "cell_type": "code",
   "execution_count": null,
   "metadata": {},
   "outputs": [],
   "source": [
    "df.head(5)"
   ]
  },
  {
   "cell_type": "code",
   "execution_count": null,
   "metadata": {},
   "outputs": [],
   "source": [
    "df['Date'] = pd.to_datetime(df['Date'])\n",
    "df.dtypes"
   ]
  },
  {
   "cell_type": "code",
   "execution_count": null,
   "metadata": {},
   "outputs": [],
   "source": [
    "df = df.set_index('Date')\n",
    "df.head(5)"
   ]
  },
  {
   "cell_type": "code",
   "execution_count": null,
   "metadata": {},
   "outputs": [],
   "source": [
    "df.shape"
   ]
  },
  {
   "cell_type": "code",
   "execution_count": null,
   "metadata": {},
   "outputs": [],
   "source": [
    "df.columns"
   ]
  },
  {
   "cell_type": "code",
   "execution_count": null,
   "metadata": {},
   "outputs": [],
   "source": [
    "# fit_intercept : whether to calculate the intercept for this model. \n",
    "# If set to False, no intercept will be used in calculations (e.g. data is expected to be already centered).\n",
    "# In this use case, we'll set fit_intercept = False, \n",
    "# because the daily flags essentially operate as their own day-specific intercepts\n",
    "indep_cols = ['Mon', 'Tue', 'Wed', 'Thu', 'Fri', 'Sat', 'Sun',\n",
    "       'holiday', 'DayLightHrs', 'AvgTempInC', 'PRCP_IN', 'DryDay','YearsCount']\n",
    "x = df[indep_cols]\n",
    "y = df['TotalBikesCount']"
   ]
  },
  {
   "cell_type": "code",
   "execution_count": null,
   "metadata": {},
   "outputs": [],
   "source": [
    "from sklearn.linear_model import LinearRegression\n",
    "\n",
    "model = LinearRegression(fit_intercept=False)\n",
    "model.fit(x, y)"
   ]
  },
  {
   "cell_type": "code",
   "execution_count": null,
   "metadata": {},
   "outputs": [],
   "source": [
    "predictions = model.predict(x)\n",
    "predictions"
   ]
  },
  {
   "cell_type": "code",
   "execution_count": null,
   "metadata": {},
   "outputs": [],
   "source": [
    "df1= df[['TotalBikesCount']].copy()\n",
    "df1['Predictions'] = predictions\n",
    "df1.head(5)"
   ]
  },
  {
   "cell_type": "code",
   "execution_count": null,
   "metadata": {},
   "outputs": [],
   "source": [
    "import datetime as dt\n",
    "df1.plot(alpha=0.4, figsize=(18,5), color=['r','g'])\n",
    "plt.legend(loc='upper left')\n",
    "plt.show()\n",
    "# If x-axis doesn't show years, make sure the 'Date' column was converted to datetime from String, before it was set as index"
   ]
  },
  {
   "cell_type": "markdown",
   "metadata": {},
   "source": [
    "It is evident that we have missed some key features, especially during the summer time. Either our features are not complete (i.e., people decide whether to ride to work based on more than just these) or there are some nonlinear relationships that we have failed to take into account (e.g., perhaps people ride less at both high and low temperatures).\n",
    "\n",
    "Nevertheless, our rough approximation is enough to give us some insights, and we can take a look at the coefficients of the linear model to estimate how much each feature contributes to the daily bicycle count:"
   ]
  },
  {
   "cell_type": "code",
   "execution_count": null,
   "metadata": {},
   "outputs": [],
   "source": [
    "model.coef_"
   ]
  },
  {
   "cell_type": "code",
   "execution_count": null,
   "metadata": {},
   "outputs": [],
   "source": [
    "coeffs = pd.Series(model.coef_, index=x.columns)\n",
    "coeffs"
   ]
  },
  {
   "cell_type": "markdown",
   "metadata": {},
   "source": [
    "These numbers are difficult to interpret without some measure of their uncertainty. \n",
    "\n",
    "We can compute these uncertainties quickly using bootstrap resamplings of the data:"
   ]
  },
  {
   "cell_type": "code",
   "execution_count": null,
   "metadata": {},
   "outputs": [],
   "source": [
    "# Karthik's Playground\n",
    "# The bootstrap/resapling is mainly used for test statistics rather than regression coefficients.\n",
    "from sklearn.utils import resample\n",
    "model.fit(x, y)\n",
    "print('model.coef_',model.coef_)\n",
    "model.fit(*resample(x, y))\n",
    "print('model.coef_',model.coef_)\n",
    "model.fit(*resample(x, y))\n",
    "print('model.coef_',model.coef_)\n",
    "print('Why are the  coefficients different with data resampling/shuffling? Only the order of the data is changed and not the data itself, right?')\n",
    "\n",
    "\n",
    "temp = np.asarray([\n",
    "                [1,1,2,3,4], # 1st row\n",
    "                [2,6,7,8,9], # 2nd row\n",
    "                [3,6,7,8,9], # 3rd row\n",
    "                [4,6,7,8,9], # 4th row\n",
    "                [5,6,7,8,9]  # 5th row\n",
    "              ])\n",
    "print('temp :',temp)\n",
    "print('temp resampled :',resample(temp))\n",
    "print('Resampled data is different and seems close to the original one. And now you know why the coefficients are different.')"
   ]
  },
  {
   "cell_type": "code",
   "execution_count": null,
   "metadata": {},
   "outputs": [],
   "source": [
    "from sklearn.utils import resample\n",
    "np.random.seed(1)\n",
    "coeffs_tmp = [model.fit(*resample(x, y)).coef_ for i in range(1000)]\n",
    "err = np.std(coeffs_tmp,0) #Columnar STD"
   ]
  },
  {
   "cell_type": "code",
   "execution_count": null,
   "metadata": {},
   "outputs": [],
   "source": [
    "# With these errors estimated, let's again look at the results:\n",
    "print(pd.DataFrame({'effect': coeffs.round(0),\n",
    "                    'error': err.round(0)}))"
   ]
  },
  {
   "cell_type": "markdown",
   "metadata": {},
   "source": [
    "#### Observations\n",
    "* We first see that there is a relatively stable trend in the weekly baseline: there are many more riders on weekdays than on weekends and holidays.\n",
    "* We see that for each additional hour of daylight, 121 ± 7 more people choose to ride; \n",
    "* A temperature increase of one degree Celsius encourages 390 ± 16 people to grab their bicycle; \n",
    "* A dry day means an average of 513 ± 25 more riders, and \n",
    "* Each inch of precipitation means 180406 ± 11018 more people leave their bike at home. \n",
    "* Once all these effects are accounted for, we see a modest increase of 30 ± 6 new daily riders each year."
   ]
  }
 ],
 "metadata": {
  "kernelspec": {
   "display_name": "Python 3",
   "language": "python",
   "name": "python3"
  },
  "language_info": {
   "codemirror_mode": {
    "name": "ipython",
    "version": 3
   },
   "file_extension": ".py",
   "mimetype": "text/x-python",
   "name": "python",
   "nbconvert_exporter": "python",
   "pygments_lexer": "ipython3",
   "version": "3.6.4"
  }
 },
 "nbformat": 4,
 "nbformat_minor": 2
}
